{
 "cells": [
  {
   "cell_type": "markdown",
   "id": "9695b958",
   "metadata": {},
   "source": [
    "# Part I\n",
    "\n",
    "##### Authors: Yimin You"
   ]
  },
  {
   "cell_type": "markdown",
   "id": "b29cc9f3",
   "metadata": {},
   "source": [
    "## Introduction\n"
   ]
  },
  {
   "cell_type": "markdown",
   "id": "0965651f-a678-4d7d-9415-150275b0cceb",
   "metadata": {},
   "source": [
    "* 1, estimate the average song duration in the playlist\n",
    "* 2, a continuous analysis (parameter of interest is the mean song duration) and a binary analysis (parameter of interest is the proportion of songs longer than 180 seconds).\n",
    "* 3, first: will be a Simple Random Sample, second: Stratified Sample stratified by song duration.\n",
    "\n",
    "The dataset is collected from UCI Machine Learning Repository and the extraction was done by Barry Becker from the 1994 Census database.\n",
    "The group will consider two response variables in the population. One of the parameters is the age of our samples, which we will treat as a continuous variable, and the other is the income, which in our dataset, is a factor with two levels: less than 50k, or more than 50k. We will then conduct both simple random sampling and stratified sampling method on continuous variable to estimate the mean age and binary variables to estimate the proportion of people with income over? 50k a year.\n"
   ]
  },
  {
   "cell_type": "markdown",
   "id": "3c94e4a5",
   "metadata": {},
   "source": [
    "## Population Parameters"
   ]
  },
  {
   "cell_type": "markdown",
   "id": "0dd3fd07-85bb-4369-9876-ba8150c3582f",
   "metadata": {},
   "source": [
    "* 1, decide required sample size(N)\n",
    "* 2, sample size for continuous population\n",
    "* 3, sample size for binary population\n"
   ]
  },
  {
   "cell_type": "markdown",
   "id": "3b11efa5-8627-4209-96a1-c21e1fe0cc50",
   "metadata": {},
   "source": [
    "## Data Summarizing\n",
    "\n",
    "Once we load the data into R, we can see that our population size is 32561. From here, we decide on a sample size. For now, we arbitrarily decide on the number 2000, as it is reasonably sized, (can be realistically obtained by a method such as an online survey) and it is a nice number to split up when we discuss our stratified sampling results later. We use this value as our sample size for both our binary and continuous data analyses."
   ]
  },
  {
   "cell_type": "code",
   "execution_count": 1,
   "id": "a6b50fca-b99d-43db-b5d7-bd2ca90affe1",
   "metadata": {},
   "outputs": [
    {
     "name": "stderr",
     "output_type": "stream",
     "text": [
      "Warning message in system(\"timedatectl\", intern = TRUE):\n",
      "“running command 'timedatectl' had status 1”\n",
      "── \u001b[1mAttaching packages\u001b[22m ─────────────────────────────────────── tidyverse 1.3.1 ──\n",
      "\n",
      "\u001b[32m✔\u001b[39m \u001b[34mggplot2\u001b[39m 3.3.5     \u001b[32m✔\u001b[39m \u001b[34mpurrr  \u001b[39m 0.3.4\n",
      "\u001b[32m✔\u001b[39m \u001b[34mtibble \u001b[39m 3.1.6     \u001b[32m✔\u001b[39m \u001b[34mdplyr  \u001b[39m 1.0.7\n",
      "\u001b[32m✔\u001b[39m \u001b[34mtidyr  \u001b[39m 1.1.3     \u001b[32m✔\u001b[39m \u001b[34mstringr\u001b[39m 1.4.0\n",
      "\u001b[32m✔\u001b[39m \u001b[34mreadr  \u001b[39m 2.1.1     \u001b[32m✔\u001b[39m \u001b[34mforcats\u001b[39m 0.5.1\n",
      "\n",
      "── \u001b[1mConflicts\u001b[22m ────────────────────────────────────────── tidyverse_conflicts() ──\n",
      "\u001b[31m✖\u001b[39m \u001b[34mdplyr\u001b[39m::\u001b[32mfilter()\u001b[39m masks \u001b[34mstats\u001b[39m::filter()\n",
      "\u001b[31m✖\u001b[39m \u001b[34mdplyr\u001b[39m::\u001b[32mlag()\u001b[39m    masks \u001b[34mstats\u001b[39m::lag()\n",
      "\n",
      "Registered S3 method overwritten by 'GGally':\n",
      "  method from   \n",
      "  +.gg   ggplot2\n",
      "\n"
     ]
    }
   ],
   "source": [
    "library(tidyverse)\n",
    "library(GGally)\n",
    "adult <- read.csv(\"adult.data\", header = FALSE)\n",
    "column_names <- c(\"age\",\n",
    "                  \"workclass\",\n",
    "                  \"final_weight\",\n",
    "                  \"education\", \n",
    "                  \"education_num\",\n",
    "                  \"marital_status\",\n",
    "                  \"occupation\",\n",
    "                  \"relationship\",\n",
    "                  \"race\",\n",
    "                  \"sex\",\n",
    "                  \"capital_gain\", \n",
    "                  \"capital_loss\", \n",
    "                  \"hours_per_week\", \n",
    "                  \"native_country\",\n",
    "                  \"income\")\n",
    "adult <- setNames(adult, column_names)\n",
    "adult <- adult %>%\n",
    "    mutate(income = as.factor(income))"
   ]
  },
  {
   "cell_type": "markdown",
   "id": "cce8eb51-5b7a-4bcf-9163-f84bcec6eb14",
   "metadata": {},
   "source": [
    "### Simple Random Sample\n",
    "\n",
    "In order to randomly generate an independent and identical sample, we use sample.int() function to draw 2000 indices from 32561 total indices. "
   ]
  },
  {
   "cell_type": "code",
   "execution_count": 2,
   "id": "5001d93f-446c-4b72-813e-db1b9f2db315",
   "metadata": {},
   "outputs": [
    {
     "data": {
      "image/png": "[encoded data removed]",
      "text/plain": [
       "Plot with title “Histogram of adult$age”"
      ]
     },
     "metadata": {
      "image/png": {
       "height": 420,
       "width": 900
      }
     },
     "output_type": "display_data"
    }
   ],
   "source": [
    "options(repr.plot.width = 15, repr.plot.height = 7)\n",
    "par(mfrow=c(1,2))\n",
    "hist(adult$age)\n",
    "barplot(table(adult$income))"
   ]
  },
  {
   "cell_type": "markdown",
   "id": "2838580c-7c71-4ea0-95ea-4251775df8ef",
   "metadata": {},
   "source": [
    "The histogram for continuous variable age is right-skewed with majorities between 20 years old and 50 years old with a peak around 30 years old, noticing that there is no population aging in 1994 when the census was being collected. From the barplot, more than two thirds of the sample are making less than 50K a year."
   ]
  },
  {
   "cell_type": "markdown",
   "id": "aba1e47d-86d5-4a2d-99bd-b48ffefad353",
   "metadata": {},
   "source": [
    "# Part II\n",
    "## Analysis and Comparison"
   ]
  },
  {
   "cell_type": "markdown",
   "id": "5b8449c5",
   "metadata": {},
   "source": [
    "### Simple Random Sample\n",
    "\n",
    "A simple random sample maximizes the randomness of the data we obtain, meaning we have very little control as to how the data will be distributed. Intuitively, this may suggest that the sample we collect will be representative of the population. However, there is a remote chance that the sample we collect may not be fully representative of our dataset. At this point, we will have to assume that our sample will be fully representative, and that our members in our sample all had an equal chance of being selected to be in our sample."
   ]
  },
  {
   "cell_type": "markdown",
   "id": "809d3ea0-d131-44b5-916b-112f28ecb381",
   "metadata": {},
   "source": [
    "#### Binary Population\n",
    "Recall that our response variable is the proportion of people that have an income greater that 50K. Sampling from our population, we obtain the sampled mean, 0.2405, with a standard error of [insert equation] 0.0093. The 95% confidence interval is [insert equation], which is [0.2224, 0.2596].\n",
    "Through our simple random sample as well as utilizing the Central Limit Theorem, our high sample size yields a normal sampling distribution with a mean of 0.2405. From this, we are 95% confident that the true proportion of people with an income greater than 50K is between 0.2224 and 0.2596. \n",
    "\n",
    "|     | Value  |   \n",
    "| :----------: | :----------: | \n",
    "| Sample Proportion|0.2405\n",
    "| Sample SE|0.0093\n",
    "| Lower CI|0.2224\n",
    "| Upper CI|0.2586"
   ]
  },
  {
   "cell_type": "markdown",
   "id": "1a40bf02-a05f-4c30-8aaf-ac3c9db94536",
   "metadata": {},
   "source": [
    "#### Continous Population\n",
    "We use the sample mean (ȳs= 𝚺yi/n) to estimate the population mean age for continuous parameter. Using the sample standard deviation, we are able to calculate the standard error using se(ȳs) = √(1-n/N)*Ss. The 95% confidence interval is measured by …\n",
    "\n",
    "|     | Value  |   \n",
    "| :----------: | :----------: | \n",
    "| Sample Mean|38.78\n",
    "| Sample SE|0.3039\n",
    "| Lower CI|38.1844\n",
    "| Upper CI|39.3756\n",
    "\n",
    "According to the output, the sample mean is 38.78 with a standard error of 0.3039. As the sample size is large enough, by the central limit theorem, the sample mean will be normal, thus we are 95% confident that the true population mean is between … and ..."
   ]
  },
  {
   "cell_type": "markdown",
   "id": "d9e12d98",
   "metadata": {},
   "source": [
    "## Stratified Sampling"
   ]
  },
  {
   "cell_type": "markdown",
   "id": "33ae036b-9f48-4742-8630-c5a0ff086959",
   "metadata": {},
   "source": [
    "In comparison with a simple random sampling, we can divide the population into sub-populations, then apply random sampling of each subgroups to more accurately reflect the population studied based on a set of chosen characteristics.\n",
    "\n",
    "* Assumptions:\n",
    "\n",
    "> All observations must be exactly under one and only one stratum.\n",
    "\n",
    "> Sampling from each stratum must be random\\n\",\n",
    "\n",
    "* Hypothesis:\n",
    "\n",
    "> The value of the parameters chosen are the same across all stratum (marital status), that is , 1.) the proportion of personal income that exceeds $50K/yr is the same across all stratum, and 2.) the mean age of individuals are the same across all stratum (marital status).\n"
   ]
  },
  {
   "cell_type": "markdown",
   "id": "e7f93a11",
   "metadata": {
    "tags": []
   },
   "source": [
    "## Analysis and Comparison"
   ]
  },
  {
   "cell_type": "code",
   "execution_count": 3,
   "id": "4bc3e177-8ac7-4bb3-8896-832ffedf6ccd",
   "metadata": {},
   "outputs": [
    {
     "data": {
      "image/png": "[encoded data removed]",
      "text/plain": [
       "Plot with title “Histogram of adult$age”"
      ]
     },
     "metadata": {
      "image/png": {
       "height": 420,
       "width": 900
      }
     },
     "output_type": "display_data"
    }
   ],
   "source": [
    "options(repr.plot.width = 15, repr.plot.height = 7)\n",
    "par(mfrow=c(1,2))\n",
    "hist(adult$age)\n",
    "barplot(table(adult$income))"
   ]
  },
  {
   "cell_type": "code",
   "execution_count": 4,
   "id": "1a0b9e0e-8427-469c-ba28-f59b362e5485",
   "metadata": {},
   "outputs": [
    {
     "data": {
      "text/html": [
       "<table class=\"dataframe\">\n",
       "<caption>A data.frame: 6 × 15</caption>\n",
       "<thead>\n",
       "\t<tr><th></th><th scope=col>age</th><th scope=col>workclass</th><th scope=col>final_weight</th><th scope=col>education</th><th scope=col>education_num</th><th scope=col>marital_status</th><th scope=col>occupation</th><th scope=col>relationship</th><th scope=col>race</th><th scope=col>sex</th><th scope=col>capital_gain</th><th scope=col>capital_loss</th><th scope=col>hours_per_week</th><th scope=col>native_country</th><th scope=col>income</th></tr>\n",
       "\t<tr><th></th><th scope=col>&lt;int&gt;</th><th scope=col>&lt;chr&gt;</th><th scope=col>&lt;int&gt;</th><th scope=col>&lt;chr&gt;</th><th scope=col>&lt;int&gt;</th><th scope=col>&lt;chr&gt;</th><th scope=col>&lt;chr&gt;</th><th scope=col>&lt;chr&gt;</th><th scope=col>&lt;chr&gt;</th><th scope=col>&lt;chr&gt;</th><th scope=col>&lt;int&gt;</th><th scope=col>&lt;int&gt;</th><th scope=col>&lt;int&gt;</th><th scope=col>&lt;chr&gt;</th><th scope=col>&lt;fct&gt;</th></tr>\n",
       "</thead>\n",
       "<tbody>\n",
       "\t<tr><th scope=row>1</th><td>39</td><td><span style=white-space:pre-wrap> State-gov       </span></td><td> 77516</td><td> Bachelors</td><td>13</td><td><span style=white-space:pre-wrap> Never-married     </span></td><td><span style=white-space:pre-wrap> Adm-clerical     </span></td><td> Not-in-family</td><td> White</td><td><span style=white-space:pre-wrap> Male  </span></td><td>2174</td><td>0</td><td>40</td><td> United-States</td><td> &lt;=50K</td></tr>\n",
       "\t<tr><th scope=row>2</th><td>50</td><td> Self-emp-not-inc</td><td> 83311</td><td> Bachelors</td><td>13</td><td> Married-civ-spouse</td><td><span style=white-space:pre-wrap> Exec-managerial  </span></td><td><span style=white-space:pre-wrap> Husband      </span></td><td> White</td><td><span style=white-space:pre-wrap> Male  </span></td><td><span style=white-space:pre-wrap>   0</span></td><td>0</td><td>13</td><td> United-States</td><td> &lt;=50K</td></tr>\n",
       "\t<tr><th scope=row>3</th><td>38</td><td><span style=white-space:pre-wrap> Private         </span></td><td>215646</td><td><span style=white-space:pre-wrap> HS-grad  </span></td><td> 9</td><td><span style=white-space:pre-wrap> Divorced          </span></td><td> Handlers-cleaners</td><td> Not-in-family</td><td> White</td><td><span style=white-space:pre-wrap> Male  </span></td><td><span style=white-space:pre-wrap>   0</span></td><td>0</td><td>40</td><td> United-States</td><td> &lt;=50K</td></tr>\n",
       "\t<tr><th scope=row>4</th><td>53</td><td><span style=white-space:pre-wrap> Private         </span></td><td>234721</td><td><span style=white-space:pre-wrap> 11th     </span></td><td> 7</td><td> Married-civ-spouse</td><td> Handlers-cleaners</td><td><span style=white-space:pre-wrap> Husband      </span></td><td> Black</td><td><span style=white-space:pre-wrap> Male  </span></td><td><span style=white-space:pre-wrap>   0</span></td><td>0</td><td>40</td><td> United-States</td><td> &lt;=50K</td></tr>\n",
       "\t<tr><th scope=row>5</th><td>28</td><td><span style=white-space:pre-wrap> Private         </span></td><td>338409</td><td> Bachelors</td><td>13</td><td> Married-civ-spouse</td><td><span style=white-space:pre-wrap> Prof-specialty   </span></td><td><span style=white-space:pre-wrap> Wife         </span></td><td> Black</td><td> Female</td><td><span style=white-space:pre-wrap>   0</span></td><td>0</td><td>40</td><td><span style=white-space:pre-wrap> Cuba         </span></td><td> &lt;=50K</td></tr>\n",
       "\t<tr><th scope=row>6</th><td>37</td><td><span style=white-space:pre-wrap> Private         </span></td><td>284582</td><td><span style=white-space:pre-wrap> Masters  </span></td><td>14</td><td> Married-civ-spouse</td><td><span style=white-space:pre-wrap> Exec-managerial  </span></td><td><span style=white-space:pre-wrap> Wife         </span></td><td> White</td><td> Female</td><td><span style=white-space:pre-wrap>   0</span></td><td>0</td><td>40</td><td> United-States</td><td> &lt;=50K</td></tr>\n",
       "</tbody>\n",
       "</table>\n"
      ],
      "text/latex": [
       "A data.frame: 6 × 15\n",
       "\\begin{tabular}{r|lllllllllllllll}\n",
       "  & age & workclass & final\\_weight & education & education\\_num & marital\\_status & occupation & relationship & race & sex & capital\\_gain & capital\\_loss & hours\\_per\\_week & native\\_country & income\\\\\n",
       "  & <int> & <chr> & <int> & <chr> & <int> & <chr> & <chr> & <chr> & <chr> & <chr> & <int> & <int> & <int> & <chr> & <fct>\\\\\n",
       "\\hline\n",
       "\t1 & 39 &  State-gov        &  77516 &  Bachelors & 13 &  Never-married      &  Adm-clerical      &  Not-in-family &  White &  Male   & 2174 & 0 & 40 &  United-States &  <=50K\\\\\n",
       "\t2 & 50 &  Self-emp-not-inc &  83311 &  Bachelors & 13 &  Married-civ-spouse &  Exec-managerial   &  Husband       &  White &  Male   &    0 & 0 & 13 &  United-States &  <=50K\\\\\n",
       "\t3 & 38 &  Private          & 215646 &  HS-grad   &  9 &  Divorced           &  Handlers-cleaners &  Not-in-family &  White &  Male   &    0 & 0 & 40 &  United-States &  <=50K\\\\\n",
       "\t4 & 53 &  Private          & 234721 &  11th      &  7 &  Married-civ-spouse &  Handlers-cleaners &  Husband       &  Black &  Male   &    0 & 0 & 40 &  United-States &  <=50K\\\\\n",
       "\t5 & 28 &  Private          & 338409 &  Bachelors & 13 &  Married-civ-spouse &  Prof-specialty    &  Wife          &  Black &  Female &    0 & 0 & 40 &  Cuba          &  <=50K\\\\\n",
       "\t6 & 37 &  Private          & 284582 &  Masters   & 14 &  Married-civ-spouse &  Exec-managerial   &  Wife          &  White &  Female &    0 & 0 & 40 &  United-States &  <=50K\\\\\n",
       "\\end{tabular}\n"
      ],
      "text/markdown": [
       "\n",
       "A data.frame: 6 × 15\n",
       "\n",
       "| <!--/--> | age &lt;int&gt; | workclass &lt;chr&gt; | final_weight &lt;int&gt; | education &lt;chr&gt; | education_num &lt;int&gt; | marital_status &lt;chr&gt; | occupation &lt;chr&gt; | relationship &lt;chr&gt; | race &lt;chr&gt; | sex &lt;chr&gt; | capital_gain &lt;int&gt; | capital_loss &lt;int&gt; | hours_per_week &lt;int&gt; | native_country &lt;chr&gt; | income &lt;fct&gt; |\n",
       "|---|---|---|---|---|---|---|---|---|---|---|---|---|---|---|---|\n",
       "| 1 | 39 |  State-gov        |  77516 |  Bachelors | 13 |  Never-married      |  Adm-clerical      |  Not-in-family |  White |  Male   | 2174 | 0 | 40 |  United-States |  &lt;=50K |\n",
       "| 2 | 50 |  Self-emp-not-inc |  83311 |  Bachelors | 13 |  Married-civ-spouse |  Exec-managerial   |  Husband       |  White |  Male   |    0 | 0 | 13 |  United-States |  &lt;=50K |\n",
       "| 3 | 38 |  Private          | 215646 |  HS-grad   |  9 |  Divorced           |  Handlers-cleaners |  Not-in-family |  White |  Male   |    0 | 0 | 40 |  United-States |  &lt;=50K |\n",
       "| 4 | 53 |  Private          | 234721 |  11th      |  7 |  Married-civ-spouse |  Handlers-cleaners |  Husband       |  Black |  Male   |    0 | 0 | 40 |  United-States |  &lt;=50K |\n",
       "| 5 | 28 |  Private          | 338409 |  Bachelors | 13 |  Married-civ-spouse |  Prof-specialty    |  Wife          |  Black |  Female |    0 | 0 | 40 |  Cuba          |  &lt;=50K |\n",
       "| 6 | 37 |  Private          | 284582 |  Masters   | 14 |  Married-civ-spouse |  Exec-managerial   |  Wife          |  White |  Female |    0 | 0 | 40 |  United-States |  &lt;=50K |\n",
       "\n"
      ],
      "text/plain": [
       "  age workclass         final_weight education  education_num\n",
       "1 39   State-gov         77516        Bachelors 13           \n",
       "2 50   Self-emp-not-inc  83311        Bachelors 13           \n",
       "3 38   Private          215646        HS-grad    9           \n",
       "4 53   Private          234721        11th       7           \n",
       "5 28   Private          338409        Bachelors 13           \n",
       "6 37   Private          284582        Masters   14           \n",
       "  marital_status      occupation         relationship   race   sex    \n",
       "1  Never-married       Adm-clerical       Not-in-family  White  Male  \n",
       "2  Married-civ-spouse  Exec-managerial    Husband        White  Male  \n",
       "3  Divorced            Handlers-cleaners  Not-in-family  White  Male  \n",
       "4  Married-civ-spouse  Handlers-cleaners  Husband        Black  Male  \n",
       "5  Married-civ-spouse  Prof-specialty     Wife           Black  Female\n",
       "6  Married-civ-spouse  Exec-managerial    Wife           White  Female\n",
       "  capital_gain capital_loss hours_per_week native_country income\n",
       "1 2174         0            40              United-States  <=50K\n",
       "2    0         0            13              United-States  <=50K\n",
       "3    0         0            40              United-States  <=50K\n",
       "4    0         0            40              United-States  <=50K\n",
       "5    0         0            40              Cuba           <=50K\n",
       "6    0         0            40              United-States  <=50K"
      ]
     },
     "metadata": {},
     "output_type": "display_data"
    }
   ],
   "source": [
    "head(adult)"
   ]
  },
  {
   "cell_type": "code",
   "execution_count": 5,
   "id": "e07d96db-69f1-45af-8319-04cec3829e51",
   "metadata": {},
   "outputs": [
    {
     "data": {
      "image/png": "[encoded data removed]",
      "text/plain": [
       "Plot with title “Histogram of adult$age”"
      ]
     },
     "metadata": {
      "image/png": {
       "height": 420,
       "width": 900
      }
     },
     "output_type": "display_data"
    }
   ],
   "source": [
    "age_His <- hist(adult$age)"
   ]
  },
  {
   "cell_type": "markdown",
   "id": "b10c9882-123f-4cf3-ba2e-e9e2b02315d0",
   "metadata": {},
   "source": [
    "### SRS"
   ]
  },
  {
   "cell_type": "code",
   "execution_count": 6,
   "id": "baf76f22-7c9e-456e-897c-387dd505f537",
   "metadata": {},
   "outputs": [
    {
     "data": {
      "text/html": [
       "32561"
      ],
      "text/latex": [
       "32561"
      ],
      "text/markdown": [
       "32561"
      ],
      "text/plain": [
       "[1] 32561"
      ]
     },
     "metadata": {},
     "output_type": "display_data"
    },
    {
     "data": {
      "text/html": [
       "38.78"
      ],
      "text/latex": [
       "38.78"
      ],
      "text/markdown": [
       "38.78"
      ],
      "text/plain": [
       "[1] 38.78"
      ]
     },
     "metadata": {},
     "output_type": "display_data"
    },
    {
     "data": {
      "text/html": [
       "0.3039"
      ],
      "text/latex": [
       "0.3039"
      ],
      "text/markdown": [
       "0.3039"
      ],
      "text/plain": [
       "[1] 0.3039"
      ]
     },
     "metadata": {},
     "output_type": "display_data"
    },
    {
     "data": {
      "text/html": [
       "<style>\n",
       ".list-inline {list-style: none; margin:0; padding: 0}\n",
       ".list-inline>li {display: inline-block}\n",
       ".list-inline>li:not(:last-child)::after {content: \"\\00b7\"; padding: 0 .5ex}\n",
       "</style>\n",
       "<ol class=list-inline><li>38.1844</li><li>39.3756</li></ol>\n"
      ],
      "text/latex": [
       "\\begin{enumerate*}\n",
       "\\item 38.1844\n",
       "\\item 39.3756\n",
       "\\end{enumerate*}\n"
      ],
      "text/markdown": [
       "1. 38.1844\n",
       "2. 39.3756\n",
       "\n",
       "\n"
      ],
      "text/plain": [
       "[1] 38.1844 39.3756"
      ]
     },
     "metadata": {},
     "output_type": "display_data"
    }
   ],
   "source": [
    "### Continous Population\n",
    "set.seed(344)\n",
    "\n",
    "N <- nrow(adult)\n",
    "N\n",
    "n <- 2000\n",
    "\n",
    "SRS.index <- sample.int(N, n, replace = FALSE) \n",
    "adultsample <- adult[SRS.index, ]\n",
    "\n",
    "ybar <- mean(adultsample$age)\n",
    "s_sd <- sd(adultsample$age)\n",
    "se_ybar <- sqrt((1-n/N)*(s_sd^2/n))\n",
    "round(ybar,4)\n",
    "#s_sd\n",
    "round(se_ybar,4)\n",
    "\n",
    "round(c(ybar - 1.96 * se_ybar, ybar + 1.96 * se_ybar),4)"
   ]
  },
  {
   "cell_type": "markdown",
   "id": "732faa02-8f15-4df8-916a-c1f796668717",
   "metadata": {},
   "source": [
    "|     | Value  |   \n",
    "| :----------: | :----------: | \n",
    "| Sample Mean|38.78\n",
    "| Sample SE|0.3039\n",
    "| Lower CI|38.1844\n",
    "| Upper CI|39.3756"
   ]
  },
  {
   "cell_type": "code",
   "execution_count": 7,
   "id": "971f6c82-4f47-4d47-80d8-af59618e99ba",
   "metadata": {},
   "outputs": [
    {
     "data": {
      "text/html": [
       "0.2405"
      ],
      "text/latex": [
       "0.2405"
      ],
      "text/markdown": [
       "0.2405"
      ],
      "text/plain": [
       "[1] 0.2405"
      ]
     },
     "metadata": {},
     "output_type": "display_data"
    },
    {
     "data": {
      "text/html": [
       "0.0093"
      ],
      "text/latex": [
       "0.0093"
      ],
      "text/markdown": [
       "0.0093"
      ],
      "text/plain": [
       "[1] 0.0093"
      ]
     },
     "metadata": {},
     "output_type": "display_data"
    },
    {
     "data": {
      "text/html": [
       "<style>\n",
       ".list-inline {list-style: none; margin:0; padding: 0}\n",
       ".list-inline>li {display: inline-block}\n",
       ".list-inline>li:not(:last-child)::after {content: \"\\00b7\"; padding: 0 .5ex}\n",
       "</style>\n",
       "<ol class=list-inline><li>0.2224</li><li>0.2586</li></ol>\n"
      ],
      "text/latex": [
       "\\begin{enumerate*}\n",
       "\\item 0.2224\n",
       "\\item 0.2586\n",
       "\\end{enumerate*}\n"
      ],
      "text/markdown": [
       "1. 0.2224\n",
       "2. 0.2586\n",
       "\n",
       "\n"
      ],
      "text/plain": [
       "[1] 0.2224 0.2586"
      ]
     },
     "metadata": {},
     "output_type": "display_data"
    }
   ],
   "source": [
    "### Binary Population\n",
    "set.seed(344)\n",
    "\n",
    "N <- nrow(adult)\n",
    "n <- 2000\n",
    "\n",
    "SRS.index <- sample.int(N, n, replace = FALSE) \n",
    "adultsample <- adult[SRS.index, ]\n",
    "\n",
    "income <- adultsample %>%\n",
    "    group_by(income) %>%\n",
    "    summarize(n = n())\n",
    "\n",
    "p_hat <- income[2,2]/n\n",
    "p_hat = pull(p_hat)\n",
    "round(p_hat, 4)\n",
    "\n",
    "phat_se = sqrt((1-n/N)*p_hat*(1-p_hat)/n)\n",
    "round(phat_se, 4)\n",
    "\n",
    "round(c(p_hat - 1.96 * phat_se, p_hat + 1.96 * phat_se),4)"
   ]
  },
  {
   "cell_type": "markdown",
   "id": "a95f29c7-83a9-43d7-bc0a-d9c67ba51506",
   "metadata": {},
   "source": [
    "|     | Value  |   \n",
    "| :----------: | :----------: | \n",
    "| Sample Proportion|0.2405\n",
    "| Sample SE|0.0093\n",
    "| Lower CI|0.2224\n",
    "| Upper CI|0.2586"
   ]
  },
  {
   "cell_type": "markdown",
   "id": "b5a9b89c-92c8-43f0-bb17-2e899d862100",
   "metadata": {},
   "source": [
    "## Stratified Sampling"
   ]
  },
  {
   "cell_type": "markdown",
   "id": "16ed13fd-87ef-44ec-a8de-88a4c882e5ec",
   "metadata": {},
   "source": [
    "### Continuous Parameter Estimation"
   ]
  },
  {
   "cell_type": "code",
   "execution_count": 8,
   "id": "8db9e756-7d91-4f2d-937c-69149768cda5",
   "metadata": {},
   "outputs": [
    {
     "data": {
      "text/html": [
       "<style>\n",
       ".list-inline {list-style: none; margin:0; padding: 0}\n",
       ".list-inline>li {display: inline-block}\n",
       ".list-inline>li:not(:last-child)::after {content: \"\\00b7\"; padding: 0 .5ex}\n",
       "</style>\n",
       "<ol class=list-inline><li>' Divorced'</li><li>' Married-AF-spouse'</li><li>' Married-civ-spouse'</li><li>' Married-spouse-absent'</li><li>' Never-married'</li><li>' Separated'</li><li>' Widowed'</li></ol>\n"
      ],
      "text/latex": [
       "\\begin{enumerate*}\n",
       "\\item ' Divorced'\n",
       "\\item ' Married-AF-spouse'\n",
       "\\item ' Married-civ-spouse'\n",
       "\\item ' Married-spouse-absent'\n",
       "\\item ' Never-married'\n",
       "\\item ' Separated'\n",
       "\\item ' Widowed'\n",
       "\\end{enumerate*}\n"
      ],
      "text/markdown": [
       "1. ' Divorced'\n",
       "2. ' Married-AF-spouse'\n",
       "3. ' Married-civ-spouse'\n",
       "4. ' Married-spouse-absent'\n",
       "5. ' Never-married'\n",
       "6. ' Separated'\n",
       "7. ' Widowed'\n",
       "\n",
       "\n"
      ],
      "text/plain": [
       "[1] \" Divorced\"              \" Married-AF-spouse\"     \" Married-civ-spouse\"   \n",
       "[4] \" Married-spouse-absent\" \" Never-married\"         \" Separated\"            \n",
       "[7] \" Widowed\"              "
      ]
     },
     "metadata": {},
     "output_type": "display_data"
    }
   ],
   "source": [
    "level <- as.character(levels(as.factor(adult$marital_status)))\n",
    "status <- as.character(adult$marital_status)\n",
    "for (i in 1:length(status)) {\n",
    "    ifelse (status[i] == level[2] | status[i] == level[3] | status[i] == level[4], \n",
    "            status[i] <- \" Married\", \n",
    "            status[i] <- status[i])\n",
    "}"
   ]
  },
  {
   "cell_type": "code",
   "execution_count": 9,
   "id": "8d497094-a3b8-4196-a382-c08d3215ab6a",
   "metadata": {},
   "outputs": [
    {
     "data": {
      "text/html": [
       "<table class=\"dataframe\">\n",
       "<caption>A tibble: 5 × 8</caption>\n",
       "<thead>\n",
       "\t<tr><th scope=col>status</th><th scope=col>nn</th><th scope=col>prop</th><th scope=col>var</th><th scope=col>sd</th><th scope=col>nc</th><th scope=col>nprop</th><th scope=col>nh</th></tr>\n",
       "\t<tr><th scope=col>&lt;fct&gt;</th><th scope=col>&lt;int&gt;</th><th scope=col>&lt;dbl&gt;</th><th scope=col>&lt;dbl&gt;</th><th scope=col>&lt;dbl&gt;</th><th scope=col>&lt;dbl&gt;</th><th scope=col>&lt;dbl&gt;</th><th scope=col>&lt;dbl&gt;</th></tr>\n",
       "</thead>\n",
       "<tbody>\n",
       "\t<tr><td> Divorced     </td><td> 4443</td><td>0.13645158</td><td>108.1682</td><td>10.40040</td><td> 46208.96</td><td>0.12740224</td><td> 255</td></tr>\n",
       "\t<tr><td> Married      </td><td>15417</td><td>0.47348054</td><td>145.8976</td><td>12.07881</td><td>186218.98</td><td>0.51342242</td><td>1027</td></tr>\n",
       "\t<tr><td> Never-married</td><td>10683</td><td>0.32809189</td><td>100.1449</td><td>10.00724</td><td>106907.35</td><td>0.29475315</td><td> 590</td></tr>\n",
       "\t<tr><td> Separated    </td><td> 1025</td><td>0.03147938</td><td>117.4184</td><td>10.83598</td><td> 11106.88</td><td>0.03062265</td><td>  61</td></tr>\n",
       "\t<tr><td> Widowed      </td><td>  993</td><td>0.03049661</td><td>152.4127</td><td>12.34555</td><td> 12259.14</td><td>0.03379954</td><td>  68</td></tr>\n",
       "</tbody>\n",
       "</table>\n"
      ],
      "text/latex": [
       "A tibble: 5 × 8\n",
       "\\begin{tabular}{llllllll}\n",
       " status & nn & prop & var & sd & nc & nprop & nh\\\\\n",
       " <fct> & <int> & <dbl> & <dbl> & <dbl> & <dbl> & <dbl> & <dbl>\\\\\n",
       "\\hline\n",
       "\t  Divorced      &  4443 & 0.13645158 & 108.1682 & 10.40040 &  46208.96 & 0.12740224 &  255\\\\\n",
       "\t  Married       & 15417 & 0.47348054 & 145.8976 & 12.07881 & 186218.98 & 0.51342242 & 1027\\\\\n",
       "\t  Never-married & 10683 & 0.32809189 & 100.1449 & 10.00724 & 106907.35 & 0.29475315 &  590\\\\\n",
       "\t  Separated     &  1025 & 0.03147938 & 117.4184 & 10.83598 &  11106.88 & 0.03062265 &   61\\\\\n",
       "\t  Widowed       &   993 & 0.03049661 & 152.4127 & 12.34555 &  12259.14 & 0.03379954 &   68\\\\\n",
       "\\end{tabular}\n"
      ],
      "text/markdown": [
       "\n",
       "A tibble: 5 × 8\n",
       "\n",
       "| status &lt;fct&gt; | nn &lt;int&gt; | prop &lt;dbl&gt; | var &lt;dbl&gt; | sd &lt;dbl&gt; | nc &lt;dbl&gt; | nprop &lt;dbl&gt; | nh &lt;dbl&gt; |\n",
       "|---|---|---|---|---|---|---|---|\n",
       "|  Divorced      |  4443 | 0.13645158 | 108.1682 | 10.40040 |  46208.96 | 0.12740224 |  255 |\n",
       "|  Married       | 15417 | 0.47348054 | 145.8976 | 12.07881 | 186218.98 | 0.51342242 | 1027 |\n",
       "|  Never-married | 10683 | 0.32809189 | 100.1449 | 10.00724 | 106907.35 | 0.29475315 |  590 |\n",
       "|  Separated     |  1025 | 0.03147938 | 117.4184 | 10.83598 |  11106.88 | 0.03062265 |   61 |\n",
       "|  Widowed       |   993 | 0.03049661 | 152.4127 | 12.34555 |  12259.14 | 0.03379954 |   68 |\n",
       "\n"
      ],
      "text/plain": [
       "  status         nn    prop       var      sd       nc        nprop      nh  \n",
       "1  Divorced       4443 0.13645158 108.1682 10.40040  46208.96 0.12740224  255\n",
       "2  Married       15417 0.47348054 145.8976 12.07881 186218.98 0.51342242 1027\n",
       "3  Never-married 10683 0.32809189 100.1449 10.00724 106907.35 0.29475315  590\n",
       "4  Separated      1025 0.03147938 117.4184 10.83598  11106.88 0.03062265   61\n",
       "5  Widowed         993 0.03049661 152.4127 12.34555  12259.14 0.03379954   68"
      ]
     },
     "metadata": {},
     "output_type": "display_data"
    }
   ],
   "source": [
    "n = 2000 ## we set sample size to be 1000\n",
    "N = nrow(adult) ## population size\n",
    "## Get pproportional stratum sizes\n",
    "adult$status <- as.factor(status)\n",
    "\n",
    "marital_ns <- adult %>%\n",
    "    group_by(status) %>%\n",
    "    summarise(nn = n(), prop = n()/N, var = var(age), sd = sd(age)) %>%\n",
    "    mutate(nc = nn*sd) %>%\n",
    "    mutate(nprop = nc/sum(nc)) %>%\n",
    "    mutate(nh = round(nprop*n))\n",
    "marital_ns"
   ]
  },
  {
   "cell_type": "markdown",
   "id": "ed6b1a20-279b-4693-bdc9-29f7479fd819",
   "metadata": {},
   "source": [
    "since nn for Married-AF-spouse, Married-civ-spouse and Married-spouse-absent are too small, so we combine them into Married status.\n",
    "\n"
   ]
  },
  {
   "cell_type": "code",
   "execution_count": 10,
   "id": "07c7863b-7e92-48a4-92df-7bc24e43c160",
   "metadata": {},
   "outputs": [
    {
     "data": {
      "text/html": [
       "<style>\n",
       ".list-inline {list-style: none; margin:0; padding: 0}\n",
       ".list-inline>li {display: inline-block}\n",
       ".list-inline>li:not(:last-child)::after {content: \"\\00b7\"; padding: 0 .5ex}\n",
       "</style>\n",
       "<ol class=list-inline><li>' Divorced'</li><li>' Married'</li><li>' Never-married'</li><li>' Separated'</li><li>' Widowed'</li></ol>\n"
      ],
      "text/latex": [
       "\\begin{enumerate*}\n",
       "\\item ' Divorced'\n",
       "\\item ' Married'\n",
       "\\item ' Never-married'\n",
       "\\item ' Separated'\n",
       "\\item ' Widowed'\n",
       "\\end{enumerate*}\n"
      ],
      "text/markdown": [
       "1. ' Divorced'\n",
       "2. ' Married'\n",
       "3. ' Never-married'\n",
       "4. ' Separated'\n",
       "5. ' Widowed'\n",
       "\n",
       "\n"
      ],
      "text/plain": [
       "[1] \" Divorced\"      \" Married\"       \" Never-married\" \" Separated\"    \n",
       "[5] \" Widowed\"      "
      ]
     },
     "metadata": {},
     "output_type": "display_data"
    }
   ],
   "source": [
    "## Stratums\n",
    "marital_levels <- levels(adult$status)\n",
    "nn <- marital_ns$nn\n",
    "nvar <- marital_ns$var\n",
    "nh <- marital_ns$nh\n",
    "\n",
    "Divorced_sample <- adult %>%\n",
    "    filter(status == marital_levels[1]) %>%\n",
    "    pull(age) %>%\n",
    "    sample(nh[1])\n",
    "\n",
    "Married_sample <- adult %>%\n",
    "    filter(status == marital_levels[2]) %>%\n",
    "    pull(age) %>%\n",
    "    sample(nh[2])\n",
    "\n",
    "NeverMarried_sample <- adult %>%\n",
    "    filter(status == marital_levels[3]) %>%\n",
    "    pull(age) %>%\n",
    "    sample(nh[3])\n",
    "\n",
    "Separated_sample <- adult %>%\n",
    "    filter(status == marital_levels[4]) %>%\n",
    "    pull(age) %>%\n",
    "    sample(nh[4])\n",
    "\n",
    "Widowed_sample <- adult %>%\n",
    "    filter(status == marital_levels[5]) %>%\n",
    "    pull(age) %>%\n",
    "    sample(nh[5])"
   ]
  },
  {
   "cell_type": "markdown",
   "id": "5984160d-d09c-4c61-a4d7-dda076c90c4a",
   "metadata": {},
   "source": [
    "* ##### Formula<br>\n",
    "The estimate for the mean age is $\\bar{y}_{str} = \\sum_{h=1}^{H} ((\\frac{N_{h}}{N})\\bar{y}_{h}) $, when $N_{h}$ is the size of the $h^{th}$ strata, $N$ is the population size, and $\\bar{y}_{h}$ is the mean age of $h^{th}$ strata. the standard error for this estimate is $SE_{\\bar{y}_{str}} =  \\sqrt{\\sum_{h=1}^{H}((\\frac{N_{h}}{N})^2SE_{\\bar{y}_h}}$, where $SE_{\\bar{y}_h} = \\sqrt{(1-\\frac{n}{N})*\\frac{S^2_{h}}{n}}$ with $S_{h}$ being the standard deviation of the $h^{th}$ strata. The 95% confidence interval for $\\bar{y}_{str}$ is $\\bar{y}_{s}\\pm 1.96*SE_{\\bar{y}_{str}}$"
   ]
  },
  {
   "cell_type": "code",
   "execution_count": 11,
   "id": "e7b12b7a-face-4a89-b373-6ffd7a7d7767",
   "metadata": {},
   "outputs": [
    {
     "data": {
      "text/html": [
       "<table class=\"dataframe\">\n",
       "<caption>A data.frame: 1 × 3</caption>\n",
       "<thead>\n",
       "\t<tr><th scope=col>Estimate</th><th scope=col>SE</th><th scope=col>true_parameter</th></tr>\n",
       "\t<tr><th scope=col>&lt;dbl&gt;</th><th scope=col>&lt;dbl&gt;</th><th scope=col>&lt;dbl&gt;</th></tr>\n",
       "</thead>\n",
       "<tbody>\n",
       "\t<tr><td>39.0705</td><td>0.03912924</td><td>38.58165</td></tr>\n",
       "</tbody>\n",
       "</table>\n"
      ],
      "text/latex": [
       "A data.frame: 1 × 3\n",
       "\\begin{tabular}{lll}\n",
       " Estimate & SE & true\\_parameter\\\\\n",
       " <dbl> & <dbl> & <dbl>\\\\\n",
       "\\hline\n",
       "\t 39.0705 & 0.03912924 & 38.58165\\\\\n",
       "\\end{tabular}\n"
      ],
      "text/markdown": [
       "\n",
       "A data.frame: 1 × 3\n",
       "\n",
       "| Estimate &lt;dbl&gt; | SE &lt;dbl&gt; | true_parameter &lt;dbl&gt; |\n",
       "|---|---|---|\n",
       "| 39.0705 | 0.03912924 | 38.58165 |\n",
       "\n"
      ],
      "text/plain": [
       "  Estimate SE         true_parameter\n",
       "1 39.0705  0.03912924 38.58165      "
      ]
     },
     "metadata": {},
     "output_type": "display_data"
    }
   ],
   "source": [
    "## Estmitated mean age and SE\n",
    "Divorced_est <- (nh[1]/n)*mean(Divorced_sample)\n",
    "Married_est <- (nh[2]/n)*mean(Married_sample)\n",
    "NeverMarried_est <- (nh[3]/n)*mean(NeverMarried_sample)\n",
    "Separated_est <- (nh[4]/n)*mean(Separated_sample)\n",
    "Widowed_est <- (nh[5]/n)*mean(Widowed_sample)\n",
    "\n",
    "ybarhat <- sum(c(Divorced_est,Married_est,NeverMarried_est,Separated_est,Widowed_est))\n",
    "\n",
    "## estimate SE\n",
    "Divorced_se <- ((nn[1]/N)^2) * (1-(nh[1]/n))*(nvar[1]/nh[1])\n",
    "Married_se <- ((nn[2]/N)^2) * (1-(nh[2]/n))*(nvar[2]/nh[2])\n",
    "NeverMarried_se <- ((nn[3]/N)^2) * (1-(nh[3]/n))*(nvar[3]/nh[3])\n",
    "Separated_se <- ((nn[4]/N)^2) * (1-(nh[4]/n))*(nvar[4]/nh[4])\n",
    "Widowed_se <- ((nn[5]/N)^2) * (1-(nh[5]/n))*(nvar[5]/nh[5])\n",
    "\n",
    "yhatse <- sum(c(Divorced_se,Married_se,NeverMarried_se,Separated_se,Widowed_se))\n",
    "\n",
    "result_data <- data.frame(Estimate = ybarhat, SE = yhatse, true_parameter = mean(adult$age))\n",
    "result_data"
   ]
  },
  {
   "cell_type": "code",
   "execution_count": 12,
   "id": "7ef330a7-3478-49e2-92aa-951edacdd563",
   "metadata": {},
   "outputs": [
    {
     "data": {
      "text/plain": [
       "\n",
       "\n",
       "|                 |Value  |\n",
       "|:----------------|:------|\n",
       "|SampleMean.      |39.07  |\n",
       "|SE               |0.039  |\n",
       "|LowerBound95%CI  |38.994 |\n",
       "|Upper Bound95%CI |39.147 |"
      ]
     },
     "metadata": {},
     "output_type": "display_data"
    }
   ],
   "source": [
    "phat.str.me <-1.96*yhatse\n",
    "phat.str.confint <-c(ybarhat-phat.str.me,ybarhat+phat.str.me)\n",
    "str.matrix <-matrix(c(\"SampleMean.\",\"SE\",\"LowerBound95%CI\",\n",
    "\"Upper Bound95%CI\",\n",
    "round(ybarhat,3), round(yhatse,3),\n",
    "round(phat.str.confint[1],3),\n",
    "round(phat.str.confint[2],3)), nrow=4)\n",
    "knitr::kable(x =str.matrix,col.names=c(\"\",\"Value\"))"
   ]
  },
  {
   "cell_type": "markdown",
   "id": "621db85a-3fc9-496c-8145-8c60bffd6b89",
   "metadata": {},
   "source": [
    "* ###### RESULT<br>\n",
    "From our result, the estimate for mean age is 39.359. The standard error for this estimate is 0.03912924, Since our sample size sufficiently large (bigger than 25), by the central limit theorem, the distribution of our sample mean will be approximately normally distributed among many sample means. Therefore, we can conclude that we are 95% confident that the true mean age is between 39.282 and 39.436."
   ]
  },
  {
   "cell_type": "markdown",
   "id": "5a2a2747-bb3f-48ae-936c-8d00520dc060",
   "metadata": {},
   "source": [
    "### Binary Parameter Estimation"
   ]
  },
  {
   "cell_type": "code",
   "execution_count": 13,
   "id": "80bf160f-0218-4446-aefb-cb1296f46135",
   "metadata": {},
   "outputs": [
    {
     "data": {
      "text/html": [
       "<style>\n",
       ".list-inline {list-style: none; margin:0; padding: 0}\n",
       ".list-inline>li {display: inline-block}\n",
       ".list-inline>li:not(:last-child)::after {content: \"\\00b7\"; padding: 0 .5ex}\n",
       "</style>\n",
       "<ol class=list-inline><li>311</li><li>1039</li><li>3124</li><li>271</li><li>27816</li></ol>\n"
      ],
      "text/latex": [
       "\\begin{enumerate*}\n",
       "\\item 311\n",
       "\\item 1039\n",
       "\\item 3124\n",
       "\\item 271\n",
       "\\item 27816\n",
       "\\end{enumerate*}\n"
      ],
      "text/markdown": [
       "1. 311\n",
       "2. 1039\n",
       "3. 3124\n",
       "4. 271\n",
       "5. 27816\n",
       "\n",
       "\n"
      ],
      "text/plain": [
       "[1]   311  1039  3124   271 27816"
      ]
     },
     "metadata": {},
     "output_type": "display_data"
    }
   ],
   "source": [
    "stratum_n <-adult %>% \n",
    "    group_by(race) %>% \n",
    "    summarise(stratum_size = n()) %>%\n",
    "    pull(stratum_size)\n",
    "stratum_n"
   ]
  },
  {
   "cell_type": "code",
   "execution_count": 14,
   "id": "264bc2e7-19d0-4daf-902f-5873f9109816",
   "metadata": {},
   "outputs": [
    {
     "data": {
      "text/html": [
       "<table class=\"dataframe\">\n",
       "<caption>A tibble: 5 × 6</caption>\n",
       "<thead>\n",
       "\t<tr><th scope=col>income</th><th scope=col>race</th><th scope=col>n</th><th scope=col>stratum_size</th><th scope=col>p</th><th scope=col>var</th></tr>\n",
       "\t<tr><th scope=col>&lt;fct&gt;</th><th scope=col>&lt;chr&gt;</th><th scope=col>&lt;int&gt;</th><th scope=col>&lt;int&gt;</th><th scope=col>&lt;dbl&gt;</th><th scope=col>&lt;dbl&gt;</th></tr>\n",
       "</thead>\n",
       "<tbody>\n",
       "\t<tr><td> &lt;=50K</td><td> Amer-Indian-Eskimo</td><td><span style=white-space:pre-wrap>  275</span></td><td><span style=white-space:pre-wrap>  311</span></td><td>0.8842444</td><td>0.10235626</td></tr>\n",
       "\t<tr><td> &lt;=50K</td><td> Asian-Pac-Islander</td><td><span style=white-space:pre-wrap>  763</span></td><td> 1039</td><td>0.7343600</td><td>0.19507541</td></tr>\n",
       "\t<tr><td> &lt;=50K</td><td><span style=white-space:pre-wrap> Black             </span></td><td> 2737</td><td> 3124</td><td>0.8761204</td><td>0.10853348</td></tr>\n",
       "\t<tr><td> &lt;=50K</td><td><span style=white-space:pre-wrap> Other             </span></td><td><span style=white-space:pre-wrap>  246</span></td><td><span style=white-space:pre-wrap>  271</span></td><td>0.9077491</td><td>0.08374069</td></tr>\n",
       "\t<tr><td> &lt;=50K</td><td><span style=white-space:pre-wrap> White             </span></td><td>20699</td><td>27816</td><td>0.7441401</td><td>0.19039563</td></tr>\n",
       "</tbody>\n",
       "</table>\n"
      ],
      "text/latex": [
       "A tibble: 5 × 6\n",
       "\\begin{tabular}{llllll}\n",
       " income & race & n & stratum\\_size & p & var\\\\\n",
       " <fct> & <chr> & <int> & <int> & <dbl> & <dbl>\\\\\n",
       "\\hline\n",
       "\t  <=50K &  Amer-Indian-Eskimo &   275 &   311 & 0.8842444 & 0.10235626\\\\\n",
       "\t  <=50K &  Asian-Pac-Islander &   763 &  1039 & 0.7343600 & 0.19507541\\\\\n",
       "\t  <=50K &  Black              &  2737 &  3124 & 0.8761204 & 0.10853348\\\\\n",
       "\t  <=50K &  Other              &   246 &   271 & 0.9077491 & 0.08374069\\\\\n",
       "\t  <=50K &  White              & 20699 & 27816 & 0.7441401 & 0.19039563\\\\\n",
       "\\end{tabular}\n"
      ],
      "text/markdown": [
       "\n",
       "A tibble: 5 × 6\n",
       "\n",
       "| income &lt;fct&gt; | race &lt;chr&gt; | n &lt;int&gt; | stratum_size &lt;int&gt; | p &lt;dbl&gt; | var &lt;dbl&gt; |\n",
       "|---|---|---|---|---|---|\n",
       "|  &lt;=50K |  Amer-Indian-Eskimo |   275 |   311 | 0.8842444 | 0.10235626 |\n",
       "|  &lt;=50K |  Asian-Pac-Islander |   763 |  1039 | 0.7343600 | 0.19507541 |\n",
       "|  &lt;=50K |  Black              |  2737 |  3124 | 0.8761204 | 0.10853348 |\n",
       "|  &lt;=50K |  Other              |   246 |   271 | 0.9077491 | 0.08374069 |\n",
       "|  &lt;=50K |  White              | 20699 | 27816 | 0.7441401 | 0.19039563 |\n",
       "\n"
      ],
      "text/plain": [
       "  income race                n     stratum_size p         var       \n",
       "1  <=50K  Amer-Indian-Eskimo   275   311        0.8842444 0.10235626\n",
       "2  <=50K  Asian-Pac-Islander   763  1039        0.7343600 0.19507541\n",
       "3  <=50K  Black               2737  3124        0.8761204 0.10853348\n",
       "4  <=50K  Other                246   271        0.9077491 0.08374069\n",
       "5  <=50K  White              20699 27816        0.7441401 0.19039563"
      ]
     },
     "metadata": {},
     "output_type": "display_data"
    }
   ],
   "source": [
    "income_n_by_stratum <- adult %>% \n",
    "    group_by(income, race) %>% \n",
    "    summarise(n = n(),\n",
    "              .groups = \"drop\")\n",
    "stratum_size <- c(rep(stratum_n,2)) \n",
    "income_n_by_stratum$stratum_size <- stratum_size\n",
    "income_prop_by_stratum <- income_n_by_stratum %>% mutate(p = n/stratum_size,\n",
    "                               var = p*(1-p)) %>% slice(1:5)\n",
    "income_prop_by_stratum"
   ]
  },
  {
   "cell_type": "code",
   "execution_count": 15,
   "id": "09edadca-ed3e-4681-ab28-15ed2d2485af",
   "metadata": {},
   "outputs": [
    {
     "data": {
      "text/html": [
       "<table class=\"dataframe\">\n",
       "<caption>A tibble: 5 × 7</caption>\n",
       "<thead>\n",
       "\t<tr><th scope=col>income</th><th scope=col>race</th><th scope=col>n</th><th scope=col>stratum_size</th><th scope=col>p</th><th scope=col>var</th><th scope=col>n_h</th></tr>\n",
       "\t<tr><th scope=col>&lt;fct&gt;</th><th scope=col>&lt;chr&gt;</th><th scope=col>&lt;int&gt;</th><th scope=col>&lt;int&gt;</th><th scope=col>&lt;dbl&gt;</th><th scope=col>&lt;dbl&gt;</th><th scope=col>&lt;dbl&gt;</th></tr>\n",
       "</thead>\n",
       "<tbody>\n",
       "\t<tr><td> &lt;=50K</td><td> Amer-Indian-Eskimo</td><td><span style=white-space:pre-wrap>  275</span></td><td><span style=white-space:pre-wrap>  311</span></td><td>0.8842444</td><td>0.10235626</td><td><span style=white-space:pre-wrap>  16</span></td></tr>\n",
       "\t<tr><td> &lt;=50K</td><td> Asian-Pac-Islander</td><td><span style=white-space:pre-wrap>  763</span></td><td> 1039</td><td>0.7343600</td><td>0.19507541</td><td> 103</td></tr>\n",
       "\t<tr><td> &lt;=50K</td><td><span style=white-space:pre-wrap> Black             </span></td><td> 2737</td><td> 3124</td><td>0.8761204</td><td>0.10853348</td><td> 173</td></tr>\n",
       "\t<tr><td> &lt;=50K</td><td><span style=white-space:pre-wrap> Other             </span></td><td><span style=white-space:pre-wrap>  246</span></td><td><span style=white-space:pre-wrap>  271</span></td><td>0.9077491</td><td>0.08374069</td><td><span style=white-space:pre-wrap>  12</span></td></tr>\n",
       "\t<tr><td> &lt;=50K</td><td><span style=white-space:pre-wrap> White             </span></td><td>20699</td><td>27816</td><td>0.7441401</td><td>0.19039563</td><td>2696</td></tr>\n",
       "</tbody>\n",
       "</table>\n"
      ],
      "text/latex": [
       "A tibble: 5 × 7\n",
       "\\begin{tabular}{lllllll}\n",
       " income & race & n & stratum\\_size & p & var & n\\_h\\\\\n",
       " <fct> & <chr> & <int> & <int> & <dbl> & <dbl> & <dbl>\\\\\n",
       "\\hline\n",
       "\t  <=50K &  Amer-Indian-Eskimo &   275 &   311 & 0.8842444 & 0.10235626 &   16\\\\\n",
       "\t  <=50K &  Asian-Pac-Islander &   763 &  1039 & 0.7343600 & 0.19507541 &  103\\\\\n",
       "\t  <=50K &  Black              &  2737 &  3124 & 0.8761204 & 0.10853348 &  173\\\\\n",
       "\t  <=50K &  Other              &   246 &   271 & 0.9077491 & 0.08374069 &   12\\\\\n",
       "\t  <=50K &  White              & 20699 & 27816 & 0.7441401 & 0.19039563 & 2696\\\\\n",
       "\\end{tabular}\n"
      ],
      "text/markdown": [
       "\n",
       "A tibble: 5 × 7\n",
       "\n",
       "| income &lt;fct&gt; | race &lt;chr&gt; | n &lt;int&gt; | stratum_size &lt;int&gt; | p &lt;dbl&gt; | var &lt;dbl&gt; | n_h &lt;dbl&gt; |\n",
       "|---|---|---|---|---|---|---|\n",
       "|  &lt;=50K |  Amer-Indian-Eskimo |   275 |   311 | 0.8842444 | 0.10235626 |   16 |\n",
       "|  &lt;=50K |  Asian-Pac-Islander |   763 |  1039 | 0.7343600 | 0.19507541 |  103 |\n",
       "|  &lt;=50K |  Black              |  2737 |  3124 | 0.8761204 | 0.10853348 |  173 |\n",
       "|  &lt;=50K |  Other              |   246 |   271 | 0.9077491 | 0.08374069 |   12 |\n",
       "|  &lt;=50K |  White              | 20699 | 27816 | 0.7441401 | 0.19039563 | 2696 |\n",
       "\n"
      ],
      "text/plain": [
       "  income race                n     stratum_size p         var        n_h \n",
       "1  <=50K  Amer-Indian-Eskimo   275   311        0.8842444 0.10235626   16\n",
       "2  <=50K  Asian-Pac-Islander   763  1039        0.7343600 0.19507541  103\n",
       "3  <=50K  Black               2737  3124        0.8761204 0.10853348  173\n",
       "4  <=50K  Other                246   271        0.9077491 0.08374069   12\n",
       "5  <=50K  White              20699 27816        0.7441401 0.19039563 2696"
      ]
     },
     "metadata": {},
     "output_type": "display_data"
    },
    {
     "data": {
      "text/html": [
       "3000"
      ],
      "text/latex": [
       "3000"
      ],
      "text/markdown": [
       "3000"
      ],
      "text/plain": [
       "[1] 3000"
      ]
     },
     "metadata": {},
     "output_type": "display_data"
    }
   ],
   "source": [
    "n <- 3000\n",
    "numerator <- income_prop_by_stratum$stratum_size * income_prop_by_stratum$var\n",
    "n_h <- n*numerator/sum(numerator)\n",
    "income_stratify_data <- income_prop_by_stratum %>% mutate(n_h = round(n_h))\n",
    "income_stratify_data\n",
    "sum(income_stratify_data$n_h)"
   ]
  },
  {
   "cell_type": "code",
   "execution_count": 19,
   "id": "89cb4e5a-97a0-4f2a-8bd7-653711f6b43c",
   "metadata": {},
   "outputs": [
    {
     "data": {
      "text/html": [
       "<table class=\"dataframe\">\n",
       "<caption>A data.frame: 6 × 2</caption>\n",
       "<thead>\n",
       "\t<tr><th></th><th scope=col>race</th><th scope=col>income</th></tr>\n",
       "\t<tr><th></th><th scope=col>&lt;chr&gt;</th><th scope=col>&lt;fct&gt;</th></tr>\n",
       "</thead>\n",
       "<tbody>\n",
       "\t<tr><th scope=row>1</th><td> White</td><td> &lt;=50K</td></tr>\n",
       "\t<tr><th scope=row>2</th><td> White</td><td> &lt;=50K</td></tr>\n",
       "\t<tr><th scope=row>3</th><td> White</td><td> &lt;=50K</td></tr>\n",
       "\t<tr><th scope=row>4</th><td> Black</td><td> &lt;=50K</td></tr>\n",
       "\t<tr><th scope=row>5</th><td> Black</td><td> &lt;=50K</td></tr>\n",
       "\t<tr><th scope=row>6</th><td> White</td><td> &lt;=50K</td></tr>\n",
       "</tbody>\n",
       "</table>\n"
      ],
      "text/latex": [
       "A data.frame: 6 × 2\n",
       "\\begin{tabular}{r|ll}\n",
       "  & race & income\\\\\n",
       "  & <chr> & <fct>\\\\\n",
       "\\hline\n",
       "\t1 &  White &  <=50K\\\\\n",
       "\t2 &  White &  <=50K\\\\\n",
       "\t3 &  White &  <=50K\\\\\n",
       "\t4 &  Black &  <=50K\\\\\n",
       "\t5 &  Black &  <=50K\\\\\n",
       "\t6 &  White &  <=50K\\\\\n",
       "\\end{tabular}\n"
      ],
      "text/markdown": [
       "\n",
       "A data.frame: 6 × 2\n",
       "\n",
       "| <!--/--> | race &lt;chr&gt; | income &lt;fct&gt; |\n",
       "|---|---|---|\n",
       "| 1 |  White |  &lt;=50K |\n",
       "| 2 |  White |  &lt;=50K |\n",
       "| 3 |  White |  &lt;=50K |\n",
       "| 4 |  Black |  &lt;=50K |\n",
       "| 5 |  Black |  &lt;=50K |\n",
       "| 6 |  White |  &lt;=50K |\n",
       "\n"
      ],
      "text/plain": [
       "  race   income\n",
       "1  White  <=50K\n",
       "2  White  <=50K\n",
       "3  White  <=50K\n",
       "4  Black  <=50K\n",
       "5  Black  <=50K\n",
       "6  White  <=50K"
      ]
     },
     "metadata": {},
     "output_type": "display_data"
    }
   ],
   "source": [
    "binary_stratify_data <- adult %>% select(race, income)\n",
    "level <- levels(as.factor(binary_stratify_data$race))\n",
    "Amer <- binary_stratify_data %>% filter(race == level[1]) %>% pull(income)\n",
    "Asian <- binary_stratify_data %>% filter(race == level[2]) %>% pull(income)\n",
    "Black <- binary_stratify_data %>% filter(race == level[3]) %>% pull(income)\n",
    "Other <- binary_stratify_data %>% filter(race == level[4]) %>% pull(income)\n",
    "White <- binary_stratify_data %>% filter(race == level[5]) %>% pull(income)"
   ]
  },
  {
   "cell_type": "code",
   "execution_count": 20,
   "id": "cee6fdce-994e-49c9-aee6-68b169ecf6b7",
   "metadata": {},
   "outputs": [
    {
     "data": {
      "text/html": [
       "<style>\n",
       ".list-inline {list-style: none; margin:0; padding: 0}\n",
       ".list-inline>li {display: inline-block}\n",
       ".list-inline>li:not(:last-child)::after {content: \"\\00b7\"; padding: 0 .5ex}\n",
       "</style>\n",
       "<ol class=list-inline><li>' &lt;=50K'</li><li>' &gt;50K'</li></ol>\n"
      ],
      "text/latex": [
       "\\begin{enumerate*}\n",
       "\\item ' <=50K'\n",
       "\\item ' >50K'\n",
       "\\end{enumerate*}\n"
      ],
      "text/markdown": [
       "1. ' &lt;=50K'\n",
       "2. ' &gt;50K'\n",
       "\n",
       "\n"
      ],
      "text/plain": [
       "[1] \" <=50K\" \" >50K\" "
      ]
     },
     "metadata": {},
     "output_type": "display_data"
    }
   ],
   "source": [
    "set.seed(344)\n",
    "n_h <- income_stratify_data$n_h\n",
    "amer_sample <- sample(as.character(Amer), n_h[1])\n",
    "asian_sample <- sample(as.character(Asian), n_h[2])\n",
    "black_sample <- sample(as.character(Black), n_h[3])\n",
    "other_sample <- sample(as.character(Other), n_h[4])\n",
    "white_sample <- sample(as.character(White), n_h[5])"
   ]
  },
  {
   "cell_type": "code",
   "execution_count": 23,
   "id": "da3e6c83-bfc1-40a3-9522-5c58f603c667",
   "metadata": {},
   "outputs": [
    {
     "data": {
      "text/html": [
       "0.256"
      ],
      "text/latex": [
       "0.256"
      ],
      "text/markdown": [
       "0.256"
      ],
      "text/plain": [
       "[1] 0.256"
      ]
     },
     "metadata": {},
     "output_type": "display_data"
    }
   ],
   "source": [
    "amer_prop <- mean(amer_sample == \" >50K\")\n",
    "asian_prop <- mean(asian_sample == \" >50K\")\n",
    "black_prop <- mean(black_sample == \" >50K\")\n",
    "other_prop <- mean(other_sample == \" >50K\")\n",
    "white_prop <- mean(white_sample == \" >50K\")\n",
    "props <- c(amer_prop, asian_prop, black_prop, other_prop, white_prop)\n",
    "prop_est <- sum(n_h*props/n)\n",
    "prop_est"
   ]
  },
  {
   "cell_type": "code",
   "execution_count": 28,
   "id": "19b4af45-3a9e-469e-8da0-63bae9076ad1",
   "metadata": {},
   "outputs": [
    {
     "data": {
      "text/html": [
       "0.00795090325447629"
      ],
      "text/latex": [
       "0.00795090325447629"
      ],
      "text/markdown": [
       "0.00795090325447629"
      ],
      "text/plain": [
       "[1] 0.007950903"
      ]
     },
     "metadata": {},
     "output_type": "display_data"
    }
   ],
   "source": [
    "amer_var = amer_prop*(1-amer_prop)/n_h[1]\n",
    "asian_var = asian_prop*(1-asian_prop)/n_h[2]\n",
    "black_var = black_prop*(1-black_prop)/n_h[3]\n",
    "other_var = other_prop*(1-other_prop)/n_h[4]\n",
    "white_var = white_prop*(1-white_prop)/n_h[5]\n",
    "prop_var = c(amer_var, asian_var, black_var, other_var, white_var)\n",
    "pooled_se = sqrt(sum(prop_var*(n_h/n)^2))\n",
    "pooled_se"
   ]
  },
  {
   "cell_type": "code",
   "execution_count": 33,
   "id": "426c950e-86db-4441-bf5b-340203260536",
   "metadata": {},
   "outputs": [
    {
     "data": {
      "text/html": [
       "<table class=\"dataframe\">\n",
       "<caption>A data.frame: 4 × 2</caption>\n",
       "<thead>\n",
       "\t<tr><th scope=col>name</th><th scope=col>value</th></tr>\n",
       "\t<tr><th scope=col>&lt;chr&gt;</th><th scope=col>&lt;dbl&gt;</th></tr>\n",
       "</thead>\n",
       "<tbody>\n",
       "\t<tr><td>Proportion Estimate</td><td>0.2560000</td></tr>\n",
       "\t<tr><td>Proportion SE      </td><td>0.0079500</td></tr>\n",
       "\t<tr><td>Lower Bound        </td><td>0.2404162</td></tr>\n",
       "\t<tr><td>Upper Bound        </td><td>0.2715838</td></tr>\n",
       "</tbody>\n",
       "</table>\n"
      ],
      "text/latex": [
       "A data.frame: 4 × 2\n",
       "\\begin{tabular}{ll}\n",
       " name & value\\\\\n",
       " <chr> & <dbl>\\\\\n",
       "\\hline\n",
       "\t Proportion Estimate & 0.2560000\\\\\n",
       "\t Proportion SE       & 0.0079500\\\\\n",
       "\t Lower Bound         & 0.2404162\\\\\n",
       "\t Upper Bound         & 0.2715838\\\\\n",
       "\\end{tabular}\n"
      ],
      "text/markdown": [
       "\n",
       "A data.frame: 4 × 2\n",
       "\n",
       "| name &lt;chr&gt; | value &lt;dbl&gt; |\n",
       "|---|---|\n",
       "| Proportion Estimate | 0.2560000 |\n",
       "| Proportion SE       | 0.0079500 |\n",
       "| Lower Bound         | 0.2404162 |\n",
       "| Upper Bound         | 0.2715838 |\n",
       "\n"
      ],
      "text/plain": [
       "  name                value    \n",
       "1 Proportion Estimate 0.2560000\n",
       "2 Proportion SE       0.0079500\n",
       "3 Lower Bound         0.2404162\n",
       "4 Upper Bound         0.2715838"
      ]
     },
     "metadata": {},
     "output_type": "display_data"
    }
   ],
   "source": [
    "data.frame(name = c(\"Proportion Estimate\", \"Proportion SE\", \"Lower Bound\", \"Upper Bound\"),\n",
    "           value = c(prop_est,round(pooled_se,5),prop_est - 1.96*pooled_se,prop_est + 1.96*pooled_se))"
   ]
  },
  {
   "cell_type": "markdown",
   "id": "28b324b7",
   "metadata": {},
   "source": [
    "## Discussion "
   ]
  },
  {
   "cell_type": "markdown",
   "id": "1b3364e4",
   "metadata": {},
   "source": [
    "## Conclusion "
   ]
  },
  {
   "cell_type": "markdown",
   "id": "917b6550",
   "metadata": {},
   "source": [
    "# Part II"
   ]
  }
 ],
 "metadata": {
  "kernelspec": {
   "display_name": "R",
   "language": "R",
   "name": "ir"
  },
  "language_info": {
   "codemirror_mode": "r",
   "file_extension": ".r",
   "mimetype": "text/x-r-source",
   "name": "R",
   "pygments_lexer": "r",
   "version": "4.0.5"
  }
 },
 "nbformat": 4,
 "nbformat_minor": 5
}
