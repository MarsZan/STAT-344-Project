{
 "cells": [
  {
   "cell_type": "markdown",
   "id": "9695b958",
   "metadata": {},
   "source": [
    "# Part I\n",
    "\n",
    "##### Authors: Yimin You"
   ]
  },
  {
   "cell_type": "markdown",
   "id": "b29cc9f3",
   "metadata": {},
   "source": [
    "## Introduction\n"
   ]
  },
  {
   "cell_type": "markdown",
   "id": "0965651f-a678-4d7d-9415-150275b0cceb",
   "metadata": {},
   "source": [
    "* 1, estimate the average song duration in the playlist\n",
    "* 2, a continuous analysis (parameter of interest is the mean song duration) and a binary analysis (parameter of interest is the proportion of songs longer than 180 seconds).\n",
    "* 3, first: will be a Simple Random Sample, second: Stratified Sample stratified by song duration.\n",
    "\n",
    "The dataset is collected from UCI Machine Learning Repository and the extraction was done by Barry Becker from the 1994 Census database.\n",
    "The group will consider two response variables in the population. One of the parameters is the age of our samples, which we will treat as a continuous variable, and the other is the income, which in our dataset, is a factor with two levels: less than 50k, or more than 50k. We will then conduct both simple random sampling and stratified sampling method on continuous variable to estimate the mean age and binary variables to estimate the proportion of people with income over? 50k a year.\n"
   ]
  },
  {
   "cell_type": "markdown",
   "id": "3c94e4a5",
   "metadata": {},
   "source": [
    "## Population Parameters"
   ]
  },
  {
   "cell_type": "markdown",
   "id": "0dd3fd07-85bb-4369-9876-ba8150c3582f",
   "metadata": {},
   "source": [
    "* 1, decide required sample size(N)\n",
    "* 2, sample size for continuous population\n",
    "* 3, sample size for binary population\n"
   ]
  },
  {
   "cell_type": "markdown",
   "id": "3b11efa5-8627-4209-96a1-c21e1fe0cc50",
   "metadata": {},
   "source": [
    "## Data Summarizing\n",
    "\n",
    "Once we load the data into R, we can see that our population size is 32561. From here, we decide on a sample size. For now, we arbitrarily decide on the number 2000, as it is reasonably sized, (can be realistically obtained by a method such as an online survey) and it is a nice number to split up when we discuss our stratified sampling results later. We use this value as our sample size for both our binary and continuous data analyses."
   ]
  },
  {
   "cell_type": "markdown",
   "id": "cce8eb51-5b7a-4bcf-9163-f84bcec6eb14",
   "metadata": {},
   "source": [
    "### Simple Random Sample\n",
    "\n",
    "In order to randomly generate an independent and identical sample, we use sample.int() function to draw 2000 indices from 32561 total indices. "
   ]
  },
  {
   "cell_type": "code",
   "execution_count": 3,
   "id": "5001d93f-446c-4b72-813e-db1b9f2db315",
   "metadata": {},
   "outputs": [
    {
     "data": {
      "image/png": "[encoded data removed]",
      "text/plain": [
       "Plot with title “Histogram of adult$age”"
      ]
     },
     "metadata": {
      "image/png": {
       "height": 420,
       "width": 900
      }
     },
     "output_type": "display_data"
    }
   ],
   "source": [
    "options(repr.plot.width = 15, repr.plot.height = 7)\n",
    "par(mfrow=c(1,2))\n",
    "hist(adult$age)\n",
    "barplot(table(adult$income))"
   ]
  },
  {
   "cell_type": "markdown",
   "id": "2838580c-7c71-4ea0-95ea-4251775df8ef",
   "metadata": {},
   "source": [
    "The histogram for continuous variable age is right-skewed with majorities between 20 years old and 50 years old with a peak around 30 years old, noticing that there is no population aging in 1994 when the census was being collected. From the barplot, more than two thirds of the sample are making less than 50K a year."
   ]
  },
  {
   "cell_type": "markdown",
   "id": "aba1e47d-86d5-4a2d-99bd-b48ffefad353",
   "metadata": {},
   "source": [
    "# Part II\n",
    "## Analysis and Comparison"
   ]
  },
  {
   "cell_type": "markdown",
   "id": "5b8449c5",
   "metadata": {},
   "source": [
    "### Simple Random Sample\n",
    "\n",
    "A simple random sample maximizes the randomness of the data we obtain, meaning we have very little control as to how the data will be distributed. Intuitively, this may suggest that the sample we collect will be representative of the population. However, there is a remote chance that the sample we collect may not be fully representative of our dataset. At this point, we will have to assume that our sample will be fully representative, and that our members in our sample all had an equal chance of being selected to be in our sample."
   ]
  },
  {
   "cell_type": "markdown",
   "id": "809d3ea0-d131-44b5-916b-112f28ecb381",
   "metadata": {},
   "source": [
    "#### Binary Population\n",
    "Recall that our response variable is the proportion of people that have an income greater that 50K. Sampling from our population, we obtain the sampled mean, 0.2405, with a standard error of [insert equation] 0.0093. The 95% confidence interval is [insert equation], which is [0.2224, 0.2596].\n",
    "Through our simple random sample as well as utilizing the Central Limit Theorem, our high sample size yields a normal sampling distribution with a mean of 0.2405. From this, we are 95% confident that the true proportion of people with an income greater than 50K is between 0.2224 and 0.2596. \n",
    "\n",
    "|     | Value  |   \n",
    "| :----------: | :----------: | \n",
    "| Sample Proportion|0.2405\n",
    "| Sample SE|0.0093\n",
    "| Lower CI|0.2224\n",
    "| Upper CI|0.2586"
   ]
  },
  {
   "cell_type": "markdown",
   "id": "1a40bf02-a05f-4c30-8aaf-ac3c9db94536",
   "metadata": {},
   "source": [
    "#### Continous Population\n",
    "We use the sample mean (ȳs= 𝚺yi/n) to estimate the population mean age for continuous parameter. Using the sample standard deviation, we are able to calculate the standard error using se(ȳs) = √(1-n/N)*Ss. The 95% confidence interval is measured by …\n",
    "\n",
    "|     | Value  |   \n",
    "| :----------: | :----------: | \n",
    "| Sample Mean|38.78\n",
    "| Sample SE|0.3039\n",
    "| Lower CI|38.1844\n",
    "| Upper CI|39.3756\n",
    "\n",
    "According to the output, the sample mean is 38.78 with a standard error of 0.3039. As the sample size is large enough, by the central limit theorem, the sample mean will be normal, thus we are 95% confident that the true population mean is between … and ..."
   ]
  },
  {
   "cell_type": "markdown",
   "id": "d9e12d98",
   "metadata": {},
   "source": [
    "## Stratified Sampling"
   ]
  },
  {
   "cell_type": "markdown",
   "id": "33ae036b-9f48-4742-8630-c5a0ff086959",
   "metadata": {},
   "source": [
    "In comparison with a simple random sampling, we can divide the population into sub-populations, then apply random sampling of each subgroups to more accurately reflect the population studied based on a set of chosen characteristics.\n",
    "\n",
    "* Assumptions:\n",
    "\n",
    "> All observations must be exactly under one and only one stratum.\n",
    "\n",
    "> Sampling from each stratum must be random\\n\",\n",
    "\n",
    "* Hypothesis:\n",
    "\n",
    "> The value of the parameters chosen are the same across all stratum (marital status), that is , 1.) the proportion of personal income that exceeds $50K/yr is the same across all stratum, and 2.) the mean age of individuals are the same across all stratum (marital status).\n"
   ]
  },
  {
   "cell_type": "markdown",
   "id": "e7f93a11",
   "metadata": {
    "tags": []
   },
   "source": [
    "## Analysis and Comparison"
   ]
  },
  {
   "cell_type": "code",
   "execution_count": 2,
   "id": "4bc3e177-8ac7-4bb3-8896-832ffedf6ccd",
   "metadata": {},
   "outputs": [
    {
     "name": "stderr",
     "output_type": "stream",
     "text": [
      "Warning message in system(\"timedatectl\", intern = TRUE):\n",
      "“running command 'timedatectl' had status 1”\n",
      "── \u001b[1mAttaching packages\u001b[22m ─────────────────────────────────────── tidyverse 1.3.1 ──\n",
      "\n",
      "\u001b[32m✔\u001b[39m \u001b[34mggplot2\u001b[39m 3.3.5     \u001b[32m✔\u001b[39m \u001b[34mpurrr  \u001b[39m 0.3.4\n",
      "\u001b[32m✔\u001b[39m \u001b[34mtibble \u001b[39m 3.1.3     \u001b[32m✔\u001b[39m \u001b[34mdplyr  \u001b[39m 1.0.7\n",
      "\u001b[32m✔\u001b[39m \u001b[34mtidyr  \u001b[39m 1.1.3     \u001b[32m✔\u001b[39m \u001b[34mstringr\u001b[39m 1.4.0\n",
      "\u001b[32m✔\u001b[39m \u001b[34mreadr  \u001b[39m 1.4.0     \u001b[32m✔\u001b[39m \u001b[34mforcats\u001b[39m 0.5.1\n",
      "\n",
      "── \u001b[1mConflicts\u001b[22m ────────────────────────────────────────── tidyverse_conflicts() ──\n",
      "\u001b[31m✖\u001b[39m \u001b[34mdplyr\u001b[39m::\u001b[32mfilter()\u001b[39m masks \u001b[34mstats\u001b[39m::filter()\n",
      "\u001b[31m✖\u001b[39m \u001b[34mdplyr\u001b[39m::\u001b[32mlag()\u001b[39m    masks \u001b[34mstats\u001b[39m::lag()\n",
      "\n",
      "Registered S3 method overwritten by 'GGally':\n",
      "  method from   \n",
      "  +.gg   ggplot2\n",
      "\n"
     ]
    },
    {
     "data": {
      "image/png": "[encoded data removed]",
      "text/plain": [
       "Plot with title “Histogram of adult$age”"
      ]
     },
     "metadata": {
      "image/png": {
       "height": 420,
       "width": 900
      }
     },
     "output_type": "display_data"
    }
   ],
   "source": [
    "library(tidyverse)\n",
    "library(GGally)\n",
    "adult <- read.csv(\"adult.data\", header = FALSE)\n",
    "column_names <- c(\"age\",\n",
    "                  \"workclass\",\n",
    "                  \"final_weight\",\n",
    "                  \"education\", \n",
    "                  \"education_num\",\n",
    "                  \"marital_status\",\n",
    "                  \"occupation\",\n",
    "                  \"relationship\",\n",
    "                  \"race\",\n",
    "                  \"sex\",\n",
    "                  \"capital_gain\", \n",
    "                  \"capital_loss\", \n",
    "                  \"hours_per_week\", \n",
    "                  \"native_country\",\n",
    "                  \"income\")\n",
    "adult <- setNames(adult, column_names)\n",
    "adult <- adult %>%\n",
    "    mutate(income = as.factor(income))\n",
    "\n",
    "options(repr.plot.width = 15, repr.plot.height = 7)\n",
    "par(mfrow=c(1,2))\n",
    "hist(adult$age)\n",
    "barplot(table(adult$income))"
   ]
  },
  {
   "cell_type": "code",
   "execution_count": 25,
   "id": "1a0b9e0e-8427-469c-ba28-f59b362e5485",
   "metadata": {},
   "outputs": [
    {
     "data": {
      "text/html": [
       "<table class=\"dataframe\">\n",
       "<caption>A data.frame: 6 × 15</caption>\n",
       "<thead>\n",
       "\t<tr><th></th><th scope=col>age</th><th scope=col>workclass</th><th scope=col>final_weight</th><th scope=col>education</th><th scope=col>education_num</th><th scope=col>marital_status</th><th scope=col>occupation</th><th scope=col>relationship</th><th scope=col>race</th><th scope=col>sex</th><th scope=col>capital_gain</th><th scope=col>capital_loss</th><th scope=col>hours_per_week</th><th scope=col>native_country</th><th scope=col>income</th></tr>\n",
       "\t<tr><th></th><th scope=col>&lt;int&gt;</th><th scope=col>&lt;chr&gt;</th><th scope=col>&lt;int&gt;</th><th scope=col>&lt;chr&gt;</th><th scope=col>&lt;int&gt;</th><th scope=col>&lt;chr&gt;</th><th scope=col>&lt;chr&gt;</th><th scope=col>&lt;chr&gt;</th><th scope=col>&lt;chr&gt;</th><th scope=col>&lt;chr&gt;</th><th scope=col>&lt;int&gt;</th><th scope=col>&lt;int&gt;</th><th scope=col>&lt;int&gt;</th><th scope=col>&lt;chr&gt;</th><th scope=col>&lt;fct&gt;</th></tr>\n",
       "</thead>\n",
       "<tbody>\n",
       "\t<tr><th scope=row>1</th><td>39</td><td><span style=white-space:pre-wrap> State-gov       </span></td><td> 77516</td><td> Bachelors</td><td>13</td><td><span style=white-space:pre-wrap> Never-married     </span></td><td><span style=white-space:pre-wrap> Adm-clerical     </span></td><td> Not-in-family</td><td> White</td><td><span style=white-space:pre-wrap> Male  </span></td><td>2174</td><td>0</td><td>40</td><td> United-States</td><td> &lt;=50K</td></tr>\n",
       "\t<tr><th scope=row>2</th><td>50</td><td> Self-emp-not-inc</td><td> 83311</td><td> Bachelors</td><td>13</td><td> Married-civ-spouse</td><td><span style=white-space:pre-wrap> Exec-managerial  </span></td><td><span style=white-space:pre-wrap> Husband      </span></td><td> White</td><td><span style=white-space:pre-wrap> Male  </span></td><td><span style=white-space:pre-wrap>   0</span></td><td>0</td><td>13</td><td> United-States</td><td> &lt;=50K</td></tr>\n",
       "\t<tr><th scope=row>3</th><td>38</td><td><span style=white-space:pre-wrap> Private         </span></td><td>215646</td><td><span style=white-space:pre-wrap> HS-grad  </span></td><td> 9</td><td><span style=white-space:pre-wrap> Divorced          </span></td><td> Handlers-cleaners</td><td> Not-in-family</td><td> White</td><td><span style=white-space:pre-wrap> Male  </span></td><td><span style=white-space:pre-wrap>   0</span></td><td>0</td><td>40</td><td> United-States</td><td> &lt;=50K</td></tr>\n",
       "\t<tr><th scope=row>4</th><td>53</td><td><span style=white-space:pre-wrap> Private         </span></td><td>234721</td><td><span style=white-space:pre-wrap> 11th     </span></td><td> 7</td><td> Married-civ-spouse</td><td> Handlers-cleaners</td><td><span style=white-space:pre-wrap> Husband      </span></td><td> Black</td><td><span style=white-space:pre-wrap> Male  </span></td><td><span style=white-space:pre-wrap>   0</span></td><td>0</td><td>40</td><td> United-States</td><td> &lt;=50K</td></tr>\n",
       "\t<tr><th scope=row>5</th><td>28</td><td><span style=white-space:pre-wrap> Private         </span></td><td>338409</td><td> Bachelors</td><td>13</td><td> Married-civ-spouse</td><td><span style=white-space:pre-wrap> Prof-specialty   </span></td><td><span style=white-space:pre-wrap> Wife         </span></td><td> Black</td><td> Female</td><td><span style=white-space:pre-wrap>   0</span></td><td>0</td><td>40</td><td><span style=white-space:pre-wrap> Cuba         </span></td><td> &lt;=50K</td></tr>\n",
       "\t<tr><th scope=row>6</th><td>37</td><td><span style=white-space:pre-wrap> Private         </span></td><td>284582</td><td><span style=white-space:pre-wrap> Masters  </span></td><td>14</td><td> Married-civ-spouse</td><td><span style=white-space:pre-wrap> Exec-managerial  </span></td><td><span style=white-space:pre-wrap> Wife         </span></td><td> White</td><td> Female</td><td><span style=white-space:pre-wrap>   0</span></td><td>0</td><td>40</td><td> United-States</td><td> &lt;=50K</td></tr>\n",
       "</tbody>\n",
       "</table>\n"
      ],
      "text/latex": [
       "A data.frame: 6 × 15\n",
       "\\begin{tabular}{r|lllllllllllllll}\n",
       "  & age & workclass & final\\_weight & education & education\\_num & marital\\_status & occupation & relationship & race & sex & capital\\_gain & capital\\_loss & hours\\_per\\_week & native\\_country & income\\\\\n",
       "  & <int> & <chr> & <int> & <chr> & <int> & <chr> & <chr> & <chr> & <chr> & <chr> & <int> & <int> & <int> & <chr> & <fct>\\\\\n",
       "\\hline\n",
       "\t1 & 39 &  State-gov        &  77516 &  Bachelors & 13 &  Never-married      &  Adm-clerical      &  Not-in-family &  White &  Male   & 2174 & 0 & 40 &  United-States &  <=50K\\\\\n",
       "\t2 & 50 &  Self-emp-not-inc &  83311 &  Bachelors & 13 &  Married-civ-spouse &  Exec-managerial   &  Husband       &  White &  Male   &    0 & 0 & 13 &  United-States &  <=50K\\\\\n",
       "\t3 & 38 &  Private          & 215646 &  HS-grad   &  9 &  Divorced           &  Handlers-cleaners &  Not-in-family &  White &  Male   &    0 & 0 & 40 &  United-States &  <=50K\\\\\n",
       "\t4 & 53 &  Private          & 234721 &  11th      &  7 &  Married-civ-spouse &  Handlers-cleaners &  Husband       &  Black &  Male   &    0 & 0 & 40 &  United-States &  <=50K\\\\\n",
       "\t5 & 28 &  Private          & 338409 &  Bachelors & 13 &  Married-civ-spouse &  Prof-specialty    &  Wife          &  Black &  Female &    0 & 0 & 40 &  Cuba          &  <=50K\\\\\n",
       "\t6 & 37 &  Private          & 284582 &  Masters   & 14 &  Married-civ-spouse &  Exec-managerial   &  Wife          &  White &  Female &    0 & 0 & 40 &  United-States &  <=50K\\\\\n",
       "\\end{tabular}\n"
      ],
      "text/markdown": [
       "\n",
       "A data.frame: 6 × 15\n",
       "\n",
       "| <!--/--> | age &lt;int&gt; | workclass &lt;chr&gt; | final_weight &lt;int&gt; | education &lt;chr&gt; | education_num &lt;int&gt; | marital_status &lt;chr&gt; | occupation &lt;chr&gt; | relationship &lt;chr&gt; | race &lt;chr&gt; | sex &lt;chr&gt; | capital_gain &lt;int&gt; | capital_loss &lt;int&gt; | hours_per_week &lt;int&gt; | native_country &lt;chr&gt; | income &lt;fct&gt; |\n",
       "|---|---|---|---|---|---|---|---|---|---|---|---|---|---|---|---|\n",
       "| 1 | 39 |  State-gov        |  77516 |  Bachelors | 13 |  Never-married      |  Adm-clerical      |  Not-in-family |  White |  Male   | 2174 | 0 | 40 |  United-States |  &lt;=50K |\n",
       "| 2 | 50 |  Self-emp-not-inc |  83311 |  Bachelors | 13 |  Married-civ-spouse |  Exec-managerial   |  Husband       |  White |  Male   |    0 | 0 | 13 |  United-States |  &lt;=50K |\n",
       "| 3 | 38 |  Private          | 215646 |  HS-grad   |  9 |  Divorced           |  Handlers-cleaners |  Not-in-family |  White |  Male   |    0 | 0 | 40 |  United-States |  &lt;=50K |\n",
       "| 4 | 53 |  Private          | 234721 |  11th      |  7 |  Married-civ-spouse |  Handlers-cleaners |  Husband       |  Black |  Male   |    0 | 0 | 40 |  United-States |  &lt;=50K |\n",
       "| 5 | 28 |  Private          | 338409 |  Bachelors | 13 |  Married-civ-spouse |  Prof-specialty    |  Wife          |  Black |  Female |    0 | 0 | 40 |  Cuba          |  &lt;=50K |\n",
       "| 6 | 37 |  Private          | 284582 |  Masters   | 14 |  Married-civ-spouse |  Exec-managerial   |  Wife          |  White |  Female |    0 | 0 | 40 |  United-States |  &lt;=50K |\n",
       "\n"
      ],
      "text/plain": [
       "  age workclass         final_weight education  education_num\n",
       "1 39   State-gov         77516        Bachelors 13           \n",
       "2 50   Self-emp-not-inc  83311        Bachelors 13           \n",
       "3 38   Private          215646        HS-grad    9           \n",
       "4 53   Private          234721        11th       7           \n",
       "5 28   Private          338409        Bachelors 13           \n",
       "6 37   Private          284582        Masters   14           \n",
       "  marital_status      occupation         relationship   race   sex    \n",
       "1  Never-married       Adm-clerical       Not-in-family  White  Male  \n",
       "2  Married-civ-spouse  Exec-managerial    Husband        White  Male  \n",
       "3  Divorced            Handlers-cleaners  Not-in-family  White  Male  \n",
       "4  Married-civ-spouse  Handlers-cleaners  Husband        Black  Male  \n",
       "5  Married-civ-spouse  Prof-specialty     Wife           Black  Female\n",
       "6  Married-civ-spouse  Exec-managerial    Wife           White  Female\n",
       "  capital_gain capital_loss hours_per_week native_country income\n",
       "1 2174         0            40              United-States  <=50K\n",
       "2    0         0            13              United-States  <=50K\n",
       "3    0         0            40              United-States  <=50K\n",
       "4    0         0            40              United-States  <=50K\n",
       "5    0         0            40              Cuba           <=50K\n",
       "6    0         0            40              United-States  <=50K"
      ]
     },
     "metadata": {},
     "output_type": "display_data"
    }
   ],
   "source": [
    "head(adult)"
   ]
  },
  {
   "cell_type": "code",
   "execution_count": 27,
   "id": "e07d96db-69f1-45af-8319-04cec3829e51",
   "metadata": {},
   "outputs": [
    {
     "data": {
      "image/png": "[encoded data removed]",
      "text/plain": [
       "Plot with title “Histogram of adult$age”"
      ]
     },
     "metadata": {
      "image/png": {
       "height": 420,
       "width": 420
      }
     },
     "output_type": "display_data"
    }
   ],
   "source": [
    "age_His <- hist(adult$age)"
   ]
  },
  {
   "cell_type": "markdown",
   "id": "b10c9882-123f-4cf3-ba2e-e9e2b02315d0",
   "metadata": {},
   "source": [
    "### SRS"
   ]
  },
  {
   "cell_type": "code",
   "execution_count": 58,
   "id": "baf76f22-7c9e-456e-897c-387dd505f537",
   "metadata": {},
   "outputs": [
    {
     "data": {
      "text/html": [
       "32561"
      ],
      "text/latex": [
       "32561"
      ],
      "text/markdown": [
       "32561"
      ],
      "text/plain": [
       "[1] 32561"
      ]
     },
     "metadata": {},
     "output_type": "display_data"
    },
    {
     "data": {
      "text/html": [
       "38.78"
      ],
      "text/latex": [
       "38.78"
      ],
      "text/markdown": [
       "38.78"
      ],
      "text/plain": [
       "[1] 38.78"
      ]
     },
     "metadata": {},
     "output_type": "display_data"
    },
    {
     "data": {
      "text/html": [
       "0.3039"
      ],
      "text/latex": [
       "0.3039"
      ],
      "text/markdown": [
       "0.3039"
      ],
      "text/plain": [
       "[1] 0.3039"
      ]
     },
     "metadata": {},
     "output_type": "display_data"
    },
    {
     "data": {
      "text/html": [
       "<style>\n",
       ".list-inline {list-style: none; margin:0; padding: 0}\n",
       ".list-inline>li {display: inline-block}\n",
       ".list-inline>li:not(:last-child)::after {content: \"\\00b7\"; padding: 0 .5ex}\n",
       "</style>\n",
       "<ol class=list-inline><li>38.1844</li><li>39.3756</li></ol>\n"
      ],
      "text/latex": [
       "\\begin{enumerate*}\n",
       "\\item 38.1844\n",
       "\\item 39.3756\n",
       "\\end{enumerate*}\n"
      ],
      "text/markdown": [
       "1. 38.1844\n",
       "2. 39.3756\n",
       "\n",
       "\n"
      ],
      "text/plain": [
       "[1] 38.1844 39.3756"
      ]
     },
     "metadata": {},
     "output_type": "display_data"
    }
   ],
   "source": [
    "### Continous Population\n",
    "set.seed(344)\n",
    "\n",
    "N <- nrow(adult)\n",
    "N\n",
    "n <- 2000\n",
    "\n",
    "SRS.index <- sample.int(N, n, replace = FALSE) \n",
    "adultsample <- adult[SRS.index, ]\n",
    "\n",
    "ybar <- mean(adultsample$age)\n",
    "s_sd <- sd(adultsample$age)\n",
    "se_ybar <- sqrt((1-n/N)*(s_sd^2/n))\n",
    "round(ybar,4)\n",
    "#s_sd\n",
    "round(se_ybar,4)\n",
    "\n",
    "round(c(ybar - 1.96 * se_ybar, ybar + 1.96 * se_ybar),4)"
   ]
  },
  {
   "cell_type": "markdown",
   "id": "732faa02-8f15-4df8-916a-c1f796668717",
   "metadata": {},
   "source": [
    "|     | Value  |   \n",
    "| :----------: | :----------: | \n",
    "| Sample Mean|38.78\n",
    "| Sample SE|0.3039\n",
    "| Lower CI|38.1844\n",
    "| Upper CI|39.3756"
   ]
  },
  {
   "cell_type": "code",
   "execution_count": 56,
   "id": "971f6c82-4f47-4d47-80d8-af59618e99ba",
   "metadata": {},
   "outputs": [
    {
     "data": {
      "text/html": [
       "0.2405"
      ],
      "text/latex": [
       "0.2405"
      ],
      "text/markdown": [
       "0.2405"
      ],
      "text/plain": [
       "[1] 0.2405"
      ]
     },
     "metadata": {},
     "output_type": "display_data"
    },
    {
     "data": {
      "text/html": [
       "0.0093"
      ],
      "text/latex": [
       "0.0093"
      ],
      "text/markdown": [
       "0.0093"
      ],
      "text/plain": [
       "[1] 0.0093"
      ]
     },
     "metadata": {},
     "output_type": "display_data"
    },
    {
     "data": {
      "text/html": [
       "<style>\n",
       ".list-inline {list-style: none; margin:0; padding: 0}\n",
       ".list-inline>li {display: inline-block}\n",
       ".list-inline>li:not(:last-child)::after {content: \"\\00b7\"; padding: 0 .5ex}\n",
       "</style>\n",
       "<ol class=list-inline><li>0.2224</li><li>0.2586</li></ol>\n"
      ],
      "text/latex": [
       "\\begin{enumerate*}\n",
       "\\item 0.2224\n",
       "\\item 0.2586\n",
       "\\end{enumerate*}\n"
      ],
      "text/markdown": [
       "1. 0.2224\n",
       "2. 0.2586\n",
       "\n",
       "\n"
      ],
      "text/plain": [
       "[1] 0.2224 0.2586"
      ]
     },
     "metadata": {},
     "output_type": "display_data"
    }
   ],
   "source": [
    "### Binary Population\n",
    "set.seed(344)\n",
    "\n",
    "N <- nrow(adult)\n",
    "n <- 2000\n",
    "\n",
    "SRS.index <- sample.int(N, n, replace = FALSE) \n",
    "adultsample <- adult[SRS.index, ]\n",
    "\n",
    "income <- adultsample %>%\n",
    "    group_by(income) %>%\n",
    "    summarize(n = n())\n",
    "\n",
    "p_hat <- income[2,2]/n\n",
    "p_hat = pull(p_hat)\n",
    "round(p_hat, 4)\n",
    "\n",
    "phat_se = sqrt((1-n/N)*p_hat*(1-p_hat)/n)\n",
    "round(phat_se, 4)\n",
    "\n",
    "round(c(p_hat - 1.96 * phat_se, p_hat + 1.96 * phat_se),4)"
   ]
  },
  {
   "cell_type": "markdown",
   "id": "a95f29c7-83a9-43d7-bc0a-d9c67ba51506",
   "metadata": {},
   "source": [
    "|     | Value  |   \n",
    "| :----------: | :----------: | \n",
    "| Sample Proportion|0.2405\n",
    "| Sample SE|0.0093\n",
    "| Lower CI|0.2224\n",
    "| Upper CI|0.2586"
   ]
  },
  {
   "cell_type": "markdown",
   "id": "28b324b7",
   "metadata": {},
   "source": [
    "## Discussion "
   ]
  },
  {
   "cell_type": "markdown",
   "id": "1b3364e4",
   "metadata": {},
   "source": [
    "## Conclusion "
   ]
  },
  {
   "cell_type": "markdown",
   "id": "917b6550",
   "metadata": {},
   "source": [
    "# Part II"
   ]
  }
 ],
 "metadata": {
  "kernelspec": {
   "display_name": "R",
   "language": "R",
   "name": "ir"
  },
  "language_info": {
   "codemirror_mode": "r",
   "file_extension": ".r",
   "mimetype": "text/x-r-source",
   "name": "R",
   "pygments_lexer": "r",
   "version": "4.0.5"
  }
 },
 "nbformat": 4,
 "nbformat_minor": 5
}
