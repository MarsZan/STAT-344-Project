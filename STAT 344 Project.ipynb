{
 "cells": [
  {
   "cell_type": "markdown",
   "id": "9695b958",
   "metadata": {},
   "source": [
    "# Part I\n",
    "\n",
    "##### Authors: Yimin You"
   ]
  },
  {
   "cell_type": "markdown",
   "id": "b29cc9f3",
   "metadata": {},
   "source": [
    "## Introduction\n"
   ]
  },
  {
   "cell_type": "markdown",
   "id": "0965651f-a678-4d7d-9415-150275b0cceb",
   "metadata": {},
   "source": [
    "// NOTE: write about project//\n",
    "\n",
    "The dataset is collected from UCI Machine Learning Repository and the extraction was done by Barry Becker from the 1994 Census database.\n",
    "The group will consider two response variables in the population. One of the parameters is the age of our samples, which we will treat as a continuous variable, and the other is the income, which in our dataset, is a factor with two levels: less than 50k, or more than 50k. We will then conduct both simple random sampling and stratified sampling method on continuous variable to estimate the mean age and binary variables to estimate the proportion of people with an income over 50k a year.\n"
   ]
  },
  {
   "cell_type": "markdown",
   "id": "3b11efa5-8627-4209-96a1-c21e1fe0cc50",
   "metadata": {},
   "source": [
    "## Parameters of Interest, Sample Size\n",
    "// write about parameters of interest\n",
    "\n",
    "Once we load the data into R, we can see that our population size is ${N}$ = 32561. From here, we can decide on a sample size. \n",
    "\n",
    "n = 2236\n"
   ]
  },
  {
   "cell_type": "markdown",
   "id": "80debc21-b1c7-450d-b330-51cbcda6e299",
   "metadata": {},
   "source": [
    "|     | Value  |   \n",
    "| :----------: | :----------: | \n",
    "| Age Population Mean ($\\bar y_{pop}$)|38.5816\n",
    "| Income Population Proportion ($p$)|0.2408\n"
   ]
  },
  {
   "cell_type": "code",
   "execution_count": 10,
   "id": "5001d93f-446c-4b72-813e-db1b9f2db315",
   "metadata": {},
   "outputs": [
    {
     "data": {
      "image/png": "[encoded data removed]",
      "text/plain": [
       "Plot with title “Boxplot of our Sample Income Proportions”"
      ]
     },
     "metadata": {
      "image/png": {
       "height": 420,
       "width": 900
      }
     },
     "output_type": "display_data"
    }
   ],
   "source": [
    "options(repr.plot.width = 15, repr.plot.height = 7)\n",
    "par(mfrow=c(1,2))\n",
    "hist(adult$age, main = \"Histogram of our Sample Ages\")\n",
    "barplot(table(adult$income), main = \"Boxplot of our Sample Income Proportions\")"
   ]
  },
  {
   "cell_type": "markdown",
   "id": "2838580c-7c71-4ea0-95ea-4251775df8ef",
   "metadata": {},
   "source": [
    "The histogram for continuous variable age is right-skewed with the majority of the population ages being between 20 years old and 50 years old with a mean of around 30 years old. We take note that there are few samples with ages on the higher end. From the barplot, it looks like more than three quarters of the population are making less than 50K a year, with approximately one quarter of the population making more than 50K a year."
   ]
  },
  {
   "cell_type": "markdown",
   "id": "aba1e47d-86d5-4a2d-99bd-b48ffefad353",
   "metadata": {},
   "source": [
    "## Analysis and Comparison"
   ]
  },
  {
   "cell_type": "markdown",
   "id": "5b8449c5",
   "metadata": {},
   "source": [
    "### Simple Random Sampling\n",
    "\n",
    "A simple random sample maximizes the randomness of the data we obtain, meaning we have very little control as to how the data will be distributed. Intuitively, this may suggest that the sample we collect will be representative of the population. However, there is a remote chance that the sample we collect may not be fully representative of our dataset. At this point, we will have to assume that our sample will be fully representative, and that our members in our sample all had an equal chance of being selected to be in our sample.\n",
    "\n",
    "In order to randomly generate an independent and identical sample, we use sample.int() function to draw 2236 indices from 32561 total indices. "
   ]
  },
  {
   "cell_type": "markdown",
   "id": "809d3ea0-d131-44b5-916b-112f28ecb381",
   "metadata": {
    "tags": []
   },
   "source": [
    "#### Binary Population\n",
    "Recall that our response variable is the proportion of people that have an income greater that 50K. Sampling from our population, we obtain the sampled mean, 0.2405, with a standard error of [insert equation] 0.0093. The 95% confidence interval is [insert equation], which is [0.2224, 0.2596].\n",
    "Through our simple random sample as well as utilizing the Central Limit Theorem, our high sample size yields a normal sampling distribution with a mean of 0.2405. From this, we are 95% confident that the true proportion of people with an income greater than 50K is between 0.2224 and 0.2596. \n",
    "\n",
    "|     | Value  |   \n",
    "| :----------: | :----------: | \n",
    "| Sample Proportion|0.2415\n",
    "| Sample SE|0.0087\n",
    "| Lower CI|0.2244\n",
    "| Upper CI|0.2586"
   ]
  },
  {
   "cell_type": "markdown",
   "id": "1a40bf02-a05f-4c30-8aaf-ac3c9db94536",
   "metadata": {},
   "source": [
    "#### Continous Population\n",
    "We use the sample mean $\\bar{y_s} = \\frac{\\sum_{i = 1}^{n}{y_i}}{n}$ to estimate the population mean age for continuous parameter. Using the sample standard deviation, we are able to calculate the standard error using $SE_{\\bar{y_s}} = \\sqrt{(1-\\frac{n}{N}) \\frac{{s_s}^2}{n}}$. The 95% confidence interval is measured by ${\\bar{y_s}}~ \\pm 1.96 \\times SE_{\\bar{y_s}}$\n",
    "\n",
    "|     | Value  |   \n",
    "| :----------: | :----------: | \n",
    "| Sample Mean|38.6556\n",
    "| Sample SE|0.2847\n",
    "| Lower CI|38.0975\n",
    "| Upper CI|39.2137\n",
    "\n",
    "According to the output, the sample mean is 38.6556 with a standard error of 0.2847. As the sample size is large enough, we can utilize the central limit theorem and conclude that the sampling distribution of the mean will be normal. From this, we can be 95% confident that the true population mean is between 38.0975 and 39.2137."
   ]
  },
  {
   "cell_type": "markdown",
   "id": "d9e12d98",
   "metadata": {},
   "source": [
    "### Stratified Sampling"
   ]
  },
  {
   "cell_type": "markdown",
   "id": "33ae036b-9f48-4742-8630-c5a0ff086959",
   "metadata": {},
   "source": [
    "For stratified sampling method, we first use information about the population to divide the population of interest into sub-populations. Then we random sample $n_h$ number of individuals from each subpopulation where $n_h$ is obtained through proportional allocation. In theory, stratified sampling will more accurately reflect the population studied based on a set of chosen characteristics.\n",
    "\n",
    "* Assumptions: \n",
    "\n",
    "> We assume the sampling cost for each subpopulation is the same. \n",
    "\n",
    "> We assume the subpopulations have similar variance. \n",
    "\n",
    "* Procedures:\n",
    "\n",
    "> First, $n_h$ for each subpopulation is calculated based on subpopulation size such that $n_h = n\\frac{N_h}{N}$, where $n$ is the total sample size, $N_h$ is the subpopulation size, and $N$ is the population size. \n",
    "\n",
    "> Second, we divide the population into $h$ subpopulation and randomly sample $n_h$ individuals without replacement from each subpopulation to form of stratified sample. \n",
    "\n",
    "> Finally, we find the mean and variance of age and proportion of individuals with income greater than 50K for each subpopulation and combine the estimates to form one stratified estimates $\\bar y_{str,s}$,$p_{str,s}$ of the population parameters. "
   ]
  },
  {
   "cell_type": "markdown",
   "id": "732faa02-8f15-4df8-916a-c1f796668717",
   "metadata": {},
   "source": [
    "#### Binary Population\n",
    "\n",
    "\n",
    "|     | Value  |   \n",
    "| :----------: | :----------: | \n",
    "| Sample Mean|0.24064\n",
    "| Sample SE|0.00867\n",
    "| Lower CI|0.22364\n",
    "| Upper CI|0.25764"
   ]
  },
  {
   "cell_type": "markdown",
   "id": "dae13cbf-0988-4782-8ccb-274d1391378c",
   "metadata": {},
   "source": [
    "#### Continous Population\n",
    "\n",
    "|     | Value  |   \n",
    "| :----------: | :----------: | \n",
    "| Sample Proportion|38.6169\n",
    "| Sample SE|0.2285\n",
    "| Lower CI|38.169\n",
    "| Upper CI|39.065"
   ]
  },
  {
   "cell_type": "markdown",
   "id": "5e62db98-060a-46cd-baf4-7239fa6ae340",
   "metadata": {},
   "source": [
    "## Appendix"
   ]
  },
  {
   "cell_type": "code",
   "execution_count": 38,
   "id": "8e10bf37-7adf-44da-9c72-1c723cc461d0",
   "metadata": {},
   "outputs": [],
   "source": [
    "library(tidyverse)\n",
    "library(GGally)\n",
    "adult <- read.csv(\"adult.data\", header = FALSE)\n",
    "column_names <- c(\"age\",\n",
    "                  \"workclass\",\n",
    "                  \"final_weight\",\n",
    "                  \"education\", \n",
    "                  \"education_num\",\n",
    "                  \"marital_status\",\n",
    "                  \"occupation\",\n",
    "                  \"relationship\",\n",
    "                  \"race\",\n",
    "                  \"sex\",\n",
    "                  \"capital_gain\", \n",
    "                  \"capital_loss\", \n",
    "                  \"hours_per_week\", \n",
    "                  \"native_country\",\n",
    "                  \"income\")\n",
    "adult <- setNames(adult, column_names)\n",
    "adult <- adult %>% mutate_if(is.character, as.factor)\n",
    "\n",
    "n = 2236 \n",
    "N = nrow(adult) ## population size"
   ]
  },
  {
   "cell_type": "markdown",
   "id": "b5a9b89c-92c8-43f0-bb17-2e899d862100",
   "metadata": {},
   "source": [
    "## Stratified Sampling"
   ]
  },
  {
   "cell_type": "markdown",
   "id": "16ed13fd-87ef-44ec-a8de-88a4c882e5ec",
   "metadata": {},
   "source": [
    "### Continuous Parameter Estimation"
   ]
  },
  {
   "cell_type": "code",
   "execution_count": 2,
   "id": "8db9e756-7d91-4f2d-937c-69149768cda5",
   "metadata": {},
   "outputs": [],
   "source": [
    "level <- as.character(levels(as.factor(adult$marital_status)))\n",
    "status <- as.character(adult$marital_status)\n",
    "for (i in 1:length(status)) {\n",
    "    ifelse (status[i] == level[2] | status[i] == level[3] | status[i] == level[4], \n",
    "            status[i] <- \" Married\", \n",
    "            status[i] <- status[i])\n",
    "}"
   ]
  },
  {
   "cell_type": "code",
   "execution_count": 3,
   "id": "8d497094-a3b8-4196-a382-c08d3215ab6a",
   "metadata": {},
   "outputs": [
    {
     "data": {
      "text/html": [
       "<table class=\"dataframe\">\n",
       "<caption>A tibble: 5 × 4</caption>\n",
       "<thead>\n",
       "\t<tr><th scope=col>status</th><th scope=col>N_h</th><th scope=col>stratum_prop</th><th scope=col>n_h</th></tr>\n",
       "\t<tr><th scope=col>&lt;fct&gt;</th><th scope=col>&lt;int&gt;</th><th scope=col>&lt;dbl&gt;</th><th scope=col>&lt;dbl&gt;</th></tr>\n",
       "</thead>\n",
       "<tbody>\n",
       "\t<tr><td> Divorced     </td><td> 4443</td><td>0.13645158</td><td> 305</td></tr>\n",
       "\t<tr><td> Married      </td><td>15417</td><td>0.47348054</td><td>1059</td></tr>\n",
       "\t<tr><td> Never-married</td><td>10683</td><td>0.32809189</td><td> 734</td></tr>\n",
       "\t<tr><td> Separated    </td><td> 1025</td><td>0.03147938</td><td>  70</td></tr>\n",
       "\t<tr><td> Widowed      </td><td>  993</td><td>0.03049661</td><td>  68</td></tr>\n",
       "</tbody>\n",
       "</table>\n"
      ],
      "text/latex": [
       "A tibble: 5 × 4\n",
       "\\begin{tabular}{llll}\n",
       " status & N\\_h & stratum\\_prop & n\\_h\\\\\n",
       " <fct> & <int> & <dbl> & <dbl>\\\\\n",
       "\\hline\n",
       "\t  Divorced      &  4443 & 0.13645158 &  305\\\\\n",
       "\t  Married       & 15417 & 0.47348054 & 1059\\\\\n",
       "\t  Never-married & 10683 & 0.32809189 &  734\\\\\n",
       "\t  Separated     &  1025 & 0.03147938 &   70\\\\\n",
       "\t  Widowed       &   993 & 0.03049661 &   68\\\\\n",
       "\\end{tabular}\n"
      ],
      "text/markdown": [
       "\n",
       "A tibble: 5 × 4\n",
       "\n",
       "| status &lt;fct&gt; | N_h &lt;int&gt; | stratum_prop &lt;dbl&gt; | n_h &lt;dbl&gt; |\n",
       "|---|---|---|---|\n",
       "|  Divorced      |  4443 | 0.13645158 |  305 |\n",
       "|  Married       | 15417 | 0.47348054 | 1059 |\n",
       "|  Never-married | 10683 | 0.32809189 |  734 |\n",
       "|  Separated     |  1025 | 0.03147938 |   70 |\n",
       "|  Widowed       |   993 | 0.03049661 |   68 |\n",
       "\n"
      ],
      "text/plain": [
       "  status         N_h   stratum_prop n_h \n",
       "1  Divorced       4443 0.13645158    305\n",
       "2  Married       15417 0.47348054   1059\n",
       "3  Never-married 10683 0.32809189    734\n",
       "4  Separated      1025 0.03147938     70\n",
       "5  Widowed         993 0.03049661     68"
      ]
     },
     "metadata": {},
     "output_type": "display_data"
    }
   ],
   "source": [
    "## Get pproportional stratum sizes\n",
    "adult$status <- as.factor(status)\n",
    "\n",
    "str_continuous <- adult %>%\n",
    "    group_by(status) %>%\n",
    "    summarise(N_h = n(), stratum_prop = N_h/N) %>%\n",
    "    mutate(n_h = round(stratum_prop*n))\n",
    "str_continuous"
   ]
  },
  {
   "cell_type": "markdown",
   "id": "ed6b1a20-279b-4693-bdc9-29f7479fd819",
   "metadata": {},
   "source": [
    "since nn for Married-AF-spouse, Married-civ-spouse and Married-spouse-absent are too small, so we combine them into Married status.\n",
    "\n"
   ]
  },
  {
   "cell_type": "code",
   "execution_count": 4,
   "id": "07c7863b-7e92-48a4-92df-7bc24e43c160",
   "metadata": {},
   "outputs": [],
   "source": [
    "## Stratified Samples\n",
    "marital_levels <- levels(adult$status)\n",
    "nh <- str_continuous$n_h\n",
    "\n",
    "Divorced_sample <- adult %>%\n",
    "    filter(status == marital_levels[1]) %>%\n",
    "    pull(age) %>%\n",
    "    sample(nh[1])\n",
    "\n",
    "Married_sample <- adult %>%\n",
    "    filter(status == marital_levels[2]) %>%\n",
    "    pull(age) %>%\n",
    "    sample(nh[2])\n",
    "\n",
    "NeverMarried_sample <- adult %>%\n",
    "    filter(status == marital_levels[3]) %>%\n",
    "    pull(age) %>%\n",
    "    sample(nh[3])\n",
    "\n",
    "Separated_sample <- adult %>%\n",
    "    filter(status == marital_levels[4]) %>%\n",
    "    pull(age) %>%\n",
    "    sample(nh[4])\n",
    "\n",
    "Widowed_sample <- adult %>%\n",
    "    filter(status == marital_levels[5]) %>%\n",
    "    pull(age) %>%\n",
    "    sample(nh[5])"
   ]
  },
  {
   "cell_type": "markdown",
   "id": "5984160d-d09c-4c61-a4d7-dda076c90c4a",
   "metadata": {},
   "source": [
    "* ##### Formula<br>\n",
    "The estimate for the mean age is $\\bar{y}_{str} = \\sum_{h=1}^{H} ((\\frac{N_{h}}{N})\\bar{y}_{h}) $, when $N_{h}$ is the size of the $h^{th}$ strata, $N$ is the population size, and $\\bar{y}_{h}$ is the mean age of $h^{th}$ strata. the standard error for this estimate is $SE_{\\bar{y}_{str}} =  \\sqrt{\\sum_{h=1}^{H}((\\frac{N_{h}}{N})^2SE_{\\bar{y}_h}}$, where $SE_{\\bar{y}_h} = \\sqrt{(1-\\frac{n}{N})*\\frac{S^2_{h}}{n}}$ with $S_{h}$ being the standard deviation of the $h^{th}$ strata. The 95% confidence interval for $\\bar{y}_{str}$ is $\\bar{y}_{s}\\pm 1.96*SE_{\\bar{y}_{str}}$"
   ]
  },
  {
   "cell_type": "code",
   "execution_count": 6,
   "id": "e7b12b7a-face-4a89-b373-6ffd7a7d7767",
   "metadata": {},
   "outputs": [
    {
     "data": {
      "text/html": [
       "<table class=\"dataframe\">\n",
       "<caption>A data.frame: 1 × 3</caption>\n",
       "<thead>\n",
       "\t<tr><th scope=col>Estimate</th><th scope=col>SE</th><th scope=col>true_parameter</th></tr>\n",
       "\t<tr><th scope=col>&lt;dbl&gt;</th><th scope=col>&lt;dbl&gt;</th><th scope=col>&lt;dbl&gt;</th></tr>\n",
       "</thead>\n",
       "<tbody>\n",
       "\t<tr><td>38.61688</td><td>0.2285194</td><td>38.58165</td></tr>\n",
       "</tbody>\n",
       "</table>\n"
      ],
      "text/latex": [
       "A data.frame: 1 × 3\n",
       "\\begin{tabular}{lll}\n",
       " Estimate & SE & true\\_parameter\\\\\n",
       " <dbl> & <dbl> & <dbl>\\\\\n",
       "\\hline\n",
       "\t 38.61688 & 0.2285194 & 38.58165\\\\\n",
       "\\end{tabular}\n"
      ],
      "text/markdown": [
       "\n",
       "A data.frame: 1 × 3\n",
       "\n",
       "| Estimate &lt;dbl&gt; | SE &lt;dbl&gt; | true_parameter &lt;dbl&gt; |\n",
       "|---|---|---|\n",
       "| 38.61688 | 0.2285194 | 38.58165 |\n",
       "\n"
      ],
      "text/plain": [
       "  Estimate SE        true_parameter\n",
       "1 38.61688 0.2285194 38.58165      "
      ]
     },
     "metadata": {},
     "output_type": "display_data"
    }
   ],
   "source": [
    "## Estmitate mean age\n",
    "stratum_prop <- str_continuous$stratum_prop\n",
    "Divorced_est <- (stratum_prop[1])*mean(Divorced_sample)\n",
    "Married_est <- (stratum_prop[2])*mean(Married_sample)\n",
    "NeverMarried_est <- (stratum_prop[3])*mean(NeverMarried_sample)\n",
    "Separated_est <- (stratum_prop[4])*mean(Separated_sample)\n",
    "Widowed_est <- (stratum_prop[5])*mean(Widowed_sample)\n",
    "\n",
    "hat_ybar_str <- sum(c(Divorced_est,Married_est,NeverMarried_est,Separated_est,Widowed_est))\n",
    "\n",
    "## estimate SE\n",
    "Divorced_var <- var(Divorced_sample)\n",
    "\n",
    "Married_var <- var(Married_sample)\n",
    "\n",
    "NeverMarried_var <- var(NeverMarried_sample)\n",
    "\n",
    "Separated_var <- var(Separated_sample)\n",
    "\n",
    "Widowed_var <- var(Widowed_sample)\n",
    "\n",
    "vars <- c(Divorced_var,Married_var,NeverMarried_var,Separated_var,Widowed_var)\n",
    "\n",
    "N_h <- str_continuous$N_h\n",
    "Divorced_var <- ((stratum_prop[1])^2) * (1-(nh[1]/N_h[1]))*(vars[1]/nh[1])\n",
    "Married_var <- ((stratum_prop[2])^2) * (1-(nh[2]/N_h[2]))*(vars[2]/nh[2])\n",
    "NeverMarried_var <- ((stratum_prop[3])^2) * (1-(nh[3]/N_h[3]))*(vars[3]/nh[3])\n",
    "Separated_var <- ((stratum_prop[4])^2) * (1-(nh[4]/N_h[4]))*(vars[4]/nh[4])\n",
    "Widowed_var <- ((stratum_prop[5])^2) * (1-(nh[5]/N_h[5]))*(vars[5]/nh[5])\n",
    "\n",
    "yhatse <- sqrt(sum(c(Divorced_var,Married_var,NeverMarried_var,Separated_var,Widowed_var)))\n",
    "\n",
    "result_data <- data.frame(Estimate = hat_ybar_str, SE = yhatse, true_parameter = mean(adult$age))\n",
    "result_data"
   ]
  },
  {
   "cell_type": "code",
   "execution_count": 8,
   "id": "7ef330a7-3478-49e2-92aa-951edacdd563",
   "metadata": {},
   "outputs": [
    {
     "data": {
      "text/plain": [
       "\n",
       "\n",
       "|                 |Value  |\n",
       "|:----------------|:------|\n",
       "|SampleMean.      |38.617 |\n",
       "|SE               |0.229  |\n",
       "|LowerBound95%CI  |38.169 |\n",
       "|Upper Bound95%CI |39.065 |"
      ]
     },
     "metadata": {},
     "output_type": "display_data"
    }
   ],
   "source": [
    "phat.str.me <-1.96*yhatse\n",
    "phat.str.confint <-c(hat_ybar_str-phat.str.me,hat_ybar_str+phat.str.me)\n",
    "str.matrix <-matrix(c(\"SampleMean.\",\"SE\",\"LowerBound95%CI\",\n",
    "\"Upper Bound95%CI\",\n",
    "round(hat_ybar_str,3), round(yhatse,3),\n",
    "round(phat.str.confint[1],3),\n",
    "round(phat.str.confint[2],3)), nrow=4)\n",
    "knitr::kable(x =str.matrix,col.names=c(\"\",\"Value\"))"
   ]
  },
  {
   "cell_type": "markdown",
   "id": "621db85a-3fc9-496c-8145-8c60bffd6b89",
   "metadata": {},
   "source": [
    "* ###### RESULT<br>\n",
    "From our result, the estimate for mean age is 39.359. The standard error for this estimate is 0.03912924, Since our sample size sufficiently large (bigger than 25), by the central limit theorem, the distribution of our sample mean will be approximately normally distributed among many sample means. Therefore, we can conclude that we are 95% confident that the true mean age is between 39.282 and 39.436."
   ]
  },
  {
   "cell_type": "markdown",
   "id": "5a2a2747-bb3f-48ae-936c-8d00520dc060",
   "metadata": {},
   "source": [
    "### Binary Parameter Estimation"
   ]
  },
  {
   "cell_type": "code",
   "execution_count": 39,
   "id": "59cc8c48-0b02-41fc-945e-7ddd7b634b6e",
   "metadata": {},
   "outputs": [
    {
     "data": {
      "text/html": [
       "<style>\n",
       ".list-inline {list-style: none; margin:0; padding: 0}\n",
       ".list-inline>li {display: inline-block}\n",
       ".list-inline>li:not(:last-child)::after {content: \"\\00b7\"; padding: 0 .5ex}\n",
       "</style>\n",
       "<ol class=list-inline><li>' Asian-Pac-Islander'</li><li>' Black'</li><li>' Other'</li><li>' White'</li></ol>\n"
      ],
      "text/latex": [
       "\\begin{enumerate*}\n",
       "\\item ' Asian-Pac-Islander'\n",
       "\\item ' Black'\n",
       "\\item ' Other'\n",
       "\\item ' White'\n",
       "\\end{enumerate*}\n"
      ],
      "text/markdown": [
       "1. ' Asian-Pac-Islander'\n",
       "2. ' Black'\n",
       "3. ' Other'\n",
       "4. ' White'\n",
       "\n",
       "\n"
      ],
      "text/plain": [
       "[1] \" Asian-Pac-Islander\" \" Black\"              \" Other\"             \n",
       "[4] \" White\"             "
      ]
     },
     "metadata": {},
     "output_type": "display_data"
    }
   ],
   "source": [
    "level <- as.character(levels(as.factor(adult$race)))\n",
    "races <- as.character(adult$race)\n",
    "for (i in 1:length(races)) {\n",
    "    if (races[i] == level[1] | races[i] == level[4]) {\n",
    "        races[i] <- \" Other\"\n",
    "        }\n",
    "}\n",
    "adult$race <- as.factor(races)\n",
    "\n",
    "level <- as.character(levels(as.factor(adult$race)))\n",
    "level"
   ]
  },
  {
   "cell_type": "code",
   "execution_count": 40,
   "id": "80bf160f-0218-4446-aefb-cb1296f46135",
   "metadata": {},
   "outputs": [
    {
     "data": {
      "text/html": [
       "<style>\n",
       ".list-inline {list-style: none; margin:0; padding: 0}\n",
       ".list-inline>li {display: inline-block}\n",
       ".list-inline>li:not(:last-child)::after {content: \"\\00b7\"; padding: 0 .5ex}\n",
       "</style>\n",
       "<ol class=list-inline><li>1039</li><li>3124</li><li>582</li><li>27816</li></ol>\n"
      ],
      "text/latex": [
       "\\begin{enumerate*}\n",
       "\\item 1039\n",
       "\\item 3124\n",
       "\\item 582\n",
       "\\item 27816\n",
       "\\end{enumerate*}\n"
      ],
      "text/markdown": [
       "1. 1039\n",
       "2. 3124\n",
       "3. 582\n",
       "4. 27816\n",
       "\n",
       "\n"
      ],
      "text/plain": [
       "[1]  1039  3124   582 27816"
      ]
     },
     "metadata": {},
     "output_type": "display_data"
    }
   ],
   "source": [
    "stratum_n <-adult %>% \n",
    "    group_by(race) %>% \n",
    "    summarise(stratum_size = n()) %>%\n",
    "    pull(stratum_size)\n",
    "stratum_n"
   ]
  },
  {
   "cell_type": "code",
   "execution_count": 45,
   "id": "264bc2e7-19d0-4daf-902f-5873f9109816",
   "metadata": {},
   "outputs": [
    {
     "data": {
      "text/html": [
       "<table class=\"dataframe\">\n",
       "<caption>A tibble: 4 × 7</caption>\n",
       "<thead>\n",
       "\t<tr><th scope=col>income</th><th scope=col>race</th><th scope=col>num_greater_than_50K</th><th scope=col>stratum_size</th><th scope=col>p</th><th scope=col>allocation_prop</th><th scope=col>n_h</th></tr>\n",
       "\t<tr><th scope=col>&lt;fct&gt;</th><th scope=col>&lt;fct&gt;</th><th scope=col>&lt;int&gt;</th><th scope=col>&lt;int&gt;</th><th scope=col>&lt;dbl&gt;</th><th scope=col>&lt;dbl&gt;</th><th scope=col>&lt;dbl&gt;</th></tr>\n",
       "</thead>\n",
       "<tbody>\n",
       "\t<tr><td> &gt;50K</td><td> Asian-Pac-Islander</td><td> 276</td><td> 1039</td><td>0.2656400</td><td>0.03190934</td><td><span style=white-space:pre-wrap>  71</span></td></tr>\n",
       "\t<tr><td> &gt;50K</td><td><span style=white-space:pre-wrap> Black             </span></td><td> 387</td><td> 3124</td><td>0.1238796</td><td>0.09594300</td><td> 215</td></tr>\n",
       "\t<tr><td> &gt;50K</td><td><span style=white-space:pre-wrap> Other             </span></td><td><span style=white-space:pre-wrap>  61</span></td><td><span style=white-space:pre-wrap>  582</span></td><td>0.1048110</td><td>0.01787414</td><td><span style=white-space:pre-wrap>  40</span></td></tr>\n",
       "\t<tr><td> &gt;50K</td><td><span style=white-space:pre-wrap> White             </span></td><td>7117</td><td>27816</td><td>0.2558599</td><td>0.85427352</td><td>1910</td></tr>\n",
       "</tbody>\n",
       "</table>\n"
      ],
      "text/latex": [
       "A tibble: 4 × 7\n",
       "\\begin{tabular}{lllllll}\n",
       " income & race & num\\_greater\\_than\\_50K & stratum\\_size & p & allocation\\_prop & n\\_h\\\\\n",
       " <fct> & <fct> & <int> & <int> & <dbl> & <dbl> & <dbl>\\\\\n",
       "\\hline\n",
       "\t  >50K &  Asian-Pac-Islander &  276 &  1039 & 0.2656400 & 0.03190934 &   71\\\\\n",
       "\t  >50K &  Black              &  387 &  3124 & 0.1238796 & 0.09594300 &  215\\\\\n",
       "\t  >50K &  Other              &   61 &   582 & 0.1048110 & 0.01787414 &   40\\\\\n",
       "\t  >50K &  White              & 7117 & 27816 & 0.2558599 & 0.85427352 & 1910\\\\\n",
       "\\end{tabular}\n"
      ],
      "text/markdown": [
       "\n",
       "A tibble: 4 × 7\n",
       "\n",
       "| income &lt;fct&gt; | race &lt;fct&gt; | num_greater_than_50K &lt;int&gt; | stratum_size &lt;int&gt; | p &lt;dbl&gt; | allocation_prop &lt;dbl&gt; | n_h &lt;dbl&gt; |\n",
       "|---|---|---|---|---|---|---|\n",
       "|  &gt;50K |  Asian-Pac-Islander |  276 |  1039 | 0.2656400 | 0.03190934 |   71 |\n",
       "|  &gt;50K |  Black              |  387 |  3124 | 0.1238796 | 0.09594300 |  215 |\n",
       "|  &gt;50K |  Other              |   61 |   582 | 0.1048110 | 0.01787414 |   40 |\n",
       "|  &gt;50K |  White              | 7117 | 27816 | 0.2558599 | 0.85427352 | 1910 |\n",
       "\n"
      ],
      "text/plain": [
       "  income race                num_greater_than_50K stratum_size p        \n",
       "1  >50K   Asian-Pac-Islander  276                  1039        0.2656400\n",
       "2  >50K   Black               387                  3124        0.1238796\n",
       "3  >50K   Other                61                   582        0.1048110\n",
       "4  >50K   White              7117                 27816        0.2558599\n",
       "  allocation_prop n_h \n",
       "1 0.03190934        71\n",
       "2 0.09594300       215\n",
       "3 0.01787414        40\n",
       "4 0.85427352      1910"
      ]
     },
     "metadata": {},
     "output_type": "display_data"
    }
   ],
   "source": [
    "income_n_by_stratum <- adult %>% \n",
    "    group_by(income, race) %>% \n",
    "    summarise(num_greater_than_50K = n(),\n",
    "              .groups = \"drop\")\n",
    "stratum_size <- c(rep(stratum_n,2)) \n",
    "income_n_by_stratum$stratum_size <- stratum_size\n",
    "income_stratify_data <- income_n_by_stratum %>% \n",
    "            mutate(p = num_greater_than_50K/stratum_size,\n",
    "                   allocation_prop = stratum_size/N,\n",
    "                   n_h = round(n*allocation_prop)) %>%\n",
    "            slice(5:8)\n",
    "income_stratify_data"
   ]
  },
  {
   "cell_type": "code",
   "execution_count": 46,
   "id": "89cb4e5a-97a0-4f2a-8bd7-653711f6b43c",
   "metadata": {},
   "outputs": [],
   "source": [
    "binary_stratify_data <- adult %>% select(race, income)\n",
    "level <- levels(as.factor(binary_stratify_data$race))\n",
    "Asian <- binary_stratify_data %>% filter(race == level[1]) %>% pull(income)\n",
    "Black <- binary_stratify_data %>% filter(race == level[2]) %>% pull(income)\n",
    "Other <- binary_stratify_data %>% filter(race == level[3]) %>% pull(income)\n",
    "White <- binary_stratify_data %>% filter(race == level[4]) %>% pull(income)"
   ]
  },
  {
   "cell_type": "code",
   "execution_count": 49,
   "id": "cee6fdce-994e-49c9-aee6-68b169ecf6b7",
   "metadata": {},
   "outputs": [],
   "source": [
    "set.seed(123456)\n",
    "n_h <- income_stratify_data$n_h\n",
    "asian_sample <- sample(as.character(Asian), n_h[1])\n",
    "black_sample <- sample(as.character(Black), n_h[2])\n",
    "other_sample <- sample(as.character(Other), n_h[3])\n",
    "white_sample <- sample(as.character(White), n_h[4])\n"
   ]
  },
  {
   "cell_type": "code",
   "execution_count": 50,
   "id": "da3e6c83-bfc1-40a3-9522-5c58f603c667",
   "metadata": {},
   "outputs": [
    {
     "data": {
      "text/html": [
       "0.240640117043246"
      ],
      "text/latex": [
       "0.240640117043246"
      ],
      "text/markdown": [
       "0.240640117043246"
      ],
      "text/plain": [
       "[1] 0.2406401"
      ]
     },
     "metadata": {},
     "output_type": "display_data"
    }
   ],
   "source": [
    "asian_prop <- mean(asian_sample == \" >50K\")\n",
    "black_prop <- mean(black_sample == \" >50K\")\n",
    "other_prop <- mean(other_sample == \" >50K\")\n",
    "white_prop <- mean(white_sample == \" >50K\")\n",
    "props <- c(asian_prop, black_prop, other_prop, white_prop)\n",
    "subpopulation_prop <- income_stratify_data$allocation_prop\n",
    "prop_est <- sum(props*subpopulation_prop)\n",
    "prop_est"
   ]
  },
  {
   "cell_type": "code",
   "execution_count": 52,
   "id": "19b4af45-3a9e-469e-8da0-63bae9076ad1",
   "metadata": {},
   "outputs": [
    {
     "data": {
      "text/html": [
       "0.00867140559368381"
      ],
      "text/latex": [
       "0.00867140559368381"
      ],
      "text/markdown": [
       "0.00867140559368381"
      ],
      "text/plain": [
       "[1] 0.008671406"
      ]
     },
     "metadata": {},
     "output_type": "display_data"
    }
   ],
   "source": [
    "N_h <- income_stratify_data$stratum_size\n",
    "FPC = 1 - n_h/N_h\n",
    "asian_var = FPC[1]*asian_prop*(1-asian_prop)/n_h[1]\n",
    "black_var = FPC[2]*black_prop*(1-black_prop)/n_h[2]\n",
    "other_var = FPC[3]*other_prop*(1-other_prop)/n_h[3]\n",
    "white_var = FPC[4]*white_prop*(1-white_prop)/n_h[4]\n",
    "prop_var = c(asian_var, black_var, other_var, white_var)\n",
    "pooled_se = sqrt(sum(prop_var*(subpopulation_prop)^2))\n",
    "pooled_se"
   ]
  },
  {
   "cell_type": "code",
   "execution_count": 53,
   "id": "426c950e-86db-4441-bf5b-340203260536",
   "metadata": {},
   "outputs": [
    {
     "data": {
      "text/html": [
       "<table class=\"dataframe\">\n",
       "<caption>A data.frame: 4 × 2</caption>\n",
       "<thead>\n",
       "\t<tr><th scope=col>name</th><th scope=col>value</th></tr>\n",
       "\t<tr><th scope=col>&lt;chr&gt;</th><th scope=col>&lt;dbl&gt;</th></tr>\n",
       "</thead>\n",
       "<tbody>\n",
       "\t<tr><td>Proportion Estimate</td><td>0.2406401</td></tr>\n",
       "\t<tr><td>Proportion SE      </td><td>0.0086700</td></tr>\n",
       "\t<tr><td>Lower Bound        </td><td>0.2236442</td></tr>\n",
       "\t<tr><td>Upper Bound        </td><td>0.2576361</td></tr>\n",
       "</tbody>\n",
       "</table>\n"
      ],
      "text/latex": [
       "A data.frame: 4 × 2\n",
       "\\begin{tabular}{ll}\n",
       " name & value\\\\\n",
       " <chr> & <dbl>\\\\\n",
       "\\hline\n",
       "\t Proportion Estimate & 0.2406401\\\\\n",
       "\t Proportion SE       & 0.0086700\\\\\n",
       "\t Lower Bound         & 0.2236442\\\\\n",
       "\t Upper Bound         & 0.2576361\\\\\n",
       "\\end{tabular}\n"
      ],
      "text/markdown": [
       "\n",
       "A data.frame: 4 × 2\n",
       "\n",
       "| name &lt;chr&gt; | value &lt;dbl&gt; |\n",
       "|---|---|\n",
       "| Proportion Estimate | 0.2406401 |\n",
       "| Proportion SE       | 0.0086700 |\n",
       "| Lower Bound         | 0.2236442 |\n",
       "| Upper Bound         | 0.2576361 |\n",
       "\n"
      ],
      "text/plain": [
       "  name                value    \n",
       "1 Proportion Estimate 0.2406401\n",
       "2 Proportion SE       0.0086700\n",
       "3 Lower Bound         0.2236442\n",
       "4 Upper Bound         0.2576361"
      ]
     },
     "metadata": {},
     "output_type": "display_data"
    }
   ],
   "source": [
    "data.frame(name = c(\"Proportion Estimate\", \"Proportion SE\", \"Lower Bound\", \"Upper Bound\"),\n",
    "           value = c(prop_est,round(pooled_se,5),prop_est - 1.96*pooled_se,prop_est + 1.96*pooled_se))"
   ]
  },
  {
   "cell_type": "markdown",
   "id": "28b324b7",
   "metadata": {},
   "source": [
    "## Discussion "
   ]
  },
  {
   "cell_type": "markdown",
   "id": "1b3364e4",
   "metadata": {},
   "source": [
    "## Conclusion "
   ]
  },
  {
   "cell_type": "markdown",
   "id": "917b6550",
   "metadata": {},
   "source": [
    "# Part II"
   ]
  }
 ],
 "metadata": {
  "kernelspec": {
   "display_name": "R",
   "language": "R",
   "name": "ir"
  },
  "language_info": {
   "codemirror_mode": "r",
   "file_extension": ".r",
   "mimetype": "text/x-r-source",
   "name": "R",
   "pygments_lexer": "r",
   "version": "4.0.5"
  }
 },
 "nbformat": 4,
 "nbformat_minor": 5
}
