{
 "cells": [
  {
   "cell_type": "markdown",
   "id": "9695b958",
   "metadata": {},
   "source": [
    "# Part I\n",
    "\n",
    "##### Authors: Taniya Cai, Yimin You"
   ]
  },
  {
   "cell_type": "markdown",
   "id": "b29cc9f3",
   "metadata": {},
   "source": [
    "## Introduction\n"
   ]
  },
  {
   "cell_type": "markdown",
   "id": "0965651f-a678-4d7d-9415-150275b0cceb",
   "metadata": {},
   "source": [
    "* 1, estimate the average song duration in the playlist\n",
    "* 2, a continuous analysis (parameter of interest is the mean song duration) and a binary analysis (parameter of interest is the proportion of songs longer than 180 seconds).\n",
    "* 3, first: will be a Simple Random Sample, second: Stratified Sample stratified by song duration.\n",
    "\n"
   ]
  },
  {
   "cell_type": "markdown",
   "id": "3c94e4a5",
   "metadata": {},
   "source": [
    "## Population Parameters"
   ]
  },
  {
   "cell_type": "markdown",
   "id": "0dd3fd07-85bb-4369-9876-ba8150c3582f",
   "metadata": {},
   "source": [
    "* 1, decide required sample size(N)\n",
    "* 2, sample size for continuous population\n",
    "* 3, sample size for binary population\n"
   ]
  },
  {
   "cell_type": "markdown",
   "id": "5b8449c5",
   "metadata": {},
   "source": [
    "## SRS"
   ]
  },
  {
   "cell_type": "markdown",
   "id": "647313bc-fe96-4265-b298-1259457db904",
   "metadata": {},
   "source": [
    "assumption, continuous population (sample mean, SE, the 95% confidence interval)\n",
    "binary population (sample mean, SE, the 95% confidence interval)\n"
   ]
  },
  {
   "cell_type": "markdown",
   "id": "d9e12d98",
   "metadata": {},
   "source": [
    "## Stratified Sampling"
   ]
  },
  {
   "cell_type": "markdown",
   "id": "33ae036b-9f48-4742-8630-c5a0ff086959",
   "metadata": {},
   "source": [
    "In comparison with a simple random sampling, we can divide the population into sub-populations, then apply random sampling of each subgroups to more accurately reflect the population studied based on a set of chosen characteristics.\n",
    "\n",
    "* Assumptions:\n",
    "\n",
    "> All observations must be exactly under one and only one stratum.\n",
    "\n",
    "> Sampling from each stratum must be random\\n\",\n",
    "\n",
    "* Hypothesis:\n",
    "\n",
    "> The value of the parameters chosen are the same across all stratum, that is , 1.) the proportion of personal income that exceeds $50K/yr is the same across all stratum, and 2.) the ........ is the same across all stratum.\n"
   ]
  },
  {
   "cell_type": "markdown",
   "id": "e7f93a11",
   "metadata": {
    "tags": []
   },
   "source": [
    "## Analysis and Comparison"
   ]
  },
  {
   "cell_type": "code",
   "execution_count": 2,
   "id": "4bc3e177-8ac7-4bb3-8896-832ffedf6ccd",
   "metadata": {},
   "outputs": [
    {
     "name": "stderr",
     "output_type": "stream",
     "text": [
      "Warning message in system(\"timedatectl\", intern = TRUE):\n",
      "“running command 'timedatectl' had status 1”\n",
      "── \u001b[1mAttaching packages\u001b[22m ─────────────────────────────────────── tidyverse 1.3.1 ──\n",
      "\n",
      "\u001b[32m✔\u001b[39m \u001b[34mggplot2\u001b[39m 3.3.5     \u001b[32m✔\u001b[39m \u001b[34mpurrr  \u001b[39m 0.3.4\n",
      "\u001b[32m✔\u001b[39m \u001b[34mtibble \u001b[39m 3.1.3     \u001b[32m✔\u001b[39m \u001b[34mdplyr  \u001b[39m 1.0.7\n",
      "\u001b[32m✔\u001b[39m \u001b[34mtidyr  \u001b[39m 1.1.3     \u001b[32m✔\u001b[39m \u001b[34mstringr\u001b[39m 1.4.0\n",
      "\u001b[32m✔\u001b[39m \u001b[34mreadr  \u001b[39m 1.4.0     \u001b[32m✔\u001b[39m \u001b[34mforcats\u001b[39m 0.5.1\n",
      "\n",
      "── \u001b[1mConflicts\u001b[22m ────────────────────────────────────────── tidyverse_conflicts() ──\n",
      "\u001b[31m✖\u001b[39m \u001b[34mdplyr\u001b[39m::\u001b[32mfilter()\u001b[39m masks \u001b[34mstats\u001b[39m::filter()\n",
      "\u001b[31m✖\u001b[39m \u001b[34mdplyr\u001b[39m::\u001b[32mlag()\u001b[39m    masks \u001b[34mstats\u001b[39m::lag()\n",
      "\n",
      "Registered S3 method overwritten by 'GGally':\n",
      "  method from   \n",
      "  +.gg   ggplot2\n",
      "\n"
     ]
    }
   ],
   "source": [
    "library(tidyverse)\n",
    "library(GGally)\n",
    "adult <- read.csv(\"adult.data\", header = FALSE)\n",
    "column_names <- c(\"age\",\n",
    "                  \"workclass\",\n",
    "                  \"final_weight\",\n",
    "                  \"education\", \n",
    "                  \"education_num\",\n",
    "                  \"marital_status\",\n",
    "                  \"occupation\",\n",
    "                  \"relationship\",\n",
    "                  \"race\",\n",
    "                  \"sex\",\n",
    "                  \"capital_gain\", \n",
    "                  \"capital_loss\", \n",
    "                  \"hours_per_week\", \n",
    "                  \"native_country\",\n",
    "                  \"income\")\n",
    "adult <- setNames(adult, column_names)"
   ]
  },
  {
   "cell_type": "code",
   "execution_count": 3,
   "id": "1a0b9e0e-8427-469c-ba28-f59b362e5485",
   "metadata": {},
   "outputs": [
    {
     "data": {
      "text/html": [
       "<table class=\"dataframe\">\n",
       "<caption>A data.frame: 6 × 15</caption>\n",
       "<thead>\n",
       "\t<tr><th></th><th scope=col>age</th><th scope=col>workclass</th><th scope=col>final_weight</th><th scope=col>education</th><th scope=col>education_num</th><th scope=col>marital_status</th><th scope=col>occupation</th><th scope=col>relationship</th><th scope=col>race</th><th scope=col>sex</th><th scope=col>capital_gain</th><th scope=col>capital_loss</th><th scope=col>hours_per_week</th><th scope=col>native_country</th><th scope=col>income</th></tr>\n",
       "\t<tr><th></th><th scope=col>&lt;int&gt;</th><th scope=col>&lt;chr&gt;</th><th scope=col>&lt;int&gt;</th><th scope=col>&lt;chr&gt;</th><th scope=col>&lt;int&gt;</th><th scope=col>&lt;chr&gt;</th><th scope=col>&lt;chr&gt;</th><th scope=col>&lt;chr&gt;</th><th scope=col>&lt;chr&gt;</th><th scope=col>&lt;chr&gt;</th><th scope=col>&lt;int&gt;</th><th scope=col>&lt;int&gt;</th><th scope=col>&lt;int&gt;</th><th scope=col>&lt;chr&gt;</th><th scope=col>&lt;chr&gt;</th></tr>\n",
       "</thead>\n",
       "<tbody>\n",
       "\t<tr><th scope=row>1</th><td>39</td><td><span style=white-space:pre-wrap> State-gov       </span></td><td> 77516</td><td> Bachelors</td><td>13</td><td><span style=white-space:pre-wrap> Never-married     </span></td><td><span style=white-space:pre-wrap> Adm-clerical     </span></td><td> Not-in-family</td><td> White</td><td><span style=white-space:pre-wrap> Male  </span></td><td>2174</td><td>0</td><td>40</td><td> United-States</td><td> &lt;=50K</td></tr>\n",
       "\t<tr><th scope=row>2</th><td>50</td><td> Self-emp-not-inc</td><td> 83311</td><td> Bachelors</td><td>13</td><td> Married-civ-spouse</td><td><span style=white-space:pre-wrap> Exec-managerial  </span></td><td><span style=white-space:pre-wrap> Husband      </span></td><td> White</td><td><span style=white-space:pre-wrap> Male  </span></td><td><span style=white-space:pre-wrap>   0</span></td><td>0</td><td>13</td><td> United-States</td><td> &lt;=50K</td></tr>\n",
       "\t<tr><th scope=row>3</th><td>38</td><td><span style=white-space:pre-wrap> Private         </span></td><td>215646</td><td><span style=white-space:pre-wrap> HS-grad  </span></td><td> 9</td><td><span style=white-space:pre-wrap> Divorced          </span></td><td> Handlers-cleaners</td><td> Not-in-family</td><td> White</td><td><span style=white-space:pre-wrap> Male  </span></td><td><span style=white-space:pre-wrap>   0</span></td><td>0</td><td>40</td><td> United-States</td><td> &lt;=50K</td></tr>\n",
       "\t<tr><th scope=row>4</th><td>53</td><td><span style=white-space:pre-wrap> Private         </span></td><td>234721</td><td><span style=white-space:pre-wrap> 11th     </span></td><td> 7</td><td> Married-civ-spouse</td><td> Handlers-cleaners</td><td><span style=white-space:pre-wrap> Husband      </span></td><td> Black</td><td><span style=white-space:pre-wrap> Male  </span></td><td><span style=white-space:pre-wrap>   0</span></td><td>0</td><td>40</td><td> United-States</td><td> &lt;=50K</td></tr>\n",
       "\t<tr><th scope=row>5</th><td>28</td><td><span style=white-space:pre-wrap> Private         </span></td><td>338409</td><td> Bachelors</td><td>13</td><td> Married-civ-spouse</td><td><span style=white-space:pre-wrap> Prof-specialty   </span></td><td><span style=white-space:pre-wrap> Wife         </span></td><td> Black</td><td> Female</td><td><span style=white-space:pre-wrap>   0</span></td><td>0</td><td>40</td><td><span style=white-space:pre-wrap> Cuba         </span></td><td> &lt;=50K</td></tr>\n",
       "\t<tr><th scope=row>6</th><td>37</td><td><span style=white-space:pre-wrap> Private         </span></td><td>284582</td><td><span style=white-space:pre-wrap> Masters  </span></td><td>14</td><td> Married-civ-spouse</td><td><span style=white-space:pre-wrap> Exec-managerial  </span></td><td><span style=white-space:pre-wrap> Wife         </span></td><td> White</td><td> Female</td><td><span style=white-space:pre-wrap>   0</span></td><td>0</td><td>40</td><td> United-States</td><td> &lt;=50K</td></tr>\n",
       "</tbody>\n",
       "</table>\n"
      ],
      "text/latex": [
       "A data.frame: 6 × 15\n",
       "\\begin{tabular}{r|lllllllllllllll}\n",
       "  & age & workclass & final\\_weight & education & education\\_num & marital\\_status & occupation & relationship & race & sex & capital\\_gain & capital\\_loss & hours\\_per\\_week & native\\_country & income\\\\\n",
       "  & <int> & <chr> & <int> & <chr> & <int> & <chr> & <chr> & <chr> & <chr> & <chr> & <int> & <int> & <int> & <chr> & <chr>\\\\\n",
       "\\hline\n",
       "\t1 & 39 &  State-gov        &  77516 &  Bachelors & 13 &  Never-married      &  Adm-clerical      &  Not-in-family &  White &  Male   & 2174 & 0 & 40 &  United-States &  <=50K\\\\\n",
       "\t2 & 50 &  Self-emp-not-inc &  83311 &  Bachelors & 13 &  Married-civ-spouse &  Exec-managerial   &  Husband       &  White &  Male   &    0 & 0 & 13 &  United-States &  <=50K\\\\\n",
       "\t3 & 38 &  Private          & 215646 &  HS-grad   &  9 &  Divorced           &  Handlers-cleaners &  Not-in-family &  White &  Male   &    0 & 0 & 40 &  United-States &  <=50K\\\\\n",
       "\t4 & 53 &  Private          & 234721 &  11th      &  7 &  Married-civ-spouse &  Handlers-cleaners &  Husband       &  Black &  Male   &    0 & 0 & 40 &  United-States &  <=50K\\\\\n",
       "\t5 & 28 &  Private          & 338409 &  Bachelors & 13 &  Married-civ-spouse &  Prof-specialty    &  Wife          &  Black &  Female &    0 & 0 & 40 &  Cuba          &  <=50K\\\\\n",
       "\t6 & 37 &  Private          & 284582 &  Masters   & 14 &  Married-civ-spouse &  Exec-managerial   &  Wife          &  White &  Female &    0 & 0 & 40 &  United-States &  <=50K\\\\\n",
       "\\end{tabular}\n"
      ],
      "text/markdown": [
       "\n",
       "A data.frame: 6 × 15\n",
       "\n",
       "| <!--/--> | age &lt;int&gt; | workclass &lt;chr&gt; | final_weight &lt;int&gt; | education &lt;chr&gt; | education_num &lt;int&gt; | marital_status &lt;chr&gt; | occupation &lt;chr&gt; | relationship &lt;chr&gt; | race &lt;chr&gt; | sex &lt;chr&gt; | capital_gain &lt;int&gt; | capital_loss &lt;int&gt; | hours_per_week &lt;int&gt; | native_country &lt;chr&gt; | income &lt;chr&gt; |\n",
       "|---|---|---|---|---|---|---|---|---|---|---|---|---|---|---|---|\n",
       "| 1 | 39 |  State-gov        |  77516 |  Bachelors | 13 |  Never-married      |  Adm-clerical      |  Not-in-family |  White |  Male   | 2174 | 0 | 40 |  United-States |  &lt;=50K |\n",
       "| 2 | 50 |  Self-emp-not-inc |  83311 |  Bachelors | 13 |  Married-civ-spouse |  Exec-managerial   |  Husband       |  White |  Male   |    0 | 0 | 13 |  United-States |  &lt;=50K |\n",
       "| 3 | 38 |  Private          | 215646 |  HS-grad   |  9 |  Divorced           |  Handlers-cleaners |  Not-in-family |  White |  Male   |    0 | 0 | 40 |  United-States |  &lt;=50K |\n",
       "| 4 | 53 |  Private          | 234721 |  11th      |  7 |  Married-civ-spouse |  Handlers-cleaners |  Husband       |  Black |  Male   |    0 | 0 | 40 |  United-States |  &lt;=50K |\n",
       "| 5 | 28 |  Private          | 338409 |  Bachelors | 13 |  Married-civ-spouse |  Prof-specialty    |  Wife          |  Black |  Female |    0 | 0 | 40 |  Cuba          |  &lt;=50K |\n",
       "| 6 | 37 |  Private          | 284582 |  Masters   | 14 |  Married-civ-spouse |  Exec-managerial   |  Wife          |  White |  Female |    0 | 0 | 40 |  United-States |  &lt;=50K |\n",
       "\n"
      ],
      "text/plain": [
       "  age workclass         final_weight education  education_num\n",
       "1 39   State-gov         77516        Bachelors 13           \n",
       "2 50   Self-emp-not-inc  83311        Bachelors 13           \n",
       "3 38   Private          215646        HS-grad    9           \n",
       "4 53   Private          234721        11th       7           \n",
       "5 28   Private          338409        Bachelors 13           \n",
       "6 37   Private          284582        Masters   14           \n",
       "  marital_status      occupation         relationship   race   sex    \n",
       "1  Never-married       Adm-clerical       Not-in-family  White  Male  \n",
       "2  Married-civ-spouse  Exec-managerial    Husband        White  Male  \n",
       "3  Divorced            Handlers-cleaners  Not-in-family  White  Male  \n",
       "4  Married-civ-spouse  Handlers-cleaners  Husband        Black  Male  \n",
       "5  Married-civ-spouse  Prof-specialty     Wife           Black  Female\n",
       "6  Married-civ-spouse  Exec-managerial    Wife           White  Female\n",
       "  capital_gain capital_loss hours_per_week native_country income\n",
       "1 2174         0            40              United-States  <=50K\n",
       "2    0         0            13              United-States  <=50K\n",
       "3    0         0            40              United-States  <=50K\n",
       "4    0         0            40              United-States  <=50K\n",
       "5    0         0            40              Cuba           <=50K\n",
       "6    0         0            40              United-States  <=50K"
      ]
     },
     "metadata": {},
     "output_type": "display_data"
    }
   ],
   "source": [
    "head(adult)"
   ]
  },
  {
   "cell_type": "code",
   "execution_count": 4,
   "id": "3e7e2eb1-bccd-402a-8e24-2da1f58402da",
   "metadata": {},
   "outputs": [
    {
     "data": {
      "text/html": [
       "<style>\n",
       ".list-inline {list-style: none; margin:0; padding: 0}\n",
       ".list-inline>li {display: inline-block}\n",
       ".list-inline>li:not(:last-child)::after {content: \"\\00b7\"; padding: 0 .5ex}\n",
       "</style>\n",
       "<ol class=list-inline><li>' Divorced'</li><li>' Married-AF-spouse'</li><li>' Married-civ-spouse'</li><li>' Married-spouse-absent'</li><li>' Never-married'</li><li>' Separated'</li><li>' Widowed'</li></ol>\n"
      ],
      "text/latex": [
       "\\begin{enumerate*}\n",
       "\\item ' Divorced'\n",
       "\\item ' Married-AF-spouse'\n",
       "\\item ' Married-civ-spouse'\n",
       "\\item ' Married-spouse-absent'\n",
       "\\item ' Never-married'\n",
       "\\item ' Separated'\n",
       "\\item ' Widowed'\n",
       "\\end{enumerate*}\n"
      ],
      "text/markdown": [
       "1. ' Divorced'\n",
       "2. ' Married-AF-spouse'\n",
       "3. ' Married-civ-spouse'\n",
       "4. ' Married-spouse-absent'\n",
       "5. ' Never-married'\n",
       "6. ' Separated'\n",
       "7. ' Widowed'\n",
       "\n",
       "\n"
      ],
      "text/plain": [
       "[1] \" Divorced\"              \" Married-AF-spouse\"     \" Married-civ-spouse\"   \n",
       "[4] \" Married-spouse-absent\" \" Never-married\"         \" Separated\"            \n",
       "[7] \" Widowed\"              "
      ]
     },
     "metadata": {},
     "output_type": "display_data"
    }
   ],
   "source": [
    "level <- as.character(levels(as.factor(adult$marital_status)))\n",
    "level\n",
    "status <- as.character(adult$marital_status)\n",
    "for (i in 1:length(status)) {\n",
    "    ifelse (status[i] == level[2] | status[i] == level[3] | status[i] == level[4], \n",
    "            status[i] <- \" Married\", \n",
    "            status[i] <- status[i])\n",
    "}"
   ]
  },
  {
   "cell_type": "code",
   "execution_count": 5,
   "id": "02619b50-b2c4-4e5c-9cb0-ad6d82ee3c68",
   "metadata": {},
   "outputs": [
    {
     "data": {
      "text/html": [
       "<table class=\"dataframe\">\n",
       "<caption>A tibble: 5 × 8</caption>\n",
       "<thead>\n",
       "\t<tr><th scope=col>status</th><th scope=col>nn</th><th scope=col>prop</th><th scope=col>var</th><th scope=col>sd</th><th scope=col>nc</th><th scope=col>nprop</th><th scope=col>nh</th></tr>\n",
       "\t<tr><th scope=col>&lt;fct&gt;</th><th scope=col>&lt;int&gt;</th><th scope=col>&lt;dbl&gt;</th><th scope=col>&lt;dbl&gt;</th><th scope=col>&lt;dbl&gt;</th><th scope=col>&lt;dbl&gt;</th><th scope=col>&lt;dbl&gt;</th><th scope=col>&lt;dbl&gt;</th></tr>\n",
       "</thead>\n",
       "<tbody>\n",
       "\t<tr><td> Divorced     </td><td> 4443</td><td>0.13645158</td><td>108.1682</td><td>10.40040</td><td> 46208.96</td><td>0.12740224</td><td> 255</td></tr>\n",
       "\t<tr><td> Married      </td><td>15417</td><td>0.47348054</td><td>145.8976</td><td>12.07881</td><td>186218.98</td><td>0.51342242</td><td>1027</td></tr>\n",
       "\t<tr><td> Never-married</td><td>10683</td><td>0.32809189</td><td>100.1449</td><td>10.00724</td><td>106907.35</td><td>0.29475315</td><td> 590</td></tr>\n",
       "\t<tr><td> Separated    </td><td> 1025</td><td>0.03147938</td><td>117.4184</td><td>10.83598</td><td> 11106.88</td><td>0.03062265</td><td>  61</td></tr>\n",
       "\t<tr><td> Widowed      </td><td>  993</td><td>0.03049661</td><td>152.4127</td><td>12.34555</td><td> 12259.14</td><td>0.03379954</td><td>  68</td></tr>\n",
       "</tbody>\n",
       "</table>\n"
      ],
      "text/latex": [
       "A tibble: 5 × 8\n",
       "\\begin{tabular}{llllllll}\n",
       " status & nn & prop & var & sd & nc & nprop & nh\\\\\n",
       " <fct> & <int> & <dbl> & <dbl> & <dbl> & <dbl> & <dbl> & <dbl>\\\\\n",
       "\\hline\n",
       "\t  Divorced      &  4443 & 0.13645158 & 108.1682 & 10.40040 &  46208.96 & 0.12740224 &  255\\\\\n",
       "\t  Married       & 15417 & 0.47348054 & 145.8976 & 12.07881 & 186218.98 & 0.51342242 & 1027\\\\\n",
       "\t  Never-married & 10683 & 0.32809189 & 100.1449 & 10.00724 & 106907.35 & 0.29475315 &  590\\\\\n",
       "\t  Separated     &  1025 & 0.03147938 & 117.4184 & 10.83598 &  11106.88 & 0.03062265 &   61\\\\\n",
       "\t  Widowed       &   993 & 0.03049661 & 152.4127 & 12.34555 &  12259.14 & 0.03379954 &   68\\\\\n",
       "\\end{tabular}\n"
      ],
      "text/markdown": [
       "\n",
       "A tibble: 5 × 8\n",
       "\n",
       "| status &lt;fct&gt; | nn &lt;int&gt; | prop &lt;dbl&gt; | var &lt;dbl&gt; | sd &lt;dbl&gt; | nc &lt;dbl&gt; | nprop &lt;dbl&gt; | nh &lt;dbl&gt; |\n",
       "|---|---|---|---|---|---|---|---|\n",
       "|  Divorced      |  4443 | 0.13645158 | 108.1682 | 10.40040 |  46208.96 | 0.12740224 |  255 |\n",
       "|  Married       | 15417 | 0.47348054 | 145.8976 | 12.07881 | 186218.98 | 0.51342242 | 1027 |\n",
       "|  Never-married | 10683 | 0.32809189 | 100.1449 | 10.00724 | 106907.35 | 0.29475315 |  590 |\n",
       "|  Separated     |  1025 | 0.03147938 | 117.4184 | 10.83598 |  11106.88 | 0.03062265 |   61 |\n",
       "|  Widowed       |   993 | 0.03049661 | 152.4127 | 12.34555 |  12259.14 | 0.03379954 |   68 |\n",
       "\n"
      ],
      "text/plain": [
       "  status         nn    prop       var      sd       nc        nprop      nh  \n",
       "1  Divorced       4443 0.13645158 108.1682 10.40040  46208.96 0.12740224  255\n",
       "2  Married       15417 0.47348054 145.8976 12.07881 186218.98 0.51342242 1027\n",
       "3  Never-married 10683 0.32809189 100.1449 10.00724 106907.35 0.29475315  590\n",
       "4  Separated      1025 0.03147938 117.4184 10.83598  11106.88 0.03062265   61\n",
       "5  Widowed         993 0.03049661 152.4127 12.34555  12259.14 0.03379954   68"
      ]
     },
     "metadata": {},
     "output_type": "display_data"
    }
   ],
   "source": [
    "n = 2000 ## we set sample size to be 1000\n",
    "N = nrow(adult) ## population size\n",
    "## Get pproportional stratum sizes\n",
    "adult$status <- as.factor(status)\n",
    "\n",
    "marital_ns <- adult %>%\n",
    "    group_by(status) %>%\n",
    "    summarise(nn = n(), prop = n()/N, var = var(age), sd = sd(age)) %>%\n",
    "    mutate(nc = nn*sd) %>%\n",
    "    mutate(nprop = nc/sum(nc)) %>%\n",
    "    mutate(nh = round(nprop*n))\n",
    "marital_ns"
   ]
  },
  {
   "cell_type": "markdown",
   "id": "48474882-a914-4e61-a150-640493226690",
   "metadata": {},
   "source": [
    "since nn for Married-AF-spouse, Married-civ-spouse and Married-spouse-absent are too small, so we combine them into Married status."
   ]
  },
  {
   "cell_type": "code",
   "execution_count": 6,
   "id": "590e02ff-4b56-4cc4-a0d1-a99e8fc08844",
   "metadata": {},
   "outputs": [
    {
     "data": {
      "text/html": [
       "<style>\n",
       ".list-inline {list-style: none; margin:0; padding: 0}\n",
       ".list-inline>li {display: inline-block}\n",
       ".list-inline>li:not(:last-child)::after {content: \"\\00b7\"; padding: 0 .5ex}\n",
       "</style>\n",
       "<ol class=list-inline><li>' Divorced'</li><li>' Married'</li><li>' Never-married'</li><li>' Separated'</li><li>' Widowed'</li></ol>\n"
      ],
      "text/latex": [
       "\\begin{enumerate*}\n",
       "\\item ' Divorced'\n",
       "\\item ' Married'\n",
       "\\item ' Never-married'\n",
       "\\item ' Separated'\n",
       "\\item ' Widowed'\n",
       "\\end{enumerate*}\n"
      ],
      "text/markdown": [
       "1. ' Divorced'\n",
       "2. ' Married'\n",
       "3. ' Never-married'\n",
       "4. ' Separated'\n",
       "5. ' Widowed'\n",
       "\n",
       "\n"
      ],
      "text/plain": [
       "[1] \" Divorced\"      \" Married\"       \" Never-married\" \" Separated\"    \n",
       "[5] \" Widowed\"      "
      ]
     },
     "metadata": {},
     "output_type": "display_data"
    }
   ],
   "source": [
    "## Stratums\n",
    "marital_levels <- levels(adult$status)\n",
    "nn <- marital_ns$nn\n",
    "nvar <- marital_ns$var\n",
    "nh <- marital_ns$nh\n",
    "marital_levels\n",
    "\n",
    "Divorced_sample <- adult %>%\n",
    "    filter(status == marital_levels[1]) %>%\n",
    "    pull(age) %>%\n",
    "    sample(nh[1])\n",
    "\n",
    "Married_sample <- adult %>%\n",
    "    filter(status == marital_levels[2]) %>%\n",
    "    pull(age) %>%\n",
    "    sample(nh[2])\n",
    "\n",
    "NeverMarried_sample <- adult %>%\n",
    "    filter(status == marital_levels[3]) %>%\n",
    "    pull(age) %>%\n",
    "    sample(nh[3])\n",
    "\n",
    "Separated_sample <- adult %>%\n",
    "    filter(status == marital_levels[4]) %>%\n",
    "    pull(age) %>%\n",
    "    sample(nh[4])\n",
    "\n",
    "Widowed_sample <- adult %>%\n",
    "    filter(status == marital_levels[5]) %>%\n",
    "    pull(age) %>%\n",
    "    sample(nh[5])"
   ]
  },
  {
   "cell_type": "markdown",
   "id": "c8b998ff-4fda-4ab3-847a-a67f3db00b7b",
   "metadata": {},
   "source": [
    "* ##### Formula<br>\n",
    "The estimate for the mean age is $\\bar{y}_{str} = \\sum_{h=1}^{H} ((\\frac{N_{h}}{N})\\bar{y}_{h}) $, when $N_{h}$ is the size of the $h^{th}$ strata, $N$ is the population size, and $\\bar{y}_{h}$ is the mean age of $h^{th}$ strata. the standard error for this estimate is $SE_{\\bar{y}_{str}} =  \\sqrt{\\sum_{h=1}^{H}((\\frac{N_{h}}{N})^2SE_{\\bar{y}_h}}$, where $SE_{\\bar{y}_h} = \\sqrt{(1-\\frac{n}{N})*\\frac{S^2_{h}}{n}}$ with $S_{h}$ being the standard deviation of the $h^{th}$ strata. The 95% confidence interval for $\\bar{y}_{str}$ is $\\bar{y}_{s}\\pm 1.96*SE_{\\bar{y}_{str}}$"
   ]
  },
  {
   "cell_type": "code",
   "execution_count": 7,
   "id": "b94554b7-33d9-45b8-9df2-a5a506884f0c",
   "metadata": {},
   "outputs": [
    {
     "data": {
      "text/html": [
       "<table class=\"dataframe\">\n",
       "<caption>A data.frame: 1 × 3</caption>\n",
       "<thead>\n",
       "\t<tr><th scope=col>Estimate</th><th scope=col>SE</th><th scope=col>true_parameter</th></tr>\n",
       "\t<tr><th scope=col>&lt;dbl&gt;</th><th scope=col>&lt;dbl&gt;</th><th scope=col>&lt;dbl&gt;</th></tr>\n",
       "</thead>\n",
       "<tbody>\n",
       "\t<tr><td>39.359</td><td>0.03912924</td><td>38.58165</td></tr>\n",
       "</tbody>\n",
       "</table>\n"
      ],
      "text/latex": [
       "A data.frame: 1 × 3\n",
       "\\begin{tabular}{lll}\n",
       " Estimate & SE & true\\_parameter\\\\\n",
       " <dbl> & <dbl> & <dbl>\\\\\n",
       "\\hline\n",
       "\t 39.359 & 0.03912924 & 38.58165\\\\\n",
       "\\end{tabular}\n"
      ],
      "text/markdown": [
       "\n",
       "A data.frame: 1 × 3\n",
       "\n",
       "| Estimate &lt;dbl&gt; | SE &lt;dbl&gt; | true_parameter &lt;dbl&gt; |\n",
       "|---|---|---|\n",
       "| 39.359 | 0.03912924 | 38.58165 |\n",
       "\n"
      ],
      "text/plain": [
       "  Estimate SE         true_parameter\n",
       "1 39.359   0.03912924 38.58165      "
      ]
     },
     "metadata": {},
     "output_type": "display_data"
    }
   ],
   "source": [
    "## Estmitated mean age and SE\n",
    "Divorced_est <- (nh[1]/n)*mean(Divorced_sample)\n",
    "Married_est <- (nh[2]/n)*mean(Married_sample)\n",
    "NeverMarried_est <- (nh[3]/n)*mean(NeverMarried_sample)\n",
    "Separated_est <- (nh[4]/n)*mean(Separated_sample)\n",
    "Widowed_est <- (nh[5]/n)*mean(Widowed_sample)\n",
    "\n",
    "ybarhat <- sum(c(Divorced_est,Married_est,NeverMarried_est,Separated_est,Widowed_est))\n",
    "\n",
    "## estimate SE\n",
    "Divorced_se <- ((nn[1]/N)^2) * (1-(nh[1]/n))*(nvar[1]/nh[1])\n",
    "Married_se <- ((nn[2]/N)^2) * (1-(nh[2]/n))*(nvar[2]/nh[2])\n",
    "NeverMarried_se <- ((nn[3]/N)^2) * (1-(nh[3]/n))*(nvar[3]/nh[3])\n",
    "Separated_se <- ((nn[4]/N)^2) * (1-(nh[4]/n))*(nvar[4]/nh[4])\n",
    "Widowed_se <- ((nn[5]/N)^2) * (1-(nh[5]/n))*(nvar[5]/nh[5])\n",
    "\n",
    "yhatse <- sum(c(Divorced_se,Married_se,NeverMarried_se,Separated_se,Widowed_se))\n",
    "\n",
    "result_data <- data.frame(Estimate = ybarhat, SE = yhatse, true_parameter = mean(adult$age))\n",
    "result_data"
   ]
  },
  {
   "cell_type": "code",
   "execution_count": 13,
   "id": "4a1f8af0-770b-4f5f-b65f-5673dd40f037",
   "metadata": {},
   "outputs": [
    {
     "data": {
      "text/plain": [
       "\n",
       "\n",
       "|                 |Value  |\n",
       "|:----------------|:------|\n",
       "|SampleMean.      |39.359 |\n",
       "|SE               |0.039  |\n",
       "|LowerBound95%CI  |39.282 |\n",
       "|Upper Bound95%CI |39.436 |"
      ]
     },
     "metadata": {},
     "output_type": "display_data"
    }
   ],
   "source": [
    "phat.str.me <-1.96*yhatse\n",
    "phat.str.confint <-c(ybarhat-phat.str.me,ybarhat+phat.str.me)\n",
    "str.matrix <-matrix(c(\"SampleMean.\",\"SE\",\"LowerBound95%CI\",\n",
    "\"Upper Bound95%CI\",\n",
    "round(ybarhat,3), round(yhatse,3),\n",
    "round(phat.str.confint[1],3),\n",
    "round(phat.str.confint[2],3)), nrow=4)\n",
    "knitr::kable(x =str.matrix,col.names=c(\"\",\"Value\"))"
   ]
  },
  {
   "cell_type": "markdown",
   "id": "584de68d-f854-4e37-8aa7-c08912f78fdf",
   "metadata": {},
   "source": [
    "* ###### RESULT<br>\n",
    "From our result, the estimate for mean age is 39.359. The standard error for this estimate is 0.03912924, Since our sample size sufficiently large (bigger than 25), by the central limit theorem, the distribution of our sample mean will be approximately normally distributed among many sample means. Therefore, we can conclude that we are 95% confident that the true mean age is between 39.282 and 39.436."
   ]
  },
  {
   "cell_type": "markdown",
   "id": "28b324b7",
   "metadata": {},
   "source": [
    "## Discussion "
   ]
  },
  {
   "cell_type": "markdown",
   "id": "1b3364e4",
   "metadata": {},
   "source": [
    "## Conclusion "
   ]
  },
  {
   "cell_type": "markdown",
   "id": "917b6550",
   "metadata": {},
   "source": [
    "# Part II"
   ]
  }
 ],
 "metadata": {
  "kernelspec": {
   "display_name": "R",
   "language": "R",
   "name": "ir"
  },
  "language_info": {
   "codemirror_mode": "r",
   "file_extension": ".r",
   "mimetype": "text/x-r-source",
   "name": "R",
   "pygments_lexer": "r",
   "version": "4.0.5"
  }
 },
 "nbformat": 4,
 "nbformat_minor": 5
}
