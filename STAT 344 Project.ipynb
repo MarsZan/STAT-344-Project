{
 "cells": [
  {
   "cell_type": "markdown",
   "id": "9695b958",
   "metadata": {},
   "source": [
    "# Part I"
   ]
  },
  {
   "cell_type": "markdown",
   "id": "b29cc9f3",
   "metadata": {},
   "source": [
    "## Introduction"
   ]
  },
  {
   "cell_type": "markdown",
   "id": "0965651f-a678-4d7d-9415-150275b0cceb",
   "metadata": {},
   "source": [
    "The current project is interested in estimating key metrics that reflects a country’s socio-economic status. To this end, the **proportion of individual with income level greater than 50-thousand dollars per year (denoted as $p$)** and the **average age (denoted as  $\\bar y$)** of the population are chosen as the parameter of interest. The income level of individual which coded as a binary variable (income level greater than 50 thousands dollar per year versus income level less or equal to 50 thousands dollars per year) is chosen to reflect the distribution of wealth within a country. The average age of the population is chosen for it yield insights into the population's age composition. Both metrics provide information on the current demographic and economic composition of the society as well as hints on future trends. \n",
    "\n",
    "The dataset used in this project is extracted and prepared by Barry Becker based on a 1994 US census database which is publicly available on the UCI Machine Learning Repository. This dataset is composed of 32,561 entries containing many demographic variables such as respondents' age, race, marital status, income level, etc. \n",
    "\n",
    "The current project utilized the available dataset as the population and obtained estimates of the parameters of interest (average age of individuals and proportion of individuals with income greater than 50K per year) by taking samples from the dataset using simple random sampling and stratified sampling techniques. Throughout the analysis, we will compare the performance of the two sampling techniques and discuss the advantages and disadvantages of both."
   ]
  },
  {
   "cell_type": "markdown",
   "id": "d5e44e45-a64e-4422-b530-5dd0b19fb2c7",
   "metadata": {},
   "source": [
    "## Preliminary Data Analysis\n",
    "\n",
    "The population means of our two response variables are listed below, and we will be using this to check the accuracy of our two sampling methods later. The code can be found in the appendix."
   ]
  },
  {
   "cell_type": "markdown",
   "id": "80debc21-b1c7-450d-b330-51cbcda6e299",
   "metadata": {},
   "source": [
    "|     | Value  |   \n",
    "| :----------: | :----------: | \n",
    "| Age Population Mean ($\\bar y_{pop}$)|38.5816\n",
    "| Income Population Proportion ($p$)|0.2408\n"
   ]
  },
  {
   "cell_type": "code",
   "execution_count": 3,
   "id": "5001d93f-446c-4b72-813e-db1b9f2db315",
   "metadata": {},
   "outputs": [
    {
     "data": {
      "image/png": "[encoded data removed]",
      "text/plain": [
       "Plot with title “Boxplot of our Population Income Proportions”"
      ]
     },
     "metadata": {
      "image/png": {
       "height": 420,
       "width": 900
      }
     },
     "output_type": "display_data"
    }
   ],
   "source": [
    "options(repr.plot.width = 15, repr.plot.height = 7)\n",
    "par(mfrow=c(1,2))\n",
    "hist(adult$age, \n",
    "     main = \"Histogram of Population Age Distribution\", \n",
    "     xlab = \"Age\")\n",
    "barplot(table(adult$income), \n",
    "        main = \"Boxplot of our Population Income Proportions\",\n",
    "        xlab = \"Income Level\")"
   ]
  },
  {
   "cell_type": "markdown",
   "id": "2838580c-7c71-4ea0-95ea-4251775df8ef",
   "metadata": {},
   "source": [
    "The histogram for continuous variable age is right-skewed with the majority of the population ages being between 20 years old and 50 years old with a mean of around 30 years old. We take note that there are few samples with ages on the higher end. From the barplot, it looks like more than three quarters of the population are making less than 50K a year, with approximately one quarter of the population making more than 50K a year."
   ]
  },
  {
   "cell_type": "markdown",
   "id": "aba1e47d-86d5-4a2d-99bd-b48ffefad353",
   "metadata": {
    "tags": []
   },
   "source": [
    "## Analysis and Comparison"
   ]
  },
  {
   "cell_type": "markdown",
   "id": "6693255a-aaac-47a5-b590-e35d60c8efb2",
   "metadata": {
    "tags": []
   },
   "source": [
    "### Sample Size Determination\n",
    "\n",
    "Once we load the data into R, we can see that our population size is ${N}$ = 32561. From here, we can decide on a sample size. \n",
    "\n",
    "We calculate our sample size by using the following formulas: \n",
    "- $n_0 = \\frac{1.96^2 s^2_{guess}}{\\delta^2}$, where $s^2_{guess}$ is the guessed variance, and $\\delta$ is a desired margin of error.\n",
    "- $n = \\frac{n_0}{1 + \\frac{n_0}{N}}$, where N is the population/census size. This formula is used to take the finite population correct factor into consideration.\n",
    "\n",
    "For our continuous response, age, we do not have a most conservative guess of the variance therefore we decide to base our sample size on the calculation for our binary response variable. For our binary data, we assume $\\hat{p}$ = 0.5, which provides us with a most conservative guess of the variance and standard error is maximized, being 0.25 or 0.5 respectively.\n",
    "\n",
    "A desired level of margin of error was chosen to be 0.02 (2%); as we think it is good enough accuracy for our goals of this project. The resulting $n = 2236$ is also a nice and realistic number to use for a dataset analysis like this. Because we cannot find an estimated sample size for the continuous analysis, we believe that the same sample size can be used for our continous sample analysis as well."
   ]
  },
  {
   "cell_type": "markdown",
   "id": "5b8449c5",
   "metadata": {},
   "source": [
    "### Simple Random Sampling\n",
    "\n",
    "A simple random sample is the simplest method to sample from a population. Treating our dataset as our population, each member of the population must have an equal chance of being sampled. This is a very simple sampling strategy that hopes to maximize the randomness of our data, which minimizes lurking factors that we are not analyzing.\n",
    "\n",
    "The sampling method maximizes the randomness of the data we obtain, meaning we have very little control as to how the data will be distributed. Intuitively, this may suggest that the sample we collect will be representative of the population. However, there is a remote chance that the sample we collect may not be fully representative of our dataset. At this point, we will have to assume that our sample will be fully representative, and that our members in our sample all had an equal chance of being selected to be in our sample.\n",
    "\n",
    "In order to randomly generate an independent and identical sample, we use sample.int() function to draw 2236 indices from 32561 total indices. "
   ]
  },
  {
   "cell_type": "markdown",
   "id": "809d3ea0-d131-44b5-916b-112f28ecb381",
   "metadata": {
    "tags": []
   },
   "source": [
    "#### Binary Population\n",
    "Recall that our response variable is the proportion of people that have an income greater that 50K. Sampling from our population, we obtain the sampled mean, 0.2415, with a standard error of $SE_{\\hat{p}} = \\sqrt{(1 - \\frac{n}{N})\\frac{\\hat{p}(1 - \\hat{p})}{n}} = $ 0.0087. The 95% confidence interval is $\\hat{p} \\pm 1.96 \\times SE_{\\hat{p}}$, which is [0.2244, 0.2586].\n",
    "Through our simple random sample as well as utilizing the Central Limit Theorem, our high sample size yields a normal sampling distribution with a mean of 0.2405. From this, we are 95% confident that the true proportion of people with an income greater than 50K is between 0.2224 and 0.2596. \n",
    "\n",
    "|     | Value  |   \n",
    "| :----------: | :----------: | \n",
    "| Sample Proportion|0.2415\n",
    "| Sample SE|0.0087\n",
    "| Lower CI|0.2244\n",
    "| Upper CI|0.2586"
   ]
  },
  {
   "cell_type": "markdown",
   "id": "1a40bf02-a05f-4c30-8aaf-ac3c9db94536",
   "metadata": {},
   "source": [
    "#### Continous Population\n",
    "We use the sample mean $\\bar{y_s} = \\frac{\\sum_{i = 1}^{n}{y_i}}{n}$ to estimate the population mean age for continuous parameter. Using the sample standard deviation, we are able to calculate the standard error using $SE_{\\bar{y_s}} = \\sqrt{(1-\\frac{n}{N}) \\frac{{s_s}^2}{n}}$. The 95% confidence interval is measured by ${\\bar{y_s}}~ \\pm 1.96 \\times SE_{\\bar{y_s}}$\n",
    "\n",
    "|     | Value  |   \n",
    "| :----------: | :----------: | \n",
    "| Sample Mean|38.6556\n",
    "| Sample SE|0.2847\n",
    "| Lower CI|38.0975\n",
    "| Upper CI|39.2137\n",
    "\n",
    "According to the output, the sample mean is 38.6556 with a standard error of 0.2847. As the sample size is large enough, we can utilize the central limit theorem and conclude that the sampling distribution of the mean will be normal. From this, we can be 95% confident that the true population mean is between 38.0975 and 39.2137."
   ]
  },
  {
   "cell_type": "markdown",
   "id": "d9e12d98",
   "metadata": {},
   "source": [
    "### Stratified Sampling"
   ]
  },
  {
   "cell_type": "markdown",
   "id": "33ae036b-9f48-4742-8630-c5a0ff086959",
   "metadata": {},
   "source": [
    "For stratified sampling method, we first use information about the population to divide the population of interest into sub-populations. Then we random sample $n_h$ number of individuals from each subpopulation where $n_h$ is obtained through proportional allocation. In theory, stratified sampling will more accurately reflect the population studied based on a set of chosen characteristics.\n",
    "\n",
    "* Assumptions: \n",
    "\n",
    "> We assume the sampling cost for each subpopulation is the same. \n",
    "\n",
    "> We assume the subpopulations have similar variance. \n",
    "\n",
    "* Procedures:\n",
    "\n",
    "> First, $n_h$ for each subpopulation is calculated based on subpopulation size such that $n_h = n\\frac{N_h}{N}$, where $n$ is the total sample size, $N_h$ is the subpopulation size, and $N$ is the population size. \n",
    "\n",
    "> Second, we divide the population into $h$ subpopulation and randomly sample $n_h$ individuals without replacement from each subpopulation to form of stratified sample. \n",
    "\n",
    "> Finally, we find the mean and variance of age and proportion of individuals with income greater than 50K for each subpopulation and combine the estimates to form one stratified estimates $\\bar y_{str,s}$,$p_{str,s}$ of the population parameters. "
   ]
  },
  {
   "cell_type": "markdown",
   "id": "732faa02-8f15-4df8-916a-c1f796668717",
   "metadata": {},
   "source": [
    "#### Binary Population\n",
    "For the binary population, we divide the population into 4 strata according to individual's race. The four strata are `Asian-Pac-Islander`, `Black`, `Other`, and `White`. \n",
    "\n",
    "> The stratified estimate for the binary variable is computed as $\\hat p_{str} = \\sum_{h = 1}^H \\frac{N_h}{N}\\hat p_h$ where $\\hat p_h$ is the sample proportion of individuals in the $h-th$ stratum with income greater than 50K. \n",
    "\n",
    "> The stratified estimate SE of sample proportion is computed as $SE[\\hat p_{str}] = \\sqrt{\\hat Var[p_{str}]}$, where $\\hat Var[p_{str}]= \\sum_{h = 1}^H (\\frac{N_h}{N})^2 (1 - \\frac{n_h}{N_h}) \\frac{\\hat p_{h}(1- \\hat p_h)}{n_h}$. \n",
    "\n",
    "> The 95% confidence interval is computed as $\\hat p_{str} \\pm 1.96 \\times SE[\\hat p_{str}]$\n",
    "\n",
    "|     | Value  |   \n",
    "| :----------: | :----------: | \n",
    "| Sample Proportion|0.24064\n",
    "| Sample SE|0.00867\n",
    "| Lower CI|0.22364\n",
    "| Upper CI|0.25764"
   ]
  },
  {
   "cell_type": "markdown",
   "id": "f9837d15-c55c-453a-858c-c2e338718e6c",
   "metadata": {},
   "source": [
    "Looking at the above result, the stratified estimate of sample proportion is 0.24064 with a sample SE of 0.00867. We conclude from the above result, with 95% confidence that the true population proportion is between 0.22364 and 0.25764."
   ]
  },
  {
   "cell_type": "markdown",
   "id": "dae13cbf-0988-4782-8ccb-274d1391378c",
   "metadata": {},
   "source": [
    "#### Continuous Population\n",
    "For the continuous response, `age`, we divided the population into 5 strata according to individuals marital status, the strata are `Divorced`, `Married`, `Never Married`, `Separated`, `Widowed`. \n",
    "> The estimate for the mean age is $\\bar{y}_{str} = \\sum_{h=1}^{H} ((\\frac{N_{h}}{N})\\bar{y}_{h}) $, when $N_{h}$ is the size of the $h^{th}$ strata, $N$ is the population size, and $\\bar{y}_{h}$ is the mean age of $h^{th}$ strata. \n",
    "\n",
    "> The standard error for this estimate is $SE_{\\bar{y}_{str}} =  \\sqrt{\\sum_{h=1}^{H}((\\frac{N_{h}}{N})^2SE_{\\bar{y}_h}}$, where $SE_{\\bar{y}_h} = \\sqrt{(1-\\frac{n_h}{N_h})\\times\\frac{S^2_{h}}{n_h}}$ with $S_{h}$ being the standard deviation of the $h^{th}$ strata. \n",
    "\n",
    "> The 95% confidence interval for $\\bar{y}_{str}$ is $\\bar{y}_{s}\\pm 1.96 \\times SE_{\\bar{y}_{str}}$\n",
    "\n",
    "|     | Value  |   \n",
    "| :----------: | :----------: | \n",
    "| Sample Mean|38.6169\n",
    "| Sample SE|0.2285\n",
    "| Lower CI|38.1690\n",
    "| Upper CI|39.0648"
   ]
  },
  {
   "cell_type": "markdown",
   "id": "621db85a-3fc9-496c-8145-8c60bffd6b89",
   "metadata": {},
   "source": [
    "From our result, the estimate for mean age is 38.6169. The standard error for this estimate is 0.2285, Since our sample size sufficiently large (n = 2236), by the central limit theorem, the distribution of our sample mean will follow a normally distributed closely. We conclude that we are 95% confident that the true mean age is between 38.1690 and 39.0648. "
   ]
  },
  {
   "cell_type": "markdown",
   "id": "83093cfc-f3bd-40df-91e1-47410bce7fb8",
   "metadata": {},
   "source": [
    "## Discussion\n",
    "\n",
    "Overall, the 95% confidence intervals computed using simple random sampling (SRS) and stratified sampling method captured the true population parameters of interest. Looking closely, the stratified sampling method yields narrower confidence intervals for both the continuous (mean age) and binary parameter (proportion of individuals with income greater than 50K) compared to simple random sampling. This is expected because only within stratum variation contributes to the variance for stratified estimator whereas the variance for simple random estimator has contribution from both between-stratum and within-stratum variation. The reduction in the standard error of estimates is most clear for the continuous population as the SE of the estimate for mean age reduced to 0.2285 years from 0.2847 years. This is because the stratification was based on individuals’ marital status and where the between stratum variation was large. Therefore we see a meaningful reduction in SE associated with the estimate of mean age compared to the SRS estimate. However, the reduction in SE associated with the sample proportion is not as obvious, the SE of the estimated proportion reduced to 0.00867 (SE of the stratified estimate) from 0.00870 (SE of the SRS estimate). This relatively trivial reduction in SE is mainly due to the choice of variable used to divide stratum. For the binary response, we used individuals’ race to divide the population into strata. This stratification didn’t result in strata that are as heterogeneous as the ones we have for the continuous response. As a result, the SE of the stratified estimate for the binary response didn’t improve much compared to the SRS estimate. \n",
    "\n",
    "While the numeric results and accuracy favour stratified sampling, we must take note of the practicality of both techniques. Intuitively, for most cases, a simple random sample seems to be a much easier, quicker, and cheaper option to collect data versus a stratified sample, where planning and costs may become a big factor in determining properties like sample size. \n",
    "For stratified sampling, further preparations need to be made before a sample can be taken; such as how strata will be split, the population sizes of each stratum, the within variances of each stratum, and many more. Compared to the simple random sample, preparations are a lot easier, with less information needed such as full population size and estimated variance needed. With all the information needed for a stratified sample, the costs and time required grows immensely; which is why a simple random sample is more favoured when it comes to practicality.\n",
    "When sampling with a stratified method, the challenge will arise when selecting stratas. Different ways of splitting may provide a better or worse estimate. But it may provide more accurate coverage for the population as there is more information that can be controlled. "
   ]
  },
  {
   "cell_type": "markdown",
   "id": "6da1712d-1e08-4f4c-9511-f2cfeb1faffe",
   "metadata": {},
   "source": [
    "## Conclusion\n",
    "\n",
    "In conclusion, we have conducted two separate sampling techniques to achieve population parameters for two response variables. Both sample techniques and analysis has reached the same conclusion, with results being accurate to the true population parameter within an acceptable degree. While conducting this analysis, we also noted the performance of these sampling techniques, and we conclude that from a statistical standpoint, stratified sampling and analysis beats simple random sampling and its analysis.\n",
    "\n",
    "Numerically, our results will be taken from our stratified sampling and analysis.\n",
    "\n",
    "Our final estimated mean population age is $\\bar{y_s} = 38.6169$, with its standard error being $SE(\\bar{y}) = 0.2285$, and our final 95% confidence interval being $[38.1690, 39.0648]$. \n",
    "\n",
    "Our final estimated proportion of people with incomes over 50K is $\\hat{p} = 0.24064$, with its standard error being $SE(\\hat{p}) = 0.00867$, and our final 95% confidence interval being $[0.22364, 0.25764]$. \n",
    "\n",
    "In a real analysis, we wouldn't know the true population parameter values; but in this case, we can see that both $\\bar{y_{pop}} = 38.5816$ and $p = 0.2408$ are both encompassed by the confidence intervals built above as well."
   ]
  },
  {
   "cell_type": "markdown",
   "id": "c3d04ea2-ce58-4833-b28b-77c51a3b3734",
   "metadata": {},
   "source": [
    "# Part II\n",
    "\n",
    "The article by Perlman and Wu concerns the emergence and proliferation of the “New Tests” in the field of statistics. The term “New Tests” is used by the authors to describe many of the newly emerged statistical tests with promising properties but often reach conclusions that go against scientific intuition. The proponents of the “New Tests” hold the notion that having a test with the best statistical properties is of paramount importance compared to scientific intuition. The authors of the article refute such a statement and hold a different view on the role of intuition in statistics. As the authors put, scientific intuition is extremely important in scientific studies in general therefore tests that reach conclusions against scientific intuition are scientifically inappropriate tests. This article reinstated the importance of having good intuition in guiding scientific inquiry in general while reminding us to remain skeptical of statistically sounding yet un-intuitive tests. "
   ]
  },
  {
   "cell_type": "markdown",
   "id": "5e62db98-060a-46cd-baf4-7239fa6ae340",
   "metadata": {},
   "source": [
    "## Appendix"
   ]
  },
  {
   "cell_type": "code",
   "execution_count": 1,
   "id": "8e10bf37-7adf-44da-9c72-1c723cc461d0",
   "metadata": {},
   "outputs": [
    {
     "name": "stderr",
     "output_type": "stream",
     "text": [
      "Warning message in system(\"timedatectl\", intern = TRUE):\n",
      "“running command 'timedatectl' had status 1”\n",
      "── \u001b[1mAttaching packages\u001b[22m ─────────────────────────────────────── tidyverse 1.3.1 ──\n",
      "\n",
      "\u001b[32m✔\u001b[39m \u001b[34mggplot2\u001b[39m 3.3.5     \u001b[32m✔\u001b[39m \u001b[34mpurrr  \u001b[39m 0.3.4\n",
      "\u001b[32m✔\u001b[39m \u001b[34mtibble \u001b[39m 3.1.6     \u001b[32m✔\u001b[39m \u001b[34mdplyr  \u001b[39m 1.0.7\n",
      "\u001b[32m✔\u001b[39m \u001b[34mtidyr  \u001b[39m 1.1.3     \u001b[32m✔\u001b[39m \u001b[34mstringr\u001b[39m 1.4.0\n",
      "\u001b[32m✔\u001b[39m \u001b[34mreadr  \u001b[39m 2.1.1     \u001b[32m✔\u001b[39m \u001b[34mforcats\u001b[39m 0.5.1\n",
      "\n",
      "── \u001b[1mConflicts\u001b[22m ────────────────────────────────────────── tidyverse_conflicts() ──\n",
      "\u001b[31m✖\u001b[39m \u001b[34mdplyr\u001b[39m::\u001b[32mfilter()\u001b[39m masks \u001b[34mstats\u001b[39m::filter()\n",
      "\u001b[31m✖\u001b[39m \u001b[34mdplyr\u001b[39m::\u001b[32mlag()\u001b[39m    masks \u001b[34mstats\u001b[39m::lag()\n",
      "\n",
      "Registered S3 method overwritten by 'GGally':\n",
      "  method from   \n",
      "  +.gg   ggplot2\n",
      "\n"
     ]
    },
    {
     "data": {
      "image/png": "[encoded data removed]",
      "text/plain": [
       "Plot with title “Histogram of adult$age”"
      ]
     },
     "metadata": {
      "image/png": {
       "height": 420,
       "width": 900
      }
     },
     "output_type": "display_data"
    }
   ],
   "source": [
    "library(tidyverse)\n",
    "library(GGally)\n",
    "adult <- read.csv(\"adult.data\", header = FALSE)\n",
    "column_names <- c(\"age\",\n",
    "                  \"workclass\",\n",
    "                  \"final_weight\",\n",
    "                  \"education\", \n",
    "                  \"education_num\",\n",
    "                  \"marital_status\",\n",
    "                  \"occupation\",\n",
    "                  \"relationship\",\n",
    "                  \"race\",\n",
    "                  \"sex\",\n",
    "                  \"capital_gain\", \n",
    "                  \"capital_loss\", \n",
    "                  \"hours_per_week\", \n",
    "                  \"native_country\",\n",
    "                  \"income\")\n",
    "adult <- setNames(adult, column_names)\n",
    "adult <- adult %>% mutate_if(is.character, as.factor)\n",
    "adult <- adult %>%\n",
    "    mutate(income = as.factor(income))\n",
    "\n",
    "n = 2236 \n",
    "N = nrow(adult) ## population size\n",
    "\n",
    "#data visualization\n",
    "options(repr.plot.width = 15, repr.plot.height = 7)\n",
    "par(mfrow=c(1,2))\n",
    "hist(adult$age)\n",
    "barplot(table(adult$income))"
   ]
  },
  {
   "cell_type": "markdown",
   "id": "31246c93-59e7-437f-9df5-3dbea16151de",
   "metadata": {},
   "source": [
    "## Simple random sample"
   ]
  },
  {
   "cell_type": "markdown",
   "id": "2d83cf42-9304-40f9-8ce0-f603609d2a53",
   "metadata": {},
   "source": [
    "### Continous Population"
   ]
  },
  {
   "cell_type": "code",
   "execution_count": 17,
   "id": "f853c460-f67c-4de1-8c80-4a61588cec31",
   "metadata": {},
   "outputs": [
    {
     "data": {
      "text/html": [
       "38.6556"
      ],
      "text/latex": [
       "38.6556"
      ],
      "text/markdown": [
       "38.6556"
      ],
      "text/plain": [
       "[1] 38.6556"
      ]
     },
     "metadata": {},
     "output_type": "display_data"
    },
    {
     "data": {
      "text/html": [
       "0.2847"
      ],
      "text/latex": [
       "0.2847"
      ],
      "text/markdown": [
       "0.2847"
      ],
      "text/plain": [
       "[1] 0.2847"
      ]
     },
     "metadata": {},
     "output_type": "display_data"
    },
    {
     "data": {
      "text/html": [
       "<style>\n",
       ".list-inline {list-style: none; margin:0; padding: 0}\n",
       ".list-inline>li {display: inline-block}\n",
       ".list-inline>li:not(:last-child)::after {content: \"\\00b7\"; padding: 0 .5ex}\n",
       "</style>\n",
       "<ol class=list-inline><li>38.0975</li><li>39.2137</li></ol>\n"
      ],
      "text/latex": [
       "\\begin{enumerate*}\n",
       "\\item 38.0975\n",
       "\\item 39.2137\n",
       "\\end{enumerate*}\n"
      ],
      "text/markdown": [
       "1. 38.0975\n",
       "2. 39.2137\n",
       "\n",
       "\n"
      ],
      "text/plain": [
       "[1] 38.0975 39.2137"
      ]
     },
     "metadata": {},
     "output_type": "display_data"
    }
   ],
   "source": [
    "set.seed(344)\n",
    "\n",
    "SRS.index <- sample.int(N, n, replace = FALSE) \n",
    "adultsample <- adult[SRS.index, ]\n",
    "\n",
    "ybar <- mean(adultsample$age)\n",
    "s_sd <- sd(adultsample$age)\n",
    "se_ybar <- sqrt((1-n/N)*(s_sd^2/n))\n",
    "round(ybar,4)\n",
    "#s_sd\n",
    "round(se_ybar,4)\n",
    "\n",
    "round(c(ybar - 1.96 * se_ybar, ybar + 1.96 * se_ybar),4)"
   ]
  },
  {
   "cell_type": "markdown",
   "id": "0d03c1b2-9940-4721-970c-448597c20bc7",
   "metadata": {},
   "source": [
    "### Binary Population"
   ]
  },
  {
   "cell_type": "code",
   "execution_count": 18,
   "id": "f7eed272-408c-41d6-8513-1b081090f183",
   "metadata": {},
   "outputs": [
    {
     "data": {
      "text/html": [
       "0.2415"
      ],
      "text/latex": [
       "0.2415"
      ],
      "text/markdown": [
       "0.2415"
      ],
      "text/plain": [
       "[1] 0.2415"
      ]
     },
     "metadata": {},
     "output_type": "display_data"
    },
    {
     "data": {
      "text/html": [
       "0.0087"
      ],
      "text/latex": [
       "0.0087"
      ],
      "text/markdown": [
       "0.0087"
      ],
      "text/plain": [
       "[1] 0.0087"
      ]
     },
     "metadata": {},
     "output_type": "display_data"
    },
    {
     "data": {
      "text/html": [
       "<style>\n",
       ".list-inline {list-style: none; margin:0; padding: 0}\n",
       ".list-inline>li {display: inline-block}\n",
       ".list-inline>li:not(:last-child)::after {content: \"\\00b7\"; padding: 0 .5ex}\n",
       "</style>\n",
       "<ol class=list-inline><li>0.2244</li><li>0.2586</li></ol>\n"
      ],
      "text/latex": [
       "\\begin{enumerate*}\n",
       "\\item 0.2244\n",
       "\\item 0.2586\n",
       "\\end{enumerate*}\n"
      ],
      "text/markdown": [
       "1. 0.2244\n",
       "2. 0.2586\n",
       "\n",
       "\n"
      ],
      "text/plain": [
       "[1] 0.2244 0.2586"
      ]
     },
     "metadata": {},
     "output_type": "display_data"
    }
   ],
   "source": [
    "set.seed(344)\n",
    "\n",
    "SRS.index <- sample.int(N, n, replace = FALSE) \n",
    "adultsample <- adult[SRS.index, ]\n",
    "\n",
    "income <- adultsample %>%\n",
    "    group_by(income) %>%\n",
    "    summarize(n = n())\n",
    "\n",
    "p_hat <- income[2,2]/n\n",
    "p_hat = pull(p_hat)\n",
    "round(p_hat, 4)\n",
    "\n",
    "phat_se = sqrt((1-n/N)*p_hat*(1-p_hat)/n)\n",
    "round(phat_se, 4)\n",
    "\n",
    "round(c(p_hat - 1.96 * phat_se, p_hat + 1.96 * phat_se),4)"
   ]
  },
  {
   "cell_type": "markdown",
   "id": "b5a9b89c-92c8-43f0-bb17-2e899d862100",
   "metadata": {},
   "source": [
    "## Stratified Sampling"
   ]
  },
  {
   "cell_type": "markdown",
   "id": "16ed13fd-87ef-44ec-a8de-88a4c882e5ec",
   "metadata": {},
   "source": [
    "### Continuous Parameter Estimation"
   ]
  },
  {
   "cell_type": "code",
   "execution_count": 2,
   "id": "8db9e756-7d91-4f2d-937c-69149768cda5",
   "metadata": {},
   "outputs": [],
   "source": [
    "level <- as.character(levels(as.factor(adult$marital_status)))\n",
    "status <- as.character(adult$marital_status)\n",
    "for (i in 1:length(status)) {\n",
    "    ifelse (status[i] == level[2] | status[i] == level[3] | status[i] == level[4], \n",
    "            status[i] <- \" Married\", \n",
    "            status[i] <- status[i])\n",
    "}"
   ]
  },
  {
   "cell_type": "code",
   "execution_count": 3,
   "id": "8d497094-a3b8-4196-a382-c08d3215ab6a",
   "metadata": {},
   "outputs": [
    {
     "data": {
      "text/html": [
       "<table class=\"dataframe\">\n",
       "<caption>A tibble: 5 × 4</caption>\n",
       "<thead>\n",
       "\t<tr><th scope=col>status</th><th scope=col>N_h</th><th scope=col>stratum_prop</th><th scope=col>n_h</th></tr>\n",
       "\t<tr><th scope=col>&lt;fct&gt;</th><th scope=col>&lt;int&gt;</th><th scope=col>&lt;dbl&gt;</th><th scope=col>&lt;dbl&gt;</th></tr>\n",
       "</thead>\n",
       "<tbody>\n",
       "\t<tr><td> Divorced     </td><td> 4443</td><td>0.13645158</td><td> 305</td></tr>\n",
       "\t<tr><td> Married      </td><td>15417</td><td>0.47348054</td><td>1059</td></tr>\n",
       "\t<tr><td> Never-married</td><td>10683</td><td>0.32809189</td><td> 734</td></tr>\n",
       "\t<tr><td> Separated    </td><td> 1025</td><td>0.03147938</td><td>  70</td></tr>\n",
       "\t<tr><td> Widowed      </td><td>  993</td><td>0.03049661</td><td>  68</td></tr>\n",
       "</tbody>\n",
       "</table>\n"
      ],
      "text/latex": [
       "A tibble: 5 × 4\n",
       "\\begin{tabular}{llll}\n",
       " status & N\\_h & stratum\\_prop & n\\_h\\\\\n",
       " <fct> & <int> & <dbl> & <dbl>\\\\\n",
       "\\hline\n",
       "\t  Divorced      &  4443 & 0.13645158 &  305\\\\\n",
       "\t  Married       & 15417 & 0.47348054 & 1059\\\\\n",
       "\t  Never-married & 10683 & 0.32809189 &  734\\\\\n",
       "\t  Separated     &  1025 & 0.03147938 &   70\\\\\n",
       "\t  Widowed       &   993 & 0.03049661 &   68\\\\\n",
       "\\end{tabular}\n"
      ],
      "text/markdown": [
       "\n",
       "A tibble: 5 × 4\n",
       "\n",
       "| status &lt;fct&gt; | N_h &lt;int&gt; | stratum_prop &lt;dbl&gt; | n_h &lt;dbl&gt; |\n",
       "|---|---|---|---|\n",
       "|  Divorced      |  4443 | 0.13645158 |  305 |\n",
       "|  Married       | 15417 | 0.47348054 | 1059 |\n",
       "|  Never-married | 10683 | 0.32809189 |  734 |\n",
       "|  Separated     |  1025 | 0.03147938 |   70 |\n",
       "|  Widowed       |   993 | 0.03049661 |   68 |\n",
       "\n"
      ],
      "text/plain": [
       "  status         N_h   stratum_prop n_h \n",
       "1  Divorced       4443 0.13645158    305\n",
       "2  Married       15417 0.47348054   1059\n",
       "3  Never-married 10683 0.32809189    734\n",
       "4  Separated      1025 0.03147938     70\n",
       "5  Widowed         993 0.03049661     68"
      ]
     },
     "metadata": {},
     "output_type": "display_data"
    }
   ],
   "source": [
    "## Get pproportional stratum sizes\n",
    "adult$status <- as.factor(status)\n",
    "\n",
    "str_continuous <- adult %>%\n",
    "    group_by(status) %>%\n",
    "    summarise(N_h = n(), stratum_prop = N_h/N) %>%\n",
    "    mutate(n_h = round(stratum_prop*n))\n",
    "str_continuous"
   ]
  },
  {
   "cell_type": "markdown",
   "id": "ed6b1a20-279b-4693-bdc9-29f7479fd819",
   "metadata": {},
   "source": [
    "since nn for Married-AF-spouse, Married-civ-spouse and Married-spouse-absent are too small, so we combine them into Married status.\n",
    "\n"
   ]
  },
  {
   "cell_type": "code",
   "execution_count": 4,
   "id": "07c7863b-7e92-48a4-92df-7bc24e43c160",
   "metadata": {},
   "outputs": [],
   "source": [
    "## Stratified Samples\n",
    "marital_levels <- levels(adult$status)\n",
    "nh <- str_continuous$n_h\n",
    "\n",
    "Divorced_sample <- adult %>%\n",
    "    filter(status == marital_levels[1]) %>%\n",
    "    pull(age) %>%\n",
    "    sample(nh[1])\n",
    "\n",
    "Married_sample <- adult %>%\n",
    "    filter(status == marital_levels[2]) %>%\n",
    "    pull(age) %>%\n",
    "    sample(nh[2])\n",
    "\n",
    "NeverMarried_sample <- adult %>%\n",
    "    filter(status == marital_levels[3]) %>%\n",
    "    pull(age) %>%\n",
    "    sample(nh[3])\n",
    "\n",
    "Separated_sample <- adult %>%\n",
    "    filter(status == marital_levels[4]) %>%\n",
    "    pull(age) %>%\n",
    "    sample(nh[4])\n",
    "\n",
    "Widowed_sample <- adult %>%\n",
    "    filter(status == marital_levels[5]) %>%\n",
    "    pull(age) %>%\n",
    "    sample(nh[5])"
   ]
  },
  {
   "cell_type": "code",
   "execution_count": 6,
   "id": "e7b12b7a-face-4a89-b373-6ffd7a7d7767",
   "metadata": {},
   "outputs": [
    {
     "data": {
      "text/html": [
       "<table class=\"dataframe\">\n",
       "<caption>A data.frame: 1 × 3</caption>\n",
       "<thead>\n",
       "\t<tr><th scope=col>Estimate</th><th scope=col>SE</th><th scope=col>true_parameter</th></tr>\n",
       "\t<tr><th scope=col>&lt;dbl&gt;</th><th scope=col>&lt;dbl&gt;</th><th scope=col>&lt;dbl&gt;</th></tr>\n",
       "</thead>\n",
       "<tbody>\n",
       "\t<tr><td>38.61688</td><td>0.2285194</td><td>38.58165</td></tr>\n",
       "</tbody>\n",
       "</table>\n"
      ],
      "text/latex": [
       "A data.frame: 1 × 3\n",
       "\\begin{tabular}{lll}\n",
       " Estimate & SE & true\\_parameter\\\\\n",
       " <dbl> & <dbl> & <dbl>\\\\\n",
       "\\hline\n",
       "\t 38.61688 & 0.2285194 & 38.58165\\\\\n",
       "\\end{tabular}\n"
      ],
      "text/markdown": [
       "\n",
       "A data.frame: 1 × 3\n",
       "\n",
       "| Estimate &lt;dbl&gt; | SE &lt;dbl&gt; | true_parameter &lt;dbl&gt; |\n",
       "|---|---|---|\n",
       "| 38.61688 | 0.2285194 | 38.58165 |\n",
       "\n"
      ],
      "text/plain": [
       "  Estimate SE        true_parameter\n",
       "1 38.61688 0.2285194 38.58165      "
      ]
     },
     "metadata": {},
     "output_type": "display_data"
    }
   ],
   "source": [
    "## Estmitate mean age\n",
    "stratum_prop <- str_continuous$stratum_prop\n",
    "Divorced_est <- (stratum_prop[1])*mean(Divorced_sample)\n",
    "Married_est <- (stratum_prop[2])*mean(Married_sample)\n",
    "NeverMarried_est <- (stratum_prop[3])*mean(NeverMarried_sample)\n",
    "Separated_est <- (stratum_prop[4])*mean(Separated_sample)\n",
    "Widowed_est <- (stratum_prop[5])*mean(Widowed_sample)\n",
    "\n",
    "hat_ybar_str <- sum(c(Divorced_est,Married_est,NeverMarried_est,Separated_est,Widowed_est))\n",
    "\n",
    "## estimate SE\n",
    "Divorced_var <- var(Divorced_sample)\n",
    "\n",
    "Married_var <- var(Married_sample)\n",
    "\n",
    "NeverMarried_var <- var(NeverMarried_sample)\n",
    "\n",
    "Separated_var <- var(Separated_sample)\n",
    "\n",
    "Widowed_var <- var(Widowed_sample)\n",
    "\n",
    "vars <- c(Divorced_var,Married_var,NeverMarried_var,Separated_var,Widowed_var)\n",
    "\n",
    "N_h <- str_continuous$N_h\n",
    "Divorced_var <- ((stratum_prop[1])^2) * (1-(nh[1]/N_h[1]))*(vars[1]/nh[1])\n",
    "Married_var <- ((stratum_prop[2])^2) * (1-(nh[2]/N_h[2]))*(vars[2]/nh[2])\n",
    "NeverMarried_var <- ((stratum_prop[3])^2) * (1-(nh[3]/N_h[3]))*(vars[3]/nh[3])\n",
    "Separated_var <- ((stratum_prop[4])^2) * (1-(nh[4]/N_h[4]))*(vars[4]/nh[4])\n",
    "Widowed_var <- ((stratum_prop[5])^2) * (1-(nh[5]/N_h[5]))*(vars[5]/nh[5])\n",
    "\n",
    "yhatse <- sqrt(sum(c(Divorced_var,Married_var,NeverMarried_var,Separated_var,Widowed_var)))\n",
    "\n",
    "result_data <- data.frame(Estimate = hat_ybar_str, SE = yhatse, true_parameter = mean(adult$age))\n",
    "result_data"
   ]
  },
  {
   "cell_type": "code",
   "execution_count": 8,
   "id": "7ef330a7-3478-49e2-92aa-951edacdd563",
   "metadata": {},
   "outputs": [
    {
     "data": {
      "text/plain": [
       "\n",
       "\n",
       "|                 |Value  |\n",
       "|:----------------|:------|\n",
       "|SampleMean.      |38.617 |\n",
       "|SE               |0.229  |\n",
       "|LowerBound95%CI  |38.169 |\n",
       "|Upper Bound95%CI |39.065 |"
      ]
     },
     "metadata": {},
     "output_type": "display_data"
    }
   ],
   "source": [
    "phat.str.me <-1.96*yhatse\n",
    "phat.str.confint <-c(hat_ybar_str-phat.str.me,hat_ybar_str+phat.str.me)\n",
    "str.matrix <-matrix(c(\"SampleMean.\",\"SE\",\"LowerBound95%CI\",\n",
    "\"Upper Bound95%CI\",\n",
    "round(hat_ybar_str,3), round(yhatse,3),\n",
    "round(phat.str.confint[1],3),\n",
    "round(phat.str.confint[2],3)), nrow=4)\n",
    "knitr::kable(x =str.matrix,col.names=c(\"\",\"Value\"))"
   ]
  },
  {
   "cell_type": "markdown",
   "id": "5a2a2747-bb3f-48ae-936c-8d00520dc060",
   "metadata": {},
   "source": [
    "### Binary Parameter Estimation"
   ]
  },
  {
   "cell_type": "code",
   "execution_count": 39,
   "id": "59cc8c48-0b02-41fc-945e-7ddd7b634b6e",
   "metadata": {},
   "outputs": [
    {
     "data": {
      "text/html": [
       "<style>\n",
       ".list-inline {list-style: none; margin:0; padding: 0}\n",
       ".list-inline>li {display: inline-block}\n",
       ".list-inline>li:not(:last-child)::after {content: \"\\00b7\"; padding: 0 .5ex}\n",
       "</style>\n",
       "<ol class=list-inline><li>' Asian-Pac-Islander'</li><li>' Black'</li><li>' Other'</li><li>' White'</li></ol>\n"
      ],
      "text/latex": [
       "\\begin{enumerate*}\n",
       "\\item ' Asian-Pac-Islander'\n",
       "\\item ' Black'\n",
       "\\item ' Other'\n",
       "\\item ' White'\n",
       "\\end{enumerate*}\n"
      ],
      "text/markdown": [
       "1. ' Asian-Pac-Islander'\n",
       "2. ' Black'\n",
       "3. ' Other'\n",
       "4. ' White'\n",
       "\n",
       "\n"
      ],
      "text/plain": [
       "[1] \" Asian-Pac-Islander\" \" Black\"              \" Other\"             \n",
       "[4] \" White\"             "
      ]
     },
     "metadata": {},
     "output_type": "display_data"
    }
   ],
   "source": [
    "level <- as.character(levels(as.factor(adult$race)))\n",
    "races <- as.character(adult$race)\n",
    "for (i in 1:length(races)) {\n",
    "    if (races[i] == level[1] | races[i] == level[4]) {\n",
    "        races[i] <- \" Other\"\n",
    "        }\n",
    "}\n",
    "adult$race <- as.factor(races)\n",
    "\n",
    "level <- as.character(levels(as.factor(adult$race)))\n",
    "level"
   ]
  },
  {
   "cell_type": "code",
   "execution_count": 40,
   "id": "80bf160f-0218-4446-aefb-cb1296f46135",
   "metadata": {},
   "outputs": [
    {
     "data": {
      "text/html": [
       "<style>\n",
       ".list-inline {list-style: none; margin:0; padding: 0}\n",
       ".list-inline>li {display: inline-block}\n",
       ".list-inline>li:not(:last-child)::after {content: \"\\00b7\"; padding: 0 .5ex}\n",
       "</style>\n",
       "<ol class=list-inline><li>1039</li><li>3124</li><li>582</li><li>27816</li></ol>\n"
      ],
      "text/latex": [
       "\\begin{enumerate*}\n",
       "\\item 1039\n",
       "\\item 3124\n",
       "\\item 582\n",
       "\\item 27816\n",
       "\\end{enumerate*}\n"
      ],
      "text/markdown": [
       "1. 1039\n",
       "2. 3124\n",
       "3. 582\n",
       "4. 27816\n",
       "\n",
       "\n"
      ],
      "text/plain": [
       "[1]  1039  3124   582 27816"
      ]
     },
     "metadata": {},
     "output_type": "display_data"
    }
   ],
   "source": [
    "stratum_n <-adult %>% \n",
    "    group_by(race) %>% \n",
    "    summarise(stratum_size = n()) %>%\n",
    "    pull(stratum_size)\n",
    "stratum_n"
   ]
  },
  {
   "cell_type": "code",
   "execution_count": 45,
   "id": "264bc2e7-19d0-4daf-902f-5873f9109816",
   "metadata": {},
   "outputs": [
    {
     "data": {
      "text/html": [
       "<table class=\"dataframe\">\n",
       "<caption>A tibble: 4 × 7</caption>\n",
       "<thead>\n",
       "\t<tr><th scope=col>income</th><th scope=col>race</th><th scope=col>num_greater_than_50K</th><th scope=col>stratum_size</th><th scope=col>p</th><th scope=col>allocation_prop</th><th scope=col>n_h</th></tr>\n",
       "\t<tr><th scope=col>&lt;fct&gt;</th><th scope=col>&lt;fct&gt;</th><th scope=col>&lt;int&gt;</th><th scope=col>&lt;int&gt;</th><th scope=col>&lt;dbl&gt;</th><th scope=col>&lt;dbl&gt;</th><th scope=col>&lt;dbl&gt;</th></tr>\n",
       "</thead>\n",
       "<tbody>\n",
       "\t<tr><td> &gt;50K</td><td> Asian-Pac-Islander</td><td> 276</td><td> 1039</td><td>0.2656400</td><td>0.03190934</td><td><span style=white-space:pre-wrap>  71</span></td></tr>\n",
       "\t<tr><td> &gt;50K</td><td><span style=white-space:pre-wrap> Black             </span></td><td> 387</td><td> 3124</td><td>0.1238796</td><td>0.09594300</td><td> 215</td></tr>\n",
       "\t<tr><td> &gt;50K</td><td><span style=white-space:pre-wrap> Other             </span></td><td><span style=white-space:pre-wrap>  61</span></td><td><span style=white-space:pre-wrap>  582</span></td><td>0.1048110</td><td>0.01787414</td><td><span style=white-space:pre-wrap>  40</span></td></tr>\n",
       "\t<tr><td> &gt;50K</td><td><span style=white-space:pre-wrap> White             </span></td><td>7117</td><td>27816</td><td>0.2558599</td><td>0.85427352</td><td>1910</td></tr>\n",
       "</tbody>\n",
       "</table>\n"
      ],
      "text/latex": [
       "A tibble: 4 × 7\n",
       "\\begin{tabular}{lllllll}\n",
       " income & race & num\\_greater\\_than\\_50K & stratum\\_size & p & allocation\\_prop & n\\_h\\\\\n",
       " <fct> & <fct> & <int> & <int> & <dbl> & <dbl> & <dbl>\\\\\n",
       "\\hline\n",
       "\t  >50K &  Asian-Pac-Islander &  276 &  1039 & 0.2656400 & 0.03190934 &   71\\\\\n",
       "\t  >50K &  Black              &  387 &  3124 & 0.1238796 & 0.09594300 &  215\\\\\n",
       "\t  >50K &  Other              &   61 &   582 & 0.1048110 & 0.01787414 &   40\\\\\n",
       "\t  >50K &  White              & 7117 & 27816 & 0.2558599 & 0.85427352 & 1910\\\\\n",
       "\\end{tabular}\n"
      ],
      "text/markdown": [
       "\n",
       "A tibble: 4 × 7\n",
       "\n",
       "| income &lt;fct&gt; | race &lt;fct&gt; | num_greater_than_50K &lt;int&gt; | stratum_size &lt;int&gt; | p &lt;dbl&gt; | allocation_prop &lt;dbl&gt; | n_h &lt;dbl&gt; |\n",
       "|---|---|---|---|---|---|---|\n",
       "|  &gt;50K |  Asian-Pac-Islander |  276 |  1039 | 0.2656400 | 0.03190934 |   71 |\n",
       "|  &gt;50K |  Black              |  387 |  3124 | 0.1238796 | 0.09594300 |  215 |\n",
       "|  &gt;50K |  Other              |   61 |   582 | 0.1048110 | 0.01787414 |   40 |\n",
       "|  &gt;50K |  White              | 7117 | 27816 | 0.2558599 | 0.85427352 | 1910 |\n",
       "\n"
      ],
      "text/plain": [
       "  income race                num_greater_than_50K stratum_size p        \n",
       "1  >50K   Asian-Pac-Islander  276                  1039        0.2656400\n",
       "2  >50K   Black               387                  3124        0.1238796\n",
       "3  >50K   Other                61                   582        0.1048110\n",
       "4  >50K   White              7117                 27816        0.2558599\n",
       "  allocation_prop n_h \n",
       "1 0.03190934        71\n",
       "2 0.09594300       215\n",
       "3 0.01787414        40\n",
       "4 0.85427352      1910"
      ]
     },
     "metadata": {},
     "output_type": "display_data"
    }
   ],
   "source": [
    "income_n_by_stratum <- adult %>% \n",
    "    group_by(income, race) %>% \n",
    "    summarise(num_greater_than_50K = n(),\n",
    "              .groups = \"drop\")\n",
    "stratum_size <- c(rep(stratum_n,2)) \n",
    "income_n_by_stratum$stratum_size <- stratum_size\n",
    "income_stratify_data <- income_n_by_stratum %>% \n",
    "            mutate(p = num_greater_than_50K/stratum_size,\n",
    "                   allocation_prop = stratum_size/N,\n",
    "                   n_h = round(n*allocation_prop)) %>%\n",
    "            slice(5:8)\n",
    "income_stratify_data"
   ]
  },
  {
   "cell_type": "code",
   "execution_count": 46,
   "id": "89cb4e5a-97a0-4f2a-8bd7-653711f6b43c",
   "metadata": {},
   "outputs": [],
   "source": [
    "binary_stratify_data <- adult %>% select(race, income)\n",
    "level <- levels(as.factor(binary_stratify_data$race))\n",
    "Asian <- binary_stratify_data %>% filter(race == level[1]) %>% pull(income)\n",
    "Black <- binary_stratify_data %>% filter(race == level[2]) %>% pull(income)\n",
    "Other <- binary_stratify_data %>% filter(race == level[3]) %>% pull(income)\n",
    "White <- binary_stratify_data %>% filter(race == level[4]) %>% pull(income)"
   ]
  },
  {
   "cell_type": "code",
   "execution_count": 49,
   "id": "cee6fdce-994e-49c9-aee6-68b169ecf6b7",
   "metadata": {},
   "outputs": [],
   "source": [
    "set.seed(123456)\n",
    "n_h <- income_stratify_data$n_h\n",
    "asian_sample <- sample(as.character(Asian), n_h[1])\n",
    "black_sample <- sample(as.character(Black), n_h[2])\n",
    "other_sample <- sample(as.character(Other), n_h[3])\n",
    "white_sample <- sample(as.character(White), n_h[4])\n"
   ]
  },
  {
   "cell_type": "code",
   "execution_count": 50,
   "id": "da3e6c83-bfc1-40a3-9522-5c58f603c667",
   "metadata": {},
   "outputs": [
    {
     "data": {
      "text/html": [
       "0.240640117043246"
      ],
      "text/latex": [
       "0.240640117043246"
      ],
      "text/markdown": [
       "0.240640117043246"
      ],
      "text/plain": [
       "[1] 0.2406401"
      ]
     },
     "metadata": {},
     "output_type": "display_data"
    }
   ],
   "source": [
    "asian_prop <- mean(asian_sample == \" >50K\")\n",
    "black_prop <- mean(black_sample == \" >50K\")\n",
    "other_prop <- mean(other_sample == \" >50K\")\n",
    "white_prop <- mean(white_sample == \" >50K\")\n",
    "props <- c(asian_prop, black_prop, other_prop, white_prop)\n",
    "subpopulation_prop <- income_stratify_data$allocation_prop\n",
    "prop_est <- sum(props*subpopulation_prop)\n",
    "prop_est"
   ]
  },
  {
   "cell_type": "code",
   "execution_count": 52,
   "id": "19b4af45-3a9e-469e-8da0-63bae9076ad1",
   "metadata": {},
   "outputs": [
    {
     "data": {
      "text/html": [
       "0.00867140559368381"
      ],
      "text/latex": [
       "0.00867140559368381"
      ],
      "text/markdown": [
       "0.00867140559368381"
      ],
      "text/plain": [
       "[1] 0.008671406"
      ]
     },
     "metadata": {},
     "output_type": "display_data"
    }
   ],
   "source": [
    "N_h <- income_stratify_data$stratum_size\n",
    "FPC = 1 - n_h/N_h\n",
    "asian_var = FPC[1]*asian_prop*(1-asian_prop)/n_h[1]\n",
    "black_var = FPC[2]*black_prop*(1-black_prop)/n_h[2]\n",
    "other_var = FPC[3]*other_prop*(1-other_prop)/n_h[3]\n",
    "white_var = FPC[4]*white_prop*(1-white_prop)/n_h[4]\n",
    "prop_var = c(asian_var, black_var, other_var, white_var)\n",
    "pooled_se = sqrt(sum(prop_var*(subpopulation_prop)^2))\n",
    "pooled_se"
   ]
  },
  {
   "cell_type": "code",
   "execution_count": 53,
   "id": "426c950e-86db-4441-bf5b-340203260536",
   "metadata": {},
   "outputs": [
    {
     "data": {
      "text/html": [
       "<table class=\"dataframe\">\n",
       "<caption>A data.frame: 4 × 2</caption>\n",
       "<thead>\n",
       "\t<tr><th scope=col>name</th><th scope=col>value</th></tr>\n",
       "\t<tr><th scope=col>&lt;chr&gt;</th><th scope=col>&lt;dbl&gt;</th></tr>\n",
       "</thead>\n",
       "<tbody>\n",
       "\t<tr><td>Proportion Estimate</td><td>0.2406401</td></tr>\n",
       "\t<tr><td>Proportion SE      </td><td>0.0086700</td></tr>\n",
       "\t<tr><td>Lower Bound        </td><td>0.2236442</td></tr>\n",
       "\t<tr><td>Upper Bound        </td><td>0.2576361</td></tr>\n",
       "</tbody>\n",
       "</table>\n"
      ],
      "text/latex": [
       "A data.frame: 4 × 2\n",
       "\\begin{tabular}{ll}\n",
       " name & value\\\\\n",
       " <chr> & <dbl>\\\\\n",
       "\\hline\n",
       "\t Proportion Estimate & 0.2406401\\\\\n",
       "\t Proportion SE       & 0.0086700\\\\\n",
       "\t Lower Bound         & 0.2236442\\\\\n",
       "\t Upper Bound         & 0.2576361\\\\\n",
       "\\end{tabular}\n"
      ],
      "text/markdown": [
       "\n",
       "A data.frame: 4 × 2\n",
       "\n",
       "| name &lt;chr&gt; | value &lt;dbl&gt; |\n",
       "|---|---|\n",
       "| Proportion Estimate | 0.2406401 |\n",
       "| Proportion SE       | 0.0086700 |\n",
       "| Lower Bound         | 0.2236442 |\n",
       "| Upper Bound         | 0.2576361 |\n",
       "\n"
      ],
      "text/plain": [
       "  name                value    \n",
       "1 Proportion Estimate 0.2406401\n",
       "2 Proportion SE       0.0086700\n",
       "3 Lower Bound         0.2236442\n",
       "4 Upper Bound         0.2576361"
      ]
     },
     "metadata": {},
     "output_type": "display_data"
    }
   ],
   "source": [
    "data.frame(name = c(\"Proportion Estimate\", \"Proportion SE\", \"Lower Bound\", \"Upper Bound\"),\n",
    "           value = c(prop_est,round(pooled_se,5),prop_est - 1.96*pooled_se,prop_est + 1.96*pooled_se))"
   ]
  }
 ],
 "metadata": {
  "kernelspec": {
   "display_name": "R",
   "language": "R",
   "name": "ir"
  },
  "language_info": {
   "codemirror_mode": "r",
   "file_extension": ".r",
   "mimetype": "text/x-r-source",
   "name": "R",
   "pygments_lexer": "r",
   "version": "4.0.5"
  }
 },
 "nbformat": 4,
 "nbformat_minor": 5
}
