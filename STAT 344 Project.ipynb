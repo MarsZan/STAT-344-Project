{
 "cells": [
  {
   "cell_type": "markdown",
   "id": "9695b958",
   "metadata": {},
   "source": [
    "# Part I\n"
   ]
  },
  {
   "cell_type": "markdown",
   "id": "22c0f05a-ed91-457b-85a1-700b194ff28a",
   "metadata": {},
   "source": [
    "#### Authors: Taniya Cai"
   ]
  },
  {
   "cell_type": "markdown",
   "id": "b29cc9f3",
   "metadata": {},
   "source": [
    "## Introduction\n"
   ]
  },
  {
   "cell_type": "markdown",
   "id": "3c94e4a5",
   "metadata": {},
   "source": [
    "## Population Parameters"
   ]
  },
  {
   "cell_type": "markdown",
   "id": "5b8449c5",
   "metadata": {},
   "source": [
    "## SRS"
   ]
  },
  {
   "cell_type": "markdown",
   "id": "d9e12d98",
   "metadata": {},
   "source": [
    "## Stratified Sampling\n",
    "\n",
    "In comparison with a simple random sampling, we can divide the population into sub-populations, then apply random sampling of each subgroups to more accurately reflect the population studied based on a set of chosen characteristics.\n",
    "\n",
    "* Assumptions: \n",
    "\n",
    "> All observations must be exactly under one and only one stratum.\n",
    "\n",
    "> Sampling from each stratum must be random\n",
    "\n",
    "* Hypothesis: \n",
    "\n",
    "> The value of the parameters chosen are the same across all stratum, that is , 1.) the proportion of personal income that exceeds $50K/yr is the same across all stratum, and 2.) the ........ is the same across all stratum."
   ]
  },
  {
   "cell_type": "markdown",
   "id": "e7f93a11",
   "metadata": {},
   "source": [
    "## Analysis and Comparison"
   ]
  },
  {
   "cell_type": "markdown",
   "id": "28b324b7",
   "metadata": {},
   "source": [
    "## Discussion "
   ]
  },
  {
   "cell_type": "markdown",
   "id": "1b3364e4",
   "metadata": {},
   "source": [
    "## Conclusion "
   ]
  },
  {
   "cell_type": "markdown",
   "id": "917b6550",
   "metadata": {},
   "source": [
    "# Part II"
   ]
  }
 ],
 "metadata": {
  "kernelspec": {
   "display_name": "R",
   "language": "R",
   "name": "ir"
  },
  "language_info": {
   "codemirror_mode": "r",
   "file_extension": ".r",
   "mimetype": "text/x-r-source",
   "name": "R",
   "pygments_lexer": "r",
   "version": "4.0.5"
  }
 },
 "nbformat": 4,
 "nbformat_minor": 5
}
